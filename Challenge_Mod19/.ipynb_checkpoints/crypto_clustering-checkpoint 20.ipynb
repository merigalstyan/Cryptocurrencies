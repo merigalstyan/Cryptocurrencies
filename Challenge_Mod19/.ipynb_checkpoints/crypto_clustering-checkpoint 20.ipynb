{
 "cells": [
  {
   "cell_type": "markdown",
   "metadata": {},
   "source": [
    "# Clustering Crypto"
   ]
  },
  {
   "cell_type": "code",
   "execution_count": 118,
   "metadata": {},
   "outputs": [],
   "source": [
    "# Initial imports\n",
    "import pandas as pd\n",
    "import hvplot.pandas\n",
    "from pathlib import Path\n",
    "import plotly.express as px\n",
    "from sklearn.preprocessing import StandardScaler, MinMaxScaler\n",
    "from sklearn.decomposition import PCA\n",
    "from sklearn.cluster import KMeans"
   ]
  },
  {
   "cell_type": "markdown",
   "metadata": {},
   "source": [
    "### Deliverable 1: Preprocessing the Data for PCA"
   ]
  },
  {
   "cell_type": "code",
   "execution_count": 119,
   "metadata": {},
   "outputs": [
    {
     "data": {
      "text/html": [
       "<div>\n",
       "<style scoped>\n",
       "    .dataframe tbody tr th:only-of-type {\n",
       "        vertical-align: middle;\n",
       "    }\n",
       "\n",
       "    .dataframe tbody tr th {\n",
       "        vertical-align: top;\n",
       "    }\n",
       "\n",
       "    .dataframe thead th {\n",
       "        text-align: right;\n",
       "    }\n",
       "</style>\n",
       "<table border=\"1\" class=\"dataframe\">\n",
       "  <thead>\n",
       "    <tr style=\"text-align: right;\">\n",
       "      <th></th>\n",
       "      <th>CoinName</th>\n",
       "      <th>Algorithm</th>\n",
       "      <th>IsTrading</th>\n",
       "      <th>ProofType</th>\n",
       "      <th>TotalCoinsMined</th>\n",
       "      <th>TotalCoinSupply</th>\n",
       "    </tr>\n",
       "  </thead>\n",
       "  <tbody>\n",
       "    <tr>\n",
       "      <th>42</th>\n",
       "      <td>42 Coin</td>\n",
       "      <td>Scrypt</td>\n",
       "      <td>True</td>\n",
       "      <td>PoW/PoS</td>\n",
       "      <td>4.199995e+01</td>\n",
       "      <td>42</td>\n",
       "    </tr>\n",
       "    <tr>\n",
       "      <th>365</th>\n",
       "      <td>365Coin</td>\n",
       "      <td>X11</td>\n",
       "      <td>True</td>\n",
       "      <td>PoW/PoS</td>\n",
       "      <td>NaN</td>\n",
       "      <td>2300000000</td>\n",
       "    </tr>\n",
       "    <tr>\n",
       "      <th>404</th>\n",
       "      <td>404Coin</td>\n",
       "      <td>Scrypt</td>\n",
       "      <td>True</td>\n",
       "      <td>PoW/PoS</td>\n",
       "      <td>1.055185e+09</td>\n",
       "      <td>532000000</td>\n",
       "    </tr>\n",
       "    <tr>\n",
       "      <th>611</th>\n",
       "      <td>SixEleven</td>\n",
       "      <td>SHA-256</td>\n",
       "      <td>True</td>\n",
       "      <td>PoW</td>\n",
       "      <td>NaN</td>\n",
       "      <td>611000</td>\n",
       "    </tr>\n",
       "    <tr>\n",
       "      <th>808</th>\n",
       "      <td>808</td>\n",
       "      <td>SHA-256</td>\n",
       "      <td>True</td>\n",
       "      <td>PoW/PoS</td>\n",
       "      <td>0.000000e+00</td>\n",
       "      <td>0</td>\n",
       "    </tr>\n",
       "  </tbody>\n",
       "</table>\n",
       "</div>"
      ],
      "text/plain": [
       "      CoinName Algorithm  IsTrading ProofType  TotalCoinsMined TotalCoinSupply\n",
       "42     42 Coin    Scrypt       True   PoW/PoS     4.199995e+01              42\n",
       "365    365Coin       X11       True   PoW/PoS              NaN      2300000000\n",
       "404    404Coin    Scrypt       True   PoW/PoS     1.055185e+09       532000000\n",
       "611  SixEleven   SHA-256       True       PoW              NaN          611000\n",
       "808        808   SHA-256       True   PoW/PoS     0.000000e+00               0"
      ]
     },
     "execution_count": 119,
     "metadata": {},
     "output_type": "execute_result"
    }
   ],
   "source": [
    "# Load the crypto_data.csv dataset.\n",
    "file = pd.read_csv(Path(\"./crypto_data.csv\"),index_col=0)\n",
    "df = pd.DataFrame(file)\n",
    "df.head()"
   ]
  },
  {
   "cell_type": "code",
   "execution_count": 120,
   "metadata": {},
   "outputs": [
    {
     "data": {
      "text/html": [
       "<div>\n",
       "<style scoped>\n",
       "    .dataframe tbody tr th:only-of-type {\n",
       "        vertical-align: middle;\n",
       "    }\n",
       "\n",
       "    .dataframe tbody tr th {\n",
       "        vertical-align: top;\n",
       "    }\n",
       "\n",
       "    .dataframe thead th {\n",
       "        text-align: right;\n",
       "    }\n",
       "</style>\n",
       "<table border=\"1\" class=\"dataframe\">\n",
       "  <thead>\n",
       "    <tr style=\"text-align: right;\">\n",
       "      <th></th>\n",
       "    </tr>\n",
       "  </thead>\n",
       "  <tbody>\n",
       "    <tr>\n",
       "      <th>42</th>\n",
       "    </tr>\n",
       "    <tr>\n",
       "      <th>365</th>\n",
       "    </tr>\n",
       "    <tr>\n",
       "      <th>404</th>\n",
       "    </tr>\n",
       "    <tr>\n",
       "      <th>611</th>\n",
       "    </tr>\n",
       "    <tr>\n",
       "      <th>808</th>\n",
       "    </tr>\n",
       "  </tbody>\n",
       "</table>\n",
       "</div>"
      ],
      "text/plain": [
       "Empty DataFrame\n",
       "Columns: []\n",
       "Index: [42, 365, 404, 611, 808]"
      ]
     },
     "execution_count": 120,
     "metadata": {},
     "output_type": "execute_result"
    }
   ],
   "source": [
    "# Keep all the cryptocurrencies that are being traded.\n",
    "crypto_df = df.filter(df['IsTrading'] == True)\n",
    "crypto_df.head()"
   ]
  },
  {
   "cell_type": "code",
   "execution_count": 117,
   "metadata": {},
   "outputs": [
    {
     "ename": "KeyError",
     "evalue": "\"['IsTrading'] not found in axis\"",
     "output_type": "error",
     "traceback": [
      "\u001b[0;31m---------------------------------------------------------------------------\u001b[0m",
      "\u001b[0;31mKeyError\u001b[0m                                  Traceback (most recent call last)",
      "\u001b[0;32m/var/folders/vq/991z51mx6xg65640yx8wj_vh0000gn/T/ipykernel_33778/638166348.py\u001b[0m in \u001b[0;36m<module>\u001b[0;34m\u001b[0m\n\u001b[1;32m      1\u001b[0m \u001b[0;31m# Remove the \"IsTrading\" column.\u001b[0m\u001b[0;34m\u001b[0m\u001b[0;34m\u001b[0m\u001b[0;34m\u001b[0m\u001b[0m\n\u001b[0;32m----> 2\u001b[0;31m \u001b[0mcrypto\u001b[0m \u001b[0;34m=\u001b[0m \u001b[0mcrypto_df\u001b[0m\u001b[0;34m.\u001b[0m\u001b[0mdrop\u001b[0m\u001b[0;34m(\u001b[0m\u001b[0;34m\"IsTrading\"\u001b[0m\u001b[0;34m,\u001b[0m \u001b[0maxis\u001b[0m\u001b[0;34m=\u001b[0m\u001b[0;36m1\u001b[0m\u001b[0;34m)\u001b[0m\u001b[0;34m\u001b[0m\u001b[0;34m\u001b[0m\u001b[0m\n\u001b[0m\u001b[1;32m      3\u001b[0m \u001b[0mcrypto\u001b[0m\u001b[0;34m.\u001b[0m\u001b[0mhead\u001b[0m\u001b[0;34m(\u001b[0m\u001b[0;34m)\u001b[0m\u001b[0;34m\u001b[0m\u001b[0;34m\u001b[0m\u001b[0m\n",
      "\u001b[0;32m~/opt/anaconda3/envs/mlenv/lib/python3.7/site-packages/pandas/util/_decorators.py\u001b[0m in \u001b[0;36mwrapper\u001b[0;34m(*args, **kwargs)\u001b[0m\n\u001b[1;32m    309\u001b[0m                     \u001b[0mstacklevel\u001b[0m\u001b[0;34m=\u001b[0m\u001b[0mstacklevel\u001b[0m\u001b[0;34m,\u001b[0m\u001b[0;34m\u001b[0m\u001b[0;34m\u001b[0m\u001b[0m\n\u001b[1;32m    310\u001b[0m                 )\n\u001b[0;32m--> 311\u001b[0;31m             \u001b[0;32mreturn\u001b[0m \u001b[0mfunc\u001b[0m\u001b[0;34m(\u001b[0m\u001b[0;34m*\u001b[0m\u001b[0margs\u001b[0m\u001b[0;34m,\u001b[0m \u001b[0;34m**\u001b[0m\u001b[0mkwargs\u001b[0m\u001b[0;34m)\u001b[0m\u001b[0;34m\u001b[0m\u001b[0;34m\u001b[0m\u001b[0m\n\u001b[0m\u001b[1;32m    312\u001b[0m \u001b[0;34m\u001b[0m\u001b[0m\n\u001b[1;32m    313\u001b[0m         \u001b[0;32mreturn\u001b[0m \u001b[0mwrapper\u001b[0m\u001b[0;34m\u001b[0m\u001b[0;34m\u001b[0m\u001b[0m\n",
      "\u001b[0;32m~/opt/anaconda3/envs/mlenv/lib/python3.7/site-packages/pandas/core/frame.py\u001b[0m in \u001b[0;36mdrop\u001b[0;34m(self, labels, axis, index, columns, level, inplace, errors)\u001b[0m\n\u001b[1;32m   4911\u001b[0m             \u001b[0mlevel\u001b[0m\u001b[0;34m=\u001b[0m\u001b[0mlevel\u001b[0m\u001b[0;34m,\u001b[0m\u001b[0;34m\u001b[0m\u001b[0;34m\u001b[0m\u001b[0m\n\u001b[1;32m   4912\u001b[0m             \u001b[0minplace\u001b[0m\u001b[0;34m=\u001b[0m\u001b[0minplace\u001b[0m\u001b[0;34m,\u001b[0m\u001b[0;34m\u001b[0m\u001b[0;34m\u001b[0m\u001b[0m\n\u001b[0;32m-> 4913\u001b[0;31m             \u001b[0merrors\u001b[0m\u001b[0;34m=\u001b[0m\u001b[0merrors\u001b[0m\u001b[0;34m,\u001b[0m\u001b[0;34m\u001b[0m\u001b[0;34m\u001b[0m\u001b[0m\n\u001b[0m\u001b[1;32m   4914\u001b[0m         )\n\u001b[1;32m   4915\u001b[0m \u001b[0;34m\u001b[0m\u001b[0m\n",
      "\u001b[0;32m~/opt/anaconda3/envs/mlenv/lib/python3.7/site-packages/pandas/core/generic.py\u001b[0m in \u001b[0;36mdrop\u001b[0;34m(self, labels, axis, index, columns, level, inplace, errors)\u001b[0m\n\u001b[1;32m   4148\u001b[0m         \u001b[0;32mfor\u001b[0m \u001b[0maxis\u001b[0m\u001b[0;34m,\u001b[0m \u001b[0mlabels\u001b[0m \u001b[0;32min\u001b[0m \u001b[0maxes\u001b[0m\u001b[0;34m.\u001b[0m\u001b[0mitems\u001b[0m\u001b[0;34m(\u001b[0m\u001b[0;34m)\u001b[0m\u001b[0;34m:\u001b[0m\u001b[0;34m\u001b[0m\u001b[0;34m\u001b[0m\u001b[0m\n\u001b[1;32m   4149\u001b[0m             \u001b[0;32mif\u001b[0m \u001b[0mlabels\u001b[0m \u001b[0;32mis\u001b[0m \u001b[0;32mnot\u001b[0m \u001b[0;32mNone\u001b[0m\u001b[0;34m:\u001b[0m\u001b[0;34m\u001b[0m\u001b[0;34m\u001b[0m\u001b[0m\n\u001b[0;32m-> 4150\u001b[0;31m                 \u001b[0mobj\u001b[0m \u001b[0;34m=\u001b[0m \u001b[0mobj\u001b[0m\u001b[0;34m.\u001b[0m\u001b[0m_drop_axis\u001b[0m\u001b[0;34m(\u001b[0m\u001b[0mlabels\u001b[0m\u001b[0;34m,\u001b[0m \u001b[0maxis\u001b[0m\u001b[0;34m,\u001b[0m \u001b[0mlevel\u001b[0m\u001b[0;34m=\u001b[0m\u001b[0mlevel\u001b[0m\u001b[0;34m,\u001b[0m \u001b[0merrors\u001b[0m\u001b[0;34m=\u001b[0m\u001b[0merrors\u001b[0m\u001b[0;34m)\u001b[0m\u001b[0;34m\u001b[0m\u001b[0;34m\u001b[0m\u001b[0m\n\u001b[0m\u001b[1;32m   4151\u001b[0m \u001b[0;34m\u001b[0m\u001b[0m\n\u001b[1;32m   4152\u001b[0m         \u001b[0;32mif\u001b[0m \u001b[0minplace\u001b[0m\u001b[0;34m:\u001b[0m\u001b[0;34m\u001b[0m\u001b[0;34m\u001b[0m\u001b[0m\n",
      "\u001b[0;32m~/opt/anaconda3/envs/mlenv/lib/python3.7/site-packages/pandas/core/generic.py\u001b[0m in \u001b[0;36m_drop_axis\u001b[0;34m(self, labels, axis, level, errors)\u001b[0m\n\u001b[1;32m   4183\u001b[0m                 \u001b[0mnew_axis\u001b[0m \u001b[0;34m=\u001b[0m \u001b[0maxis\u001b[0m\u001b[0;34m.\u001b[0m\u001b[0mdrop\u001b[0m\u001b[0;34m(\u001b[0m\u001b[0mlabels\u001b[0m\u001b[0;34m,\u001b[0m \u001b[0mlevel\u001b[0m\u001b[0;34m=\u001b[0m\u001b[0mlevel\u001b[0m\u001b[0;34m,\u001b[0m \u001b[0merrors\u001b[0m\u001b[0;34m=\u001b[0m\u001b[0merrors\u001b[0m\u001b[0;34m)\u001b[0m\u001b[0;34m\u001b[0m\u001b[0;34m\u001b[0m\u001b[0m\n\u001b[1;32m   4184\u001b[0m             \u001b[0;32melse\u001b[0m\u001b[0;34m:\u001b[0m\u001b[0;34m\u001b[0m\u001b[0;34m\u001b[0m\u001b[0m\n\u001b[0;32m-> 4185\u001b[0;31m                 \u001b[0mnew_axis\u001b[0m \u001b[0;34m=\u001b[0m \u001b[0maxis\u001b[0m\u001b[0;34m.\u001b[0m\u001b[0mdrop\u001b[0m\u001b[0;34m(\u001b[0m\u001b[0mlabels\u001b[0m\u001b[0;34m,\u001b[0m \u001b[0merrors\u001b[0m\u001b[0;34m=\u001b[0m\u001b[0merrors\u001b[0m\u001b[0;34m)\u001b[0m\u001b[0;34m\u001b[0m\u001b[0;34m\u001b[0m\u001b[0m\n\u001b[0m\u001b[1;32m   4186\u001b[0m             \u001b[0mresult\u001b[0m \u001b[0;34m=\u001b[0m \u001b[0mself\u001b[0m\u001b[0;34m.\u001b[0m\u001b[0mreindex\u001b[0m\u001b[0;34m(\u001b[0m\u001b[0;34m**\u001b[0m\u001b[0;34m{\u001b[0m\u001b[0maxis_name\u001b[0m\u001b[0;34m:\u001b[0m \u001b[0mnew_axis\u001b[0m\u001b[0;34m}\u001b[0m\u001b[0;34m)\u001b[0m\u001b[0;34m\u001b[0m\u001b[0;34m\u001b[0m\u001b[0m\n\u001b[1;32m   4187\u001b[0m \u001b[0;34m\u001b[0m\u001b[0m\n",
      "\u001b[0;32m~/opt/anaconda3/envs/mlenv/lib/python3.7/site-packages/pandas/core/indexes/base.py\u001b[0m in \u001b[0;36mdrop\u001b[0;34m(self, labels, errors)\u001b[0m\n\u001b[1;32m   6015\u001b[0m         \u001b[0;32mif\u001b[0m \u001b[0mmask\u001b[0m\u001b[0;34m.\u001b[0m\u001b[0many\u001b[0m\u001b[0;34m(\u001b[0m\u001b[0;34m)\u001b[0m\u001b[0;34m:\u001b[0m\u001b[0;34m\u001b[0m\u001b[0;34m\u001b[0m\u001b[0m\n\u001b[1;32m   6016\u001b[0m             \u001b[0;32mif\u001b[0m \u001b[0merrors\u001b[0m \u001b[0;34m!=\u001b[0m \u001b[0;34m\"ignore\"\u001b[0m\u001b[0;34m:\u001b[0m\u001b[0;34m\u001b[0m\u001b[0;34m\u001b[0m\u001b[0m\n\u001b[0;32m-> 6017\u001b[0;31m                 \u001b[0;32mraise\u001b[0m \u001b[0mKeyError\u001b[0m\u001b[0;34m(\u001b[0m\u001b[0;34mf\"{labels[mask]} not found in axis\"\u001b[0m\u001b[0;34m)\u001b[0m\u001b[0;34m\u001b[0m\u001b[0;34m\u001b[0m\u001b[0m\n\u001b[0m\u001b[1;32m   6018\u001b[0m             \u001b[0mindexer\u001b[0m \u001b[0;34m=\u001b[0m \u001b[0mindexer\u001b[0m\u001b[0;34m[\u001b[0m\u001b[0;34m~\u001b[0m\u001b[0mmask\u001b[0m\u001b[0;34m]\u001b[0m\u001b[0;34m\u001b[0m\u001b[0;34m\u001b[0m\u001b[0m\n\u001b[1;32m   6019\u001b[0m         \u001b[0;32mreturn\u001b[0m \u001b[0mself\u001b[0m\u001b[0;34m.\u001b[0m\u001b[0mdelete\u001b[0m\u001b[0;34m(\u001b[0m\u001b[0mindexer\u001b[0m\u001b[0;34m)\u001b[0m\u001b[0;34m\u001b[0m\u001b[0;34m\u001b[0m\u001b[0m\n",
      "\u001b[0;31mKeyError\u001b[0m: \"['IsTrading'] not found in axis\""
     ]
    }
   ],
   "source": [
    "# Remove the \"IsTrading\" column. \n",
    "crypto = crypto_df.drop(\"IsTrading\", axis=1)\n",
    "crypto.head()\n"
   ]
  },
  {
   "cell_type": "code",
   "execution_count": 38,
   "metadata": {},
   "outputs": [
    {
     "name": "stdout",
     "output_type": "stream",
     "text": [
      "Column CoinName has 0 null values\n",
      "Column Algorithm has 0 null values\n",
      "Column ProofType has 0 null values\n",
      "Column TotalCoinsMined has 508 null values\n",
      "Column TotalCoinSupply has 0 null values\n"
     ]
    }
   ],
   "source": [
    "# Remove rows that have at least 1 null value.\n",
    "for col in crypto.columns:\n",
    "    print(f\"Column {col} has {crypto[col].isnull().sum()} null values\")"
   ]
  },
  {
   "cell_type": "code",
   "execution_count": 39,
   "metadata": {},
   "outputs": [],
   "source": [
    "crypto_clean = crypto.dropna()"
   ]
  },
  {
   "cell_type": "code",
   "execution_count": 40,
   "metadata": {},
   "outputs": [
    {
     "data": {
      "text/html": [
       "<div>\n",
       "<style scoped>\n",
       "    .dataframe tbody tr th:only-of-type {\n",
       "        vertical-align: middle;\n",
       "    }\n",
       "\n",
       "    .dataframe tbody tr th {\n",
       "        vertical-align: top;\n",
       "    }\n",
       "\n",
       "    .dataframe thead th {\n",
       "        text-align: right;\n",
       "    }\n",
       "</style>\n",
       "<table border=\"1\" class=\"dataframe\">\n",
       "  <thead>\n",
       "    <tr style=\"text-align: right;\">\n",
       "      <th></th>\n",
       "      <th>CoinName</th>\n",
       "      <th>Algorithm</th>\n",
       "      <th>ProofType</th>\n",
       "      <th>TotalCoinsMined</th>\n",
       "      <th>TotalCoinSupply</th>\n",
       "    </tr>\n",
       "  </thead>\n",
       "  <tbody>\n",
       "    <tr>\n",
       "      <th>42</th>\n",
       "      <td>42 Coin</td>\n",
       "      <td>Scrypt</td>\n",
       "      <td>PoW/PoS</td>\n",
       "      <td>4.199995e+01</td>\n",
       "      <td>42</td>\n",
       "    </tr>\n",
       "    <tr>\n",
       "      <th>404</th>\n",
       "      <td>404Coin</td>\n",
       "      <td>Scrypt</td>\n",
       "      <td>PoW/PoS</td>\n",
       "      <td>1.055185e+09</td>\n",
       "      <td>532000000</td>\n",
       "    </tr>\n",
       "    <tr>\n",
       "      <th>1337</th>\n",
       "      <td>EliteCoin</td>\n",
       "      <td>X13</td>\n",
       "      <td>PoW/PoS</td>\n",
       "      <td>2.927942e+10</td>\n",
       "      <td>314159265359</td>\n",
       "    </tr>\n",
       "    <tr>\n",
       "      <th>BTC</th>\n",
       "      <td>Bitcoin</td>\n",
       "      <td>SHA-256</td>\n",
       "      <td>PoW</td>\n",
       "      <td>1.792718e+07</td>\n",
       "      <td>21000000</td>\n",
       "    </tr>\n",
       "    <tr>\n",
       "      <th>ETH</th>\n",
       "      <td>Ethereum</td>\n",
       "      <td>Ethash</td>\n",
       "      <td>PoW</td>\n",
       "      <td>1.076842e+08</td>\n",
       "      <td>0</td>\n",
       "    </tr>\n",
       "  </tbody>\n",
       "</table>\n",
       "</div>"
      ],
      "text/plain": [
       "       CoinName Algorithm ProofType  TotalCoinsMined TotalCoinSupply\n",
       "42      42 Coin    Scrypt   PoW/PoS     4.199995e+01              42\n",
       "404     404Coin    Scrypt   PoW/PoS     1.055185e+09       532000000\n",
       "1337  EliteCoin       X13   PoW/PoS     2.927942e+10    314159265359\n",
       "BTC     Bitcoin   SHA-256       PoW     1.792718e+07        21000000\n",
       "ETH    Ethereum    Ethash       PoW     1.076842e+08               0"
      ]
     },
     "execution_count": 40,
     "metadata": {},
     "output_type": "execute_result"
    }
   ],
   "source": [
    "# Keep the rows where coins are mined.\n",
    "crypto_mined = crypto_clean[crypto_clean['TotalCoinsMined'] > 0]\n",
    "crypto_mined.head()"
   ]
  },
  {
   "cell_type": "code",
   "execution_count": 41,
   "metadata": {},
   "outputs": [
    {
     "data": {
      "text/html": [
       "<div>\n",
       "<style scoped>\n",
       "    .dataframe tbody tr th:only-of-type {\n",
       "        vertical-align: middle;\n",
       "    }\n",
       "\n",
       "    .dataframe tbody tr th {\n",
       "        vertical-align: top;\n",
       "    }\n",
       "\n",
       "    .dataframe thead th {\n",
       "        text-align: right;\n",
       "    }\n",
       "</style>\n",
       "<table border=\"1\" class=\"dataframe\">\n",
       "  <thead>\n",
       "    <tr style=\"text-align: right;\">\n",
       "      <th></th>\n",
       "      <th>CoinName</th>\n",
       "    </tr>\n",
       "  </thead>\n",
       "  <tbody>\n",
       "    <tr>\n",
       "      <th>42</th>\n",
       "      <td>42 Coin</td>\n",
       "    </tr>\n",
       "    <tr>\n",
       "      <th>404</th>\n",
       "      <td>404Coin</td>\n",
       "    </tr>\n",
       "    <tr>\n",
       "      <th>1337</th>\n",
       "      <td>EliteCoin</td>\n",
       "    </tr>\n",
       "    <tr>\n",
       "      <th>BTC</th>\n",
       "      <td>Bitcoin</td>\n",
       "    </tr>\n",
       "    <tr>\n",
       "      <th>ETH</th>\n",
       "      <td>Ethereum</td>\n",
       "    </tr>\n",
       "  </tbody>\n",
       "</table>\n",
       "</div>"
      ],
      "text/plain": [
       "       CoinName\n",
       "42      42 Coin\n",
       "404     404Coin\n",
       "1337  EliteCoin\n",
       "BTC     Bitcoin\n",
       "ETH    Ethereum"
      ]
     },
     "execution_count": 41,
     "metadata": {},
     "output_type": "execute_result"
    }
   ],
   "source": [
    "# Create a new DataFrame that holds only the cryptocurrencies names.\n",
    "crypto_name_df = pd.DataFrame(crypto_mined[\"CoinName\"])\n",
    "crypto_name_df.head(5)"
   ]
  },
  {
   "cell_type": "code",
   "execution_count": 42,
   "metadata": {},
   "outputs": [
    {
     "data": {
      "text/html": [
       "<div>\n",
       "<style scoped>\n",
       "    .dataframe tbody tr th:only-of-type {\n",
       "        vertical-align: middle;\n",
       "    }\n",
       "\n",
       "    .dataframe tbody tr th {\n",
       "        vertical-align: top;\n",
       "    }\n",
       "\n",
       "    .dataframe thead th {\n",
       "        text-align: right;\n",
       "    }\n",
       "</style>\n",
       "<table border=\"1\" class=\"dataframe\">\n",
       "  <thead>\n",
       "    <tr style=\"text-align: right;\">\n",
       "      <th></th>\n",
       "      <th>Algorithm</th>\n",
       "      <th>ProofType</th>\n",
       "      <th>TotalCoinsMined</th>\n",
       "      <th>TotalCoinSupply</th>\n",
       "    </tr>\n",
       "  </thead>\n",
       "  <tbody>\n",
       "    <tr>\n",
       "      <th>42</th>\n",
       "      <td>Scrypt</td>\n",
       "      <td>PoW/PoS</td>\n",
       "      <td>4.199995e+01</td>\n",
       "      <td>42</td>\n",
       "    </tr>\n",
       "    <tr>\n",
       "      <th>404</th>\n",
       "      <td>Scrypt</td>\n",
       "      <td>PoW/PoS</td>\n",
       "      <td>1.055185e+09</td>\n",
       "      <td>532000000</td>\n",
       "    </tr>\n",
       "    <tr>\n",
       "      <th>1337</th>\n",
       "      <td>X13</td>\n",
       "      <td>PoW/PoS</td>\n",
       "      <td>2.927942e+10</td>\n",
       "      <td>314159265359</td>\n",
       "    </tr>\n",
       "    <tr>\n",
       "      <th>BTC</th>\n",
       "      <td>SHA-256</td>\n",
       "      <td>PoW</td>\n",
       "      <td>1.792718e+07</td>\n",
       "      <td>21000000</td>\n",
       "    </tr>\n",
       "    <tr>\n",
       "      <th>ETH</th>\n",
       "      <td>Ethash</td>\n",
       "      <td>PoW</td>\n",
       "      <td>1.076842e+08</td>\n",
       "      <td>0</td>\n",
       "    </tr>\n",
       "  </tbody>\n",
       "</table>\n",
       "</div>"
      ],
      "text/plain": [
       "     Algorithm ProofType  TotalCoinsMined TotalCoinSupply\n",
       "42      Scrypt   PoW/PoS     4.199995e+01              42\n",
       "404     Scrypt   PoW/PoS     1.055185e+09       532000000\n",
       "1337       X13   PoW/PoS     2.927942e+10    314159265359\n",
       "BTC    SHA-256       PoW     1.792718e+07        21000000\n",
       "ETH     Ethash       PoW     1.076842e+08               0"
      ]
     },
     "execution_count": 42,
     "metadata": {},
     "output_type": "execute_result"
    }
   ],
   "source": [
    "# Drop the 'CoinName' column since it's not going to be used on the clustering algorithm.\n",
    "df_crypto = crypto_mined.drop(\"CoinName\", axis=1)\n",
    "df_crypto.head()"
   ]
  },
  {
   "cell_type": "code",
   "execution_count": 43,
   "metadata": {},
   "outputs": [
    {
     "data": {
      "text/html": [
       "<div>\n",
       "<style scoped>\n",
       "    .dataframe tbody tr th:only-of-type {\n",
       "        vertical-align: middle;\n",
       "    }\n",
       "\n",
       "    .dataframe tbody tr th {\n",
       "        vertical-align: top;\n",
       "    }\n",
       "\n",
       "    .dataframe thead th {\n",
       "        text-align: right;\n",
       "    }\n",
       "</style>\n",
       "<table border=\"1\" class=\"dataframe\">\n",
       "  <thead>\n",
       "    <tr style=\"text-align: right;\">\n",
       "      <th></th>\n",
       "      <th>TotalCoinsMined</th>\n",
       "      <th>TotalCoinSupply</th>\n",
       "      <th>Algorithm_1GB AES Pattern Search</th>\n",
       "      <th>Algorithm_536</th>\n",
       "      <th>Algorithm_Argon2d</th>\n",
       "      <th>Algorithm_BLAKE256</th>\n",
       "      <th>Algorithm_Blake</th>\n",
       "      <th>Algorithm_Blake2S</th>\n",
       "      <th>Algorithm_Blake2b</th>\n",
       "      <th>Algorithm_C11</th>\n",
       "      <th>...</th>\n",
       "      <th>ProofType_PoW/PoS</th>\n",
       "      <th>ProofType_PoW/PoS</th>\n",
       "      <th>ProofType_PoW/PoW</th>\n",
       "      <th>ProofType_PoW/nPoS</th>\n",
       "      <th>ProofType_Pos</th>\n",
       "      <th>ProofType_Proof of Authority</th>\n",
       "      <th>ProofType_Proof of Trust</th>\n",
       "      <th>ProofType_TPoS</th>\n",
       "      <th>ProofType_Zero-Knowledge Proof</th>\n",
       "      <th>ProofType_dPoW/PoW</th>\n",
       "    </tr>\n",
       "  </thead>\n",
       "  <tbody>\n",
       "    <tr>\n",
       "      <th>42</th>\n",
       "      <td>4.199995e+01</td>\n",
       "      <td>42</td>\n",
       "      <td>0</td>\n",
       "      <td>0</td>\n",
       "      <td>0</td>\n",
       "      <td>0</td>\n",
       "      <td>0</td>\n",
       "      <td>0</td>\n",
       "      <td>0</td>\n",
       "      <td>0</td>\n",
       "      <td>...</td>\n",
       "      <td>1</td>\n",
       "      <td>0</td>\n",
       "      <td>0</td>\n",
       "      <td>0</td>\n",
       "      <td>0</td>\n",
       "      <td>0</td>\n",
       "      <td>0</td>\n",
       "      <td>0</td>\n",
       "      <td>0</td>\n",
       "      <td>0</td>\n",
       "    </tr>\n",
       "    <tr>\n",
       "      <th>404</th>\n",
       "      <td>1.055185e+09</td>\n",
       "      <td>532000000</td>\n",
       "      <td>0</td>\n",
       "      <td>0</td>\n",
       "      <td>0</td>\n",
       "      <td>0</td>\n",
       "      <td>0</td>\n",
       "      <td>0</td>\n",
       "      <td>0</td>\n",
       "      <td>0</td>\n",
       "      <td>...</td>\n",
       "      <td>1</td>\n",
       "      <td>0</td>\n",
       "      <td>0</td>\n",
       "      <td>0</td>\n",
       "      <td>0</td>\n",
       "      <td>0</td>\n",
       "      <td>0</td>\n",
       "      <td>0</td>\n",
       "      <td>0</td>\n",
       "      <td>0</td>\n",
       "    </tr>\n",
       "    <tr>\n",
       "      <th>1337</th>\n",
       "      <td>2.927942e+10</td>\n",
       "      <td>314159265359</td>\n",
       "      <td>0</td>\n",
       "      <td>0</td>\n",
       "      <td>0</td>\n",
       "      <td>0</td>\n",
       "      <td>0</td>\n",
       "      <td>0</td>\n",
       "      <td>0</td>\n",
       "      <td>0</td>\n",
       "      <td>...</td>\n",
       "      <td>1</td>\n",
       "      <td>0</td>\n",
       "      <td>0</td>\n",
       "      <td>0</td>\n",
       "      <td>0</td>\n",
       "      <td>0</td>\n",
       "      <td>0</td>\n",
       "      <td>0</td>\n",
       "      <td>0</td>\n",
       "      <td>0</td>\n",
       "    </tr>\n",
       "    <tr>\n",
       "      <th>BTC</th>\n",
       "      <td>1.792718e+07</td>\n",
       "      <td>21000000</td>\n",
       "      <td>0</td>\n",
       "      <td>0</td>\n",
       "      <td>0</td>\n",
       "      <td>0</td>\n",
       "      <td>0</td>\n",
       "      <td>0</td>\n",
       "      <td>0</td>\n",
       "      <td>0</td>\n",
       "      <td>...</td>\n",
       "      <td>0</td>\n",
       "      <td>0</td>\n",
       "      <td>0</td>\n",
       "      <td>0</td>\n",
       "      <td>0</td>\n",
       "      <td>0</td>\n",
       "      <td>0</td>\n",
       "      <td>0</td>\n",
       "      <td>0</td>\n",
       "      <td>0</td>\n",
       "    </tr>\n",
       "    <tr>\n",
       "      <th>ETH</th>\n",
       "      <td>1.076842e+08</td>\n",
       "      <td>0</td>\n",
       "      <td>0</td>\n",
       "      <td>0</td>\n",
       "      <td>0</td>\n",
       "      <td>0</td>\n",
       "      <td>0</td>\n",
       "      <td>0</td>\n",
       "      <td>0</td>\n",
       "      <td>0</td>\n",
       "      <td>...</td>\n",
       "      <td>0</td>\n",
       "      <td>0</td>\n",
       "      <td>0</td>\n",
       "      <td>0</td>\n",
       "      <td>0</td>\n",
       "      <td>0</td>\n",
       "      <td>0</td>\n",
       "      <td>0</td>\n",
       "      <td>0</td>\n",
       "      <td>0</td>\n",
       "    </tr>\n",
       "  </tbody>\n",
       "</table>\n",
       "<p>5 rows × 101 columns</p>\n",
       "</div>"
      ],
      "text/plain": [
       "      TotalCoinsMined TotalCoinSupply  Algorithm_1GB AES Pattern Search  \\\n",
       "42       4.199995e+01              42                                 0   \n",
       "404      1.055185e+09       532000000                                 0   \n",
       "1337     2.927942e+10    314159265359                                 0   \n",
       "BTC      1.792718e+07        21000000                                 0   \n",
       "ETH      1.076842e+08               0                                 0   \n",
       "\n",
       "      Algorithm_536  Algorithm_Argon2d  Algorithm_BLAKE256  Algorithm_Blake  \\\n",
       "42                0                  0                   0                0   \n",
       "404               0                  0                   0                0   \n",
       "1337              0                  0                   0                0   \n",
       "BTC               0                  0                   0                0   \n",
       "ETH               0                  0                   0                0   \n",
       "\n",
       "      Algorithm_Blake2S  Algorithm_Blake2b  Algorithm_C11  ...  \\\n",
       "42                    0                  0              0  ...   \n",
       "404                   0                  0              0  ...   \n",
       "1337                  0                  0              0  ...   \n",
       "BTC                   0                  0              0  ...   \n",
       "ETH                   0                  0              0  ...   \n",
       "\n",
       "      ProofType_PoW/PoS  ProofType_PoW/PoS   ProofType_PoW/PoW  \\\n",
       "42                    1                   0                  0   \n",
       "404                   1                   0                  0   \n",
       "1337                  1                   0                  0   \n",
       "BTC                   0                   0                  0   \n",
       "ETH                   0                   0                  0   \n",
       "\n",
       "      ProofType_PoW/nPoS  ProofType_Pos  ProofType_Proof of Authority  \\\n",
       "42                     0              0                             0   \n",
       "404                    0              0                             0   \n",
       "1337                   0              0                             0   \n",
       "BTC                    0              0                             0   \n",
       "ETH                    0              0                             0   \n",
       "\n",
       "      ProofType_Proof of Trust  ProofType_TPoS  \\\n",
       "42                           0               0   \n",
       "404                          0               0   \n",
       "1337                         0               0   \n",
       "BTC                          0               0   \n",
       "ETH                          0               0   \n",
       "\n",
       "      ProofType_Zero-Knowledge Proof  ProofType_dPoW/PoW  \n",
       "42                                 0                   0  \n",
       "404                                0                   0  \n",
       "1337                               0                   0  \n",
       "BTC                                0                   0  \n",
       "ETH                                0                   0  \n",
       "\n",
       "[5 rows x 101 columns]"
      ]
     },
     "execution_count": 43,
     "metadata": {},
     "output_type": "execute_result"
    }
   ],
   "source": [
    "# Use get_dummies() to create variables for text features.\n",
    "crypto_dummies = pd.get_dummies(df_crypto, columns=['Algorithm', 'ProofType'])\n",
    "crypto_dummies.head()"
   ]
  },
  {
   "cell_type": "code",
   "execution_count": 44,
   "metadata": {},
   "outputs": [
    {
     "data": {
      "text/plain": [
       "array([[-0.11450078, -0.15072489, -0.04166667, ..., -0.04166667,\n",
       "        -0.04166667, -0.04166667],\n",
       "       [-0.09041991, -0.14255828, -0.04166667, ..., -0.04166667,\n",
       "        -0.04166667, -0.04166667],\n",
       "       [ 0.55369883,  4.67185916, -0.04166667, ..., -0.04166667,\n",
       "        -0.04166667, -0.04166667],\n",
       "       ...,\n",
       "       [-0.11433426, -0.15040252, -0.04166667, ..., -0.04166667,\n",
       "        -0.04166667, -0.04166667],\n",
       "       [-0.11449785, -0.15070954, -0.04166667, ..., -0.04166667,\n",
       "        -0.04166667, -0.04166667],\n",
       "       [-0.11401032, -0.14918981, -0.04166667, ..., -0.04166667,\n",
       "        -0.04166667, -0.04166667]])"
      ]
     },
     "execution_count": 44,
     "metadata": {},
     "output_type": "execute_result"
    }
   ],
   "source": [
    "# Standardize the data with StandardScaler().\n",
    "X = StandardScaler().fit_transform(crypto_dummies)\n",
    "X"
   ]
  },
  {
   "cell_type": "markdown",
   "metadata": {},
   "source": [
    "### Deliverable 2: Reducing Data Dimensions Using PCA"
   ]
  },
  {
   "cell_type": "code",
   "execution_count": 45,
   "metadata": {},
   "outputs": [
    {
     "data": {
      "text/html": [
       "<div>\n",
       "<style scoped>\n",
       "    .dataframe tbody tr th:only-of-type {\n",
       "        vertical-align: middle;\n",
       "    }\n",
       "\n",
       "    .dataframe tbody tr th {\n",
       "        vertical-align: top;\n",
       "    }\n",
       "\n",
       "    .dataframe thead th {\n",
       "        text-align: right;\n",
       "    }\n",
       "</style>\n",
       "<table border=\"1\" class=\"dataframe\">\n",
       "  <thead>\n",
       "    <tr style=\"text-align: right;\">\n",
       "      <th></th>\n",
       "      <th>PC 1</th>\n",
       "      <th>PC 2</th>\n",
       "      <th>PC 3</th>\n",
       "    </tr>\n",
       "  </thead>\n",
       "  <tbody>\n",
       "    <tr>\n",
       "      <th>42</th>\n",
       "      <td>-0.330175</td>\n",
       "      <td>1.188305</td>\n",
       "      <td>-0.566748</td>\n",
       "    </tr>\n",
       "    <tr>\n",
       "      <th>404</th>\n",
       "      <td>-0.312827</td>\n",
       "      <td>1.188452</td>\n",
       "      <td>-0.567157</td>\n",
       "    </tr>\n",
       "    <tr>\n",
       "      <th>1337</th>\n",
       "      <td>2.423097</td>\n",
       "      <td>1.674492</td>\n",
       "      <td>-0.602953</td>\n",
       "    </tr>\n",
       "    <tr>\n",
       "      <th>BTC</th>\n",
       "      <td>-0.137707</td>\n",
       "      <td>-1.363180</td>\n",
       "      <td>0.187101</td>\n",
       "    </tr>\n",
       "    <tr>\n",
       "      <th>ETH</th>\n",
       "      <td>-0.126265</td>\n",
       "      <td>-2.105115</td>\n",
       "      <td>0.404492</td>\n",
       "    </tr>\n",
       "    <tr>\n",
       "      <th>LTC</th>\n",
       "      <td>-0.163318</td>\n",
       "      <td>-1.020337</td>\n",
       "      <td>-0.040389</td>\n",
       "    </tr>\n",
       "    <tr>\n",
       "      <th>DASH</th>\n",
       "      <td>-0.388890</td>\n",
       "      <td>1.266444</td>\n",
       "      <td>-0.478699</td>\n",
       "    </tr>\n",
       "    <tr>\n",
       "      <th>XMR</th>\n",
       "      <td>-0.143680</td>\n",
       "      <td>-2.288496</td>\n",
       "      <td>0.342457</td>\n",
       "    </tr>\n",
       "    <tr>\n",
       "      <th>ETC</th>\n",
       "      <td>-0.124648</td>\n",
       "      <td>-2.105216</td>\n",
       "      <td>0.404474</td>\n",
       "    </tr>\n",
       "    <tr>\n",
       "      <th>ZEC</th>\n",
       "      <td>-0.164640</td>\n",
       "      <td>-2.090365</td>\n",
       "      <td>0.440329</td>\n",
       "    </tr>\n",
       "  </tbody>\n",
       "</table>\n",
       "</div>"
      ],
      "text/plain": [
       "          PC 1      PC 2      PC 3\n",
       "42   -0.330175  1.188305 -0.566748\n",
       "404  -0.312827  1.188452 -0.567157\n",
       "1337  2.423097  1.674492 -0.602953\n",
       "BTC  -0.137707 -1.363180  0.187101\n",
       "ETH  -0.126265 -2.105115  0.404492\n",
       "LTC  -0.163318 -1.020337 -0.040389\n",
       "DASH -0.388890  1.266444 -0.478699\n",
       "XMR  -0.143680 -2.288496  0.342457\n",
       "ETC  -0.124648 -2.105216  0.404474\n",
       "ZEC  -0.164640 -2.090365  0.440329"
      ]
     },
     "execution_count": 45,
     "metadata": {},
     "output_type": "execute_result"
    }
   ],
   "source": [
    "# Using PCA to reduce dimension to three principal components.\n",
    "pca = PCA(n_components=3)\n",
    "X_pca = pca.fit_transform(X)\n",
    "\n",
    "# Create a DataFrame with the three principal components.\n",
    "pcs_df = pd.DataFrame(\n",
    "data = X_pca, columns=[\"PC 1\", \"PC 2\", \"PC 3\"], index=df_crypto.index)\n",
    "pcs_df.head(10)"
   ]
  },
  {
   "cell_type": "markdown",
   "metadata": {},
   "source": [
    "### Deliverable 3: Clustering Crytocurrencies Using K-Means\n",
    "\n",
    "#### Finding the Best Value for `k` Using the Elbow Curve"
   ]
  },
  {
   "cell_type": "code",
   "execution_count": 46,
   "metadata": {},
   "outputs": [
    {
     "data": {},
     "metadata": {},
     "output_type": "display_data"
    },
    {
     "data": {
      "application/vnd.holoviews_exec.v0+json": "",
      "text/html": [
       "<div id='1329'>\n",
       "  <div class=\"bk-root\" id=\"d0a6d443-b8e8-4ec7-9369-c0958793dd80\" data-root-id=\"1329\"></div>\n",
       "</div>\n",
       "<script type=\"application/javascript\">(function(root) {\n",
       "  function embed_document(root) {\n",
       "    var docs_json = {\"482c7f4f-8c04-4dc7-ac00-1d3c6cd3d2c6\":{\"defs\":[{\"extends\":null,\"module\":null,\"name\":\"ReactiveHTML1\",\"overrides\":[],\"properties\":[]},{\"extends\":null,\"module\":null,\"name\":\"FlexBox1\",\"overrides\":[],\"properties\":[{\"default\":\"flex-start\",\"kind\":null,\"name\":\"align_content\"},{\"default\":\"flex-start\",\"kind\":null,\"name\":\"align_items\"},{\"default\":\"row\",\"kind\":null,\"name\":\"flex_direction\"},{\"default\":\"wrap\",\"kind\":null,\"name\":\"flex_wrap\"},{\"default\":\"flex-start\",\"kind\":null,\"name\":\"justify_content\"}]},{\"extends\":null,\"module\":null,\"name\":\"GridStack1\",\"overrides\":[],\"properties\":[{\"default\":\"warn\",\"kind\":null,\"name\":\"mode\"},{\"default\":null,\"kind\":null,\"name\":\"ncols\"},{\"default\":null,\"kind\":null,\"name\":\"nrows\"},{\"default\":true,\"kind\":null,\"name\":\"allow_resize\"},{\"default\":true,\"kind\":null,\"name\":\"allow_drag\"},{\"default\":[],\"kind\":null,\"name\":\"state\"}]},{\"extends\":null,\"module\":null,\"name\":\"click1\",\"overrides\":[],\"properties\":[{\"default\":\"\",\"kind\":null,\"name\":\"terminal_output\"},{\"default\":\"\",\"kind\":null,\"name\":\"debug_name\"},{\"default\":0,\"kind\":null,\"name\":\"clears\"}]},{\"extends\":null,\"module\":null,\"name\":\"NotificationAreaBase1\",\"overrides\":[],\"properties\":[{\"default\":\"bottom-right\",\"kind\":null,\"name\":\"position\"},{\"default\":0,\"kind\":null,\"name\":\"_clear\"}]},{\"extends\":null,\"module\":null,\"name\":\"NotificationArea1\",\"overrides\":[],\"properties\":[{\"default\":[],\"kind\":null,\"name\":\"notifications\"},{\"default\":\"bottom-right\",\"kind\":null,\"name\":\"position\"},{\"default\":0,\"kind\":null,\"name\":\"_clear\"},{\"default\":[{\"background\":\"#ffc107\",\"icon\":{\"className\":\"fas fa-exclamation-triangle\",\"color\":\"white\",\"tagName\":\"i\"},\"type\":\"warning\"},{\"background\":\"#007bff\",\"icon\":{\"className\":\"fas fa-info-circle\",\"color\":\"white\",\"tagName\":\"i\"},\"type\":\"info\"}],\"kind\":null,\"name\":\"types\"}]},{\"extends\":null,\"module\":null,\"name\":\"Notification\",\"overrides\":[],\"properties\":[{\"default\":null,\"kind\":null,\"name\":\"background\"},{\"default\":3000,\"kind\":null,\"name\":\"duration\"},{\"default\":null,\"kind\":null,\"name\":\"icon\"},{\"default\":\"\",\"kind\":null,\"name\":\"message\"},{\"default\":null,\"kind\":null,\"name\":\"notification_type\"},{\"default\":false,\"kind\":null,\"name\":\"_destroyed\"}]},{\"extends\":null,\"module\":null,\"name\":\"TemplateActions1\",\"overrides\":[],\"properties\":[{\"default\":0,\"kind\":null,\"name\":\"open_modal\"},{\"default\":0,\"kind\":null,\"name\":\"close_modal\"}]},{\"extends\":null,\"module\":null,\"name\":\"MaterialTemplateActions1\",\"overrides\":[],\"properties\":[{\"default\":0,\"kind\":null,\"name\":\"open_modal\"},{\"default\":0,\"kind\":null,\"name\":\"close_modal\"}]}],\"roots\":{\"references\":[{\"attributes\":{\"coordinates\":null,\"data_source\":{\"id\":\"1364\"},\"glyph\":{\"id\":\"1367\"},\"group\":null,\"hover_glyph\":null,\"muted_glyph\":{\"id\":\"1369\"},\"nonselection_glyph\":{\"id\":\"1368\"},\"selection_glyph\":{\"id\":\"1372\"},\"view\":{\"id\":\"1371\"}},\"id\":\"1370\",\"type\":\"GlyphRenderer\"},{\"attributes\":{},\"id\":\"1376\",\"type\":\"AllLabels\"},{\"attributes\":{\"data\":{\"inertia\":{\"__ndarray__\":\"EBbMZ07IrkAiL4F0WeikQMrLtG01SJlAE0CaYflAgUC6jYuawTl1QCddKHosZnBA8iGmAP6jakBiS5vq6jtmQCp2YDIdB2NAY+CnzT6eX0A=\",\"dtype\":\"float64\",\"order\":\"little\",\"shape\":[10]},\"k\":[1,2,3,4,5,6,7,8,9,10]},\"selected\":{\"id\":\"1365\"},\"selection_policy\":{\"id\":\"1388\"}},\"id\":\"1364\",\"type\":\"ColumnDataSource\"},{\"attributes\":{},\"id\":\"1375\",\"type\":\"BasicTickFormatter\"},{\"attributes\":{\"line_color\":\"#30a2da\",\"line_width\":2,\"x\":{\"field\":\"k\"},\"y\":{\"field\":\"inertia\"}},\"id\":\"1372\",\"type\":\"Line\"},{\"attributes\":{\"source\":{\"id\":\"1364\"}},\"id\":\"1371\",\"type\":\"CDSView\"},{\"attributes\":{\"callback\":null,\"renderers\":[{\"id\":\"1370\"}],\"tags\":[\"hv_created\"],\"tooltips\":[[\"k\",\"@{k}\"],[\"inertia\",\"@{inertia}\"]]},\"id\":\"1333\",\"type\":\"HoverTool\"},{\"attributes\":{\"margin\":[5,5,5,5],\"name\":\"HSpacer01180\",\"sizing_mode\":\"stretch_width\"},\"id\":\"1391\",\"type\":\"Spacer\"},{\"attributes\":{},\"id\":\"1351\",\"type\":\"SaveTool\"},{\"attributes\":{\"ticks\":[1,2,3,4,5,6,7,8,9,10]},\"id\":\"1373\",\"type\":\"FixedTicker\"},{\"attributes\":{},\"id\":\"1352\",\"type\":\"PanTool\"},{\"attributes\":{\"below\":[{\"id\":\"1343\"}],\"center\":[{\"id\":\"1346\"},{\"id\":\"1350\"}],\"height\":300,\"left\":[{\"id\":\"1347\"}],\"margin\":[5,5,5,5],\"min_border_bottom\":10,\"min_border_left\":10,\"min_border_right\":10,\"min_border_top\":10,\"renderers\":[{\"id\":\"1370\"}],\"sizing_mode\":\"fixed\",\"title\":{\"id\":\"1335\"},\"toolbar\":{\"id\":\"1357\"},\"width\":700,\"x_range\":{\"id\":\"1331\"},\"x_scale\":{\"id\":\"1339\"},\"y_range\":{\"id\":\"1332\"},\"y_scale\":{\"id\":\"1341\"}},\"id\":\"1334\",\"subtype\":\"Figure\",\"type\":\"Plot\"},{\"attributes\":{},\"id\":\"1353\",\"type\":\"WheelZoomTool\"},{\"attributes\":{\"tools\":[{\"id\":\"1333\"},{\"id\":\"1351\"},{\"id\":\"1352\"},{\"id\":\"1353\"},{\"id\":\"1354\"},{\"id\":\"1355\"}]},\"id\":\"1357\",\"type\":\"Toolbar\"},{\"attributes\":{},\"id\":\"1381\",\"type\":\"AllLabels\"},{\"attributes\":{\"overlay\":{\"id\":\"1356\"}},\"id\":\"1354\",\"type\":\"BoxZoomTool\"},{\"attributes\":{},\"id\":\"1388\",\"type\":\"UnionRenderers\"},{\"attributes\":{},\"id\":\"1339\",\"type\":\"LinearScale\"},{\"attributes\":{\"coordinates\":null,\"group\":null,\"text\":\"Elbow Curve\",\"text_color\":\"black\",\"text_font_size\":\"12pt\"},\"id\":\"1335\",\"type\":\"Title\"},{\"attributes\":{\"line_alpha\":0.2,\"line_color\":\"#30a2da\",\"line_width\":2,\"x\":{\"field\":\"k\"},\"y\":{\"field\":\"inertia\"}},\"id\":\"1369\",\"type\":\"Line\"},{\"attributes\":{\"margin\":[5,5,5,5],\"name\":\"HSpacer01179\",\"sizing_mode\":\"stretch_width\"},\"id\":\"1330\",\"type\":\"Spacer\"},{\"attributes\":{},\"id\":\"1355\",\"type\":\"ResetTool\"},{\"attributes\":{\"axis\":{\"id\":\"1347\"},\"coordinates\":null,\"dimension\":1,\"grid_line_color\":null,\"group\":null,\"ticker\":null},\"id\":\"1350\",\"type\":\"Grid\"},{\"attributes\":{},\"id\":\"1341\",\"type\":\"LinearScale\"},{\"attributes\":{\"bottom_units\":\"screen\",\"coordinates\":null,\"fill_alpha\":0.5,\"fill_color\":\"lightgrey\",\"group\":null,\"left_units\":\"screen\",\"level\":\"overlay\",\"line_alpha\":1.0,\"line_color\":\"black\",\"line_dash\":[4,4],\"line_width\":2,\"right_units\":\"screen\",\"syncable\":false,\"top_units\":\"screen\"},\"id\":\"1356\",\"type\":\"BoxAnnotation\"},{\"attributes\":{\"children\":[{\"id\":\"1330\"},{\"id\":\"1334\"},{\"id\":\"1391\"}],\"margin\":[0,0,0,0],\"name\":\"Row01175\",\"tags\":[\"embedded\"]},\"id\":\"1329\",\"type\":\"Row\"},{\"attributes\":{\"axis_label\":\"k\",\"coordinates\":null,\"formatter\":{\"id\":\"1375\"},\"group\":null,\"major_label_policy\":{\"id\":\"1376\"},\"ticker\":{\"id\":\"1373\"}},\"id\":\"1343\",\"type\":\"LinearAxis\"},{\"attributes\":{},\"id\":\"1380\",\"type\":\"BasicTickFormatter\"},{\"attributes\":{\"axis\":{\"id\":\"1343\"},\"coordinates\":null,\"grid_line_color\":null,\"group\":null,\"ticker\":null},\"id\":\"1346\",\"type\":\"Grid\"},{\"attributes\":{\"end\":10.0,\"reset_end\":10.0,\"reset_start\":1.0,\"start\":1.0,\"tags\":[[[\"k\",\"k\",null]]]},\"id\":\"1331\",\"type\":\"Range1d\"},{\"attributes\":{},\"id\":\"1348\",\"type\":\"BasicTicker\"},{\"attributes\":{\"axis_label\":\"inertia\",\"coordinates\":null,\"formatter\":{\"id\":\"1380\"},\"group\":null,\"major_label_policy\":{\"id\":\"1381\"},\"ticker\":{\"id\":\"1348\"}},\"id\":\"1347\",\"type\":\"LinearAxis\"},{\"attributes\":{},\"id\":\"1365\",\"type\":\"Selection\"},{\"attributes\":{\"line_color\":\"#30a2da\",\"line_width\":2,\"x\":{\"field\":\"k\"},\"y\":{\"field\":\"inertia\"}},\"id\":\"1367\",\"type\":\"Line\"},{\"attributes\":{\"end\":4321.521190904683,\"reset_end\":4321.521190904683,\"reset_start\":-254.89547203296019,\"start\":-254.89547203296019,\"tags\":[[[\"inertia\",\"inertia\",null]]]},\"id\":\"1332\",\"type\":\"Range1d\"},{\"attributes\":{\"line_alpha\":0.1,\"line_color\":\"#30a2da\",\"line_width\":2,\"x\":{\"field\":\"k\"},\"y\":{\"field\":\"inertia\"}},\"id\":\"1368\",\"type\":\"Line\"}],\"root_ids\":[\"1329\"]},\"title\":\"Bokeh Application\",\"version\":\"2.4.3\"}};\n",
       "    var render_items = [{\"docid\":\"482c7f4f-8c04-4dc7-ac00-1d3c6cd3d2c6\",\"root_ids\":[\"1329\"],\"roots\":{\"1329\":\"d0a6d443-b8e8-4ec7-9369-c0958793dd80\"}}];\n",
       "    root.Bokeh.embed.embed_items_notebook(docs_json, render_items);\n",
       "  }\n",
       "  if (root.Bokeh !== undefined && root.Bokeh.Panel !== undefined) {\n",
       "    embed_document(root);\n",
       "  } else {\n",
       "    var attempts = 0;\n",
       "    var timer = setInterval(function(root) {\n",
       "      if (root.Bokeh !== undefined && root.Bokeh.Panel !== undefined) {\n",
       "        clearInterval(timer);\n",
       "        embed_document(root);\n",
       "      } else if (document.readyState == \"complete\") {\n",
       "        attempts++;\n",
       "        if (attempts > 200) {\n",
       "          clearInterval(timer);\n",
       "          console.log(\"Bokeh: ERROR: Unable to run BokehJS code because BokehJS library is missing\");\n",
       "        }\n",
       "      }\n",
       "    }, 25, root)\n",
       "  }\n",
       "})(window);</script>"
      ],
      "text/plain": [
       ":Curve   [k]   (inertia)"
      ]
     },
     "execution_count": 46,
     "metadata": {
      "application/vnd.holoviews_exec.v0+json": {
       "id": "1329"
      }
     },
     "output_type": "execute_result"
    }
   ],
   "source": [
    "# Create an elbow curve to find the best value for K.\n",
    "inertia = []\n",
    "k = list(range(1,11))\n",
    "\n",
    "for i in k:\n",
    "    km = KMeans(n_clusters=i, random_state=1)\n",
    "    km.fit(pcs_df)\n",
    "    inertia.append(km.inertia_)\n",
    "    \n",
    "elbow_data = {\"k\": k, \"inertia\": inertia}\n",
    "df_elbow = pd.DataFrame(elbow_data)\n",
    "df_elbow.hvplot.line(x=\"k\", y=\"inertia\", xticks=k, title=\"Elbow Curve\")"
   ]
  },
  {
   "cell_type": "markdown",
   "metadata": {},
   "source": [
    "Running K-Means with `k=4`"
   ]
  },
  {
   "cell_type": "code",
   "execution_count": 47,
   "metadata": {},
   "outputs": [
    {
     "data": {
      "text/plain": [
       "array([0, 0, 0, 1, 1, 1, 0, 1, 1, 1, 0, 1, 0, 0, 1, 0, 1, 1, 0, 0, 1, 1,\n",
       "       1, 1, 1, 0, 1, 1, 1, 0, 1, 0, 1, 1, 0, 0, 1, 1, 1, 1, 1, 1, 0, 0,\n",
       "       1, 1, 1, 1, 1, 0, 0, 1, 0, 1, 1, 1, 1, 0, 1, 1, 0, 1, 0, 0, 0, 1,\n",
       "       1, 1, 0, 0, 0, 0, 0, 1, 1, 1, 0, 0, 1, 0, 1, 0, 0, 1, 1, 1, 1, 0,\n",
       "       0, 1, 0, 1, 1, 0, 0, 1, 0, 0, 1, 1, 0, 0, 1, 0, 0, 1, 0, 1, 0, 1,\n",
       "       0, 1, 0, 0, 1, 1, 0, 1, 1, 1, 0, 1, 1, 1, 1, 1, 0, 0, 1, 1, 1, 0,\n",
       "       1, 0, 1, 1, 0, 1, 0, 1, 0, 0, 1, 1, 0, 1, 1, 0, 0, 1, 0, 1, 0, 0,\n",
       "       0, 1, 1, 1, 1, 0, 0, 0, 0, 0, 1, 1, 1, 0, 0, 0, 0, 0, 1, 0, 0, 0,\n",
       "       0, 0, 1, 0, 1, 0, 0, 1, 0, 1, 0, 0, 1, 0, 1, 0, 1, 0, 1, 0, 0, 0,\n",
       "       0, 1, 0, 0, 0, 0, 0, 1, 1, 0, 0, 1, 1, 0, 0, 0, 0, 0, 1, 0, 0, 0,\n",
       "       0, 0, 0, 0, 0, 1, 0, 0, 0, 0, 0, 0, 1, 1, 1, 0, 0, 0, 0, 1, 0, 1,\n",
       "       0, 0, 1, 0, 1, 1, 0, 1, 1, 0, 1, 0, 0, 0, 1, 0, 0, 1, 0, 0, 0, 0,\n",
       "       0, 0, 0, 1, 0, 1, 0, 0, 0, 0, 1, 0, 1, 0, 1, 1, 1, 1, 0, 1, 0, 0,\n",
       "       1, 0, 1, 1, 1, 0, 1, 0, 1, 1, 1, 0, 1, 0, 1, 0, 0, 0, 1, 0, 1, 1,\n",
       "       1, 1, 1, 0, 0, 1, 0, 0, 0, 1, 0, 1, 0, 1, 0, 1, 0, 0, 0, 0, 1, 0,\n",
       "       0, 1, 0, 0, 0, 1, 1, 1, 1, 0, 0, 0, 0, 0, 1, 0, 1, 1, 1, 0, 1, 0,\n",
       "       1, 1, 0, 0, 1, 0, 1, 1, 0, 0, 1, 1, 0, 1, 1, 0, 0, 0, 0, 1, 1, 1,\n",
       "       0, 1, 1, 0, 1, 1, 0, 1, 0, 1, 0, 1, 1, 0, 3, 3, 1, 1, 0, 0, 0, 1,\n",
       "       0, 3, 0, 0, 0, 0, 1, 1, 1, 1, 1, 0, 1, 0, 0, 0, 1, 0, 1, 0, 0, 0,\n",
       "       1, 0, 1, 0, 0, 1, 0, 0, 1, 1, 0, 1, 0, 1, 0, 0, 1, 0, 0, 1, 1, 0,\n",
       "       0, 0, 0, 1, 0, 1, 0, 0, 0, 0, 0, 1, 0, 0, 1, 1, 1, 0, 0, 0, 0, 0,\n",
       "       0, 0, 1, 1, 0, 1, 1, 1, 1, 1, 0, 1, 0, 0, 0, 1, 0, 0, 1, 0, 0, 0,\n",
       "       0, 1, 3, 1, 0, 1, 1, 0, 1, 0, 1, 0, 0, 1, 0, 1, 1, 1, 1, 1, 1, 1,\n",
       "       0, 1, 0, 1, 0, 0, 1, 1, 0, 0, 0, 0, 0, 1, 1, 1, 0, 0, 1, 0, 1, 0,\n",
       "       1, 0, 1, 0, 0, 0, 0, 1, 0, 0, 0, 1, 0, 1, 0, 1, 0, 0, 0, 1, 1, 0,\n",
       "       0, 0, 0, 0, 0, 1, 0, 1, 1, 0, 0, 1, 0, 0, 0, 3, 0, 0, 2, 1, 0, 0,\n",
       "       0, 1, 1, 0, 0], dtype=int32)"
      ]
     },
     "execution_count": 47,
     "metadata": {},
     "output_type": "execute_result"
    }
   ],
   "source": [
    "# Initialize the K-Means model.\n",
    "model = KMeans(n_clusters=4, random_state=0)\n",
    "# Fit the model\n",
    "model.fit(pcs_df)\n",
    "# Predict clusters\n",
    "preds = model.predict(pcs_df)\n",
    "preds"
   ]
  },
  {
   "cell_type": "code",
   "execution_count": 75,
   "metadata": {},
   "outputs": [
    {
     "name": "stdout",
     "output_type": "stream",
     "text": [
      "(577, 9)\n"
     ]
    },
    {
     "data": {
      "text/html": [
       "<div>\n",
       "<style scoped>\n",
       "    .dataframe tbody tr th:only-of-type {\n",
       "        vertical-align: middle;\n",
       "    }\n",
       "\n",
       "    .dataframe tbody tr th {\n",
       "        vertical-align: top;\n",
       "    }\n",
       "\n",
       "    .dataframe thead th {\n",
       "        text-align: right;\n",
       "    }\n",
       "</style>\n",
       "<table border=\"1\" class=\"dataframe\">\n",
       "  <thead>\n",
       "    <tr style=\"text-align: right;\">\n",
       "      <th></th>\n",
       "      <th>CoinName</th>\n",
       "      <th>Algorithm</th>\n",
       "      <th>ProofType</th>\n",
       "      <th>TotalCoinsMined</th>\n",
       "      <th>TotalCoinSupply</th>\n",
       "      <th>PC 1</th>\n",
       "      <th>PC 2</th>\n",
       "      <th>PC 3</th>\n",
       "      <th>class</th>\n",
       "    </tr>\n",
       "  </thead>\n",
       "  <tbody>\n",
       "    <tr>\n",
       "      <th>42</th>\n",
       "      <td>42 Coin</td>\n",
       "      <td>Scrypt</td>\n",
       "      <td>PoW/PoS</td>\n",
       "      <td>4.199995e+01</td>\n",
       "      <td>42</td>\n",
       "      <td>-0.330175</td>\n",
       "      <td>1.188305</td>\n",
       "      <td>-0.566748</td>\n",
       "      <td>0</td>\n",
       "    </tr>\n",
       "    <tr>\n",
       "      <th>404</th>\n",
       "      <td>404Coin</td>\n",
       "      <td>Scrypt</td>\n",
       "      <td>PoW/PoS</td>\n",
       "      <td>1.055185e+09</td>\n",
       "      <td>532000000</td>\n",
       "      <td>-0.312827</td>\n",
       "      <td>1.188452</td>\n",
       "      <td>-0.567157</td>\n",
       "      <td>0</td>\n",
       "    </tr>\n",
       "    <tr>\n",
       "      <th>1337</th>\n",
       "      <td>EliteCoin</td>\n",
       "      <td>X13</td>\n",
       "      <td>PoW/PoS</td>\n",
       "      <td>2.927942e+10</td>\n",
       "      <td>314159265359</td>\n",
       "      <td>2.423097</td>\n",
       "      <td>1.674492</td>\n",
       "      <td>-0.602953</td>\n",
       "      <td>0</td>\n",
       "    </tr>\n",
       "    <tr>\n",
       "      <th>BTC</th>\n",
       "      <td>Bitcoin</td>\n",
       "      <td>SHA-256</td>\n",
       "      <td>PoW</td>\n",
       "      <td>1.792718e+07</td>\n",
       "      <td>21000000</td>\n",
       "      <td>-0.137707</td>\n",
       "      <td>-1.363180</td>\n",
       "      <td>0.187101</td>\n",
       "      <td>1</td>\n",
       "    </tr>\n",
       "    <tr>\n",
       "      <th>ETH</th>\n",
       "      <td>Ethereum</td>\n",
       "      <td>Ethash</td>\n",
       "      <td>PoW</td>\n",
       "      <td>1.076842e+08</td>\n",
       "      <td>0</td>\n",
       "      <td>-0.126265</td>\n",
       "      <td>-2.105115</td>\n",
       "      <td>0.404492</td>\n",
       "      <td>1</td>\n",
       "    </tr>\n",
       "    <tr>\n",
       "      <th>LTC</th>\n",
       "      <td>Litecoin</td>\n",
       "      <td>Scrypt</td>\n",
       "      <td>PoW</td>\n",
       "      <td>6.303924e+07</td>\n",
       "      <td>84000000</td>\n",
       "      <td>-0.163318</td>\n",
       "      <td>-1.020337</td>\n",
       "      <td>-0.040389</td>\n",
       "      <td>1</td>\n",
       "    </tr>\n",
       "    <tr>\n",
       "      <th>DASH</th>\n",
       "      <td>Dash</td>\n",
       "      <td>X11</td>\n",
       "      <td>PoW/PoS</td>\n",
       "      <td>9.031294e+06</td>\n",
       "      <td>22000000</td>\n",
       "      <td>-0.388890</td>\n",
       "      <td>1.266444</td>\n",
       "      <td>-0.478699</td>\n",
       "      <td>0</td>\n",
       "    </tr>\n",
       "    <tr>\n",
       "      <th>XMR</th>\n",
       "      <td>Monero</td>\n",
       "      <td>CryptoNight-V7</td>\n",
       "      <td>PoW</td>\n",
       "      <td>1.720114e+07</td>\n",
       "      <td>0</td>\n",
       "      <td>-0.143680</td>\n",
       "      <td>-2.288496</td>\n",
       "      <td>0.342457</td>\n",
       "      <td>1</td>\n",
       "    </tr>\n",
       "    <tr>\n",
       "      <th>ETC</th>\n",
       "      <td>Ethereum Classic</td>\n",
       "      <td>Ethash</td>\n",
       "      <td>PoW</td>\n",
       "      <td>1.133597e+08</td>\n",
       "      <td>210000000</td>\n",
       "      <td>-0.124648</td>\n",
       "      <td>-2.105216</td>\n",
       "      <td>0.404474</td>\n",
       "      <td>1</td>\n",
       "    </tr>\n",
       "    <tr>\n",
       "      <th>ZEC</th>\n",
       "      <td>ZCash</td>\n",
       "      <td>Equihash</td>\n",
       "      <td>PoW</td>\n",
       "      <td>7.383056e+06</td>\n",
       "      <td>21000000</td>\n",
       "      <td>-0.164640</td>\n",
       "      <td>-2.090365</td>\n",
       "      <td>0.440329</td>\n",
       "      <td>1</td>\n",
       "    </tr>\n",
       "  </tbody>\n",
       "</table>\n",
       "</div>"
      ],
      "text/plain": [
       "              CoinName       Algorithm ProofType  TotalCoinsMined  \\\n",
       "42             42 Coin          Scrypt   PoW/PoS     4.199995e+01   \n",
       "404            404Coin          Scrypt   PoW/PoS     1.055185e+09   \n",
       "1337         EliteCoin             X13   PoW/PoS     2.927942e+10   \n",
       "BTC            Bitcoin         SHA-256       PoW     1.792718e+07   \n",
       "ETH           Ethereum          Ethash       PoW     1.076842e+08   \n",
       "LTC           Litecoin          Scrypt       PoW     6.303924e+07   \n",
       "DASH              Dash             X11   PoW/PoS     9.031294e+06   \n",
       "XMR             Monero  CryptoNight-V7       PoW     1.720114e+07   \n",
       "ETC   Ethereum Classic          Ethash       PoW     1.133597e+08   \n",
       "ZEC              ZCash        Equihash       PoW     7.383056e+06   \n",
       "\n",
       "     TotalCoinSupply      PC 1      PC 2      PC 3  class  \n",
       "42                42 -0.330175  1.188305 -0.566748      0  \n",
       "404        532000000 -0.312827  1.188452 -0.567157      0  \n",
       "1337    314159265359  2.423097  1.674492 -0.602953      0  \n",
       "BTC         21000000 -0.137707 -1.363180  0.187101      1  \n",
       "ETH                0 -0.126265 -2.105115  0.404492      1  \n",
       "LTC         84000000 -0.163318 -1.020337 -0.040389      1  \n",
       "DASH        22000000 -0.388890  1.266444 -0.478699      0  \n",
       "XMR                0 -0.143680 -2.288496  0.342457      1  \n",
       "ETC        210000000 -0.124648 -2.105216  0.404474      1  \n",
       "ZEC         21000000 -0.164640 -2.090365  0.440329      1  "
      ]
     },
     "execution_count": 75,
     "metadata": {},
     "output_type": "execute_result"
    }
   ],
   "source": [
    "# Create a new DataFrame including predicted clusters and cryptocurrencies features.\n",
    "# Concatentate the crypto_df and pcs_df DataFrames on the same columns.\n",
    "clustered_df = pd.concat([crypto_name_df,df_crypto, pcs_df], axis=1)\n",
    "#  Add a new column, \"CoinName\" to the clustered_df DataFrame that holds the names of the cryptocurrencies. \n",
    "clustered_df['class'] = model.labels_\n",
    "# Print the shape of the clustered_df\n",
    "print(clustered_df.shape)\n",
    "clustered_df.head(10)"
   ]
  },
  {
   "cell_type": "markdown",
   "metadata": {},
   "source": [
    "### Deliverable 4: Visualizing Cryptocurrencies Results\n",
    "\n",
    "#### 3D-Scatter with Clusters"
   ]
  },
  {
   "cell_type": "code",
   "execution_count": 76,
   "metadata": {},
   "outputs": [
    {
     "data": {
      "application/vnd.plotly.v1+json": {
       "config": {
        "plotlyServerURL": "https://plot.ly"
       },
       "data": [
        {
         "customdata": [
          [
           "Scrypt"
          ],
          [
           "Scrypt"
          ],
          [
           "X13"
          ],
          [
           "X11"
          ],
          [
           "SHA-512"
          ],
          [
           "SHA-256"
          ],
          [
           "SHA-256"
          ],
          [
           "X15"
          ],
          [
           "Scrypt"
          ],
          [
           "Scrypt"
          ],
          [
           "Scrypt"
          ],
          [
           "Scrypt"
          ],
          [
           "Scrypt"
          ],
          [
           "Scrypt"
          ],
          [
           "Groestl"
          ],
          [
           "PoS"
          ],
          [
           "Scrypt"
          ],
          [
           "Scrypt"
          ],
          [
           "X11"
          ],
          [
           "X11"
          ],
          [
           "SHA3"
          ],
          [
           "Scrypt"
          ],
          [
           "SHA-256"
          ],
          [
           "Scrypt"
          ],
          [
           "X13"
          ],
          [
           "X13"
          ],
          [
           "NeoScrypt"
          ],
          [
           "Scrypt"
          ],
          [
           "Scrypt"
          ],
          [
           "Scrypt"
          ],
          [
           "X11"
          ],
          [
           "X11"
          ],
          [
           "Multiple"
          ],
          [
           "PHI1612"
          ],
          [
           "X11"
          ],
          [
           "Scrypt"
          ],
          [
           "Scrypt"
          ],
          [
           "Scrypt"
          ],
          [
           "X11"
          ],
          [
           "Multiple"
          ],
          [
           "X13"
          ],
          [
           "Scrypt"
          ],
          [
           "Shabal256"
          ],
          [
           "Counterparty"
          ],
          [
           "SHA-256"
          ],
          [
           "Groestl"
          ],
          [
           "Scrypt"
          ],
          [
           "X13"
          ],
          [
           "Scrypt"
          ],
          [
           "Scrypt"
          ],
          [
           "X13"
          ],
          [
           "X11"
          ],
          [
           "Scrypt"
          ],
          [
           "X11"
          ],
          [
           "SHA3"
          ],
          [
           "QUAIT"
          ],
          [
           "X11"
          ],
          [
           "Scrypt"
          ],
          [
           "X13"
          ],
          [
           "SHA-256"
          ],
          [
           "X15"
          ],
          [
           "BLAKE256"
          ],
          [
           "SHA-256"
          ],
          [
           "X11"
          ],
          [
           "SHA-256"
          ],
          [
           "NIST5"
          ],
          [
           "Scrypt"
          ],
          [
           "Scrypt"
          ],
          [
           "X11"
          ],
          [
           "Scrypt"
          ],
          [
           "SHA-256"
          ],
          [
           "Scrypt"
          ],
          [
           "PoS"
          ],
          [
           "X11"
          ],
          [
           "SHA-256"
          ],
          [
           "SHA-256"
          ],
          [
           "NIST5"
          ],
          [
           "X11"
          ],
          [
           "POS 3.0"
          ],
          [
           "Scrypt"
          ],
          [
           "Scrypt"
          ],
          [
           "Scrypt"
          ],
          [
           "X13"
          ],
          [
           "X11"
          ],
          [
           "X11"
          ],
          [
           "Scrypt"
          ],
          [
           "SHA-256"
          ],
          [
           "X11"
          ],
          [
           "Scrypt"
          ],
          [
           "Scrypt"
          ],
          [
           "Scrypt"
          ],
          [
           "Scrypt"
          ],
          [
           "SHA-256D"
          ],
          [
           "PoS"
          ],
          [
           "Scrypt"
          ],
          [
           "X11"
          ],
          [
           "PoS"
          ],
          [
           "X13"
          ],
          [
           "X14"
          ],
          [
           "PoS"
          ],
          [
           "SHA-256D"
          ],
          [
           "DPoS"
          ],
          [
           "X11"
          ],
          [
           "X13"
          ],
          [
           "X11"
          ],
          [
           "PoS"
          ],
          [
           "Scrypt"
          ],
          [
           "Scrypt"
          ],
          [
           "PoS"
          ],
          [
           "X11"
          ],
          [
           "SHA-256"
          ],
          [
           "Scrypt"
          ],
          [
           "X11"
          ],
          [
           "Scrypt"
          ],
          [
           "Scrypt"
          ],
          [
           "X11"
          ],
          [
           "Scrypt"
          ],
          [
           "Scrypt"
          ],
          [
           "Scrypt"
          ],
          [
           "Scrypt"
          ],
          [
           "Quark"
          ],
          [
           "QuBit"
          ],
          [
           "Scrypt"
          ],
          [
           "SHA-256"
          ],
          [
           "X11"
          ],
          [
           "Scrypt"
          ],
          [
           "Scrypt"
          ],
          [
           "Scrypt"
          ],
          [
           "Scrypt"
          ],
          [
           "X13"
          ],
          [
           "Scrypt"
          ],
          [
           "Scrypt"
          ],
          [
           "X11"
          ],
          [
           "Blake2S"
          ],
          [
           "X11"
          ],
          [
           "PoS"
          ],
          [
           "X11"
          ],
          [
           "PoS"
          ],
          [
           "X11"
          ],
          [
           "Scrypt"
          ],
          [
           "Scrypt"
          ],
          [
           "Scrypt"
          ],
          [
           "SHA-256"
          ],
          [
           "X11"
          ],
          [
           "Scrypt"
          ],
          [
           "PoS"
          ],
          [
           "Scrypt"
          ],
          [
           "X15"
          ],
          [
           "SHA-256"
          ],
          [
           "POS 3.0"
          ],
          [
           "536"
          ],
          [
           "NIST5"
          ],
          [
           "NIST5"
          ],
          [
           "Skein"
          ],
          [
           "X13"
          ],
          [
           "Scrypt"
          ],
          [
           "X13"
          ],
          [
           "SkunkHash v2 Raptor"
          ],
          [
           "Skein"
          ],
          [
           "X11"
          ],
          [
           "Scrypt"
          ],
          [
           "VeChainThor Authority"
          ],
          [
           "PoS"
          ],
          [
           "Scrypt"
          ],
          [
           "Scrypt"
          ],
          [
           "SHA-512"
          ],
          [
           "Ouroboros"
          ],
          [
           "X11"
          ],
          [
           "NeoScrypt"
          ],
          [
           "Scrypt"
          ],
          [
           "Lyra2REv2"
          ],
          [
           "Scrypt"
          ],
          [
           "SHA-256"
          ],
          [
           "NIST5"
          ],
          [
           "PHI1612"
          ],
          [
           "Scrypt"
          ],
          [
           "Quark"
          ],
          [
           "POS 2.0"
          ],
          [
           "Scrypt"
          ],
          [
           "SHA-256"
          ],
          [
           "Quark"
          ],
          [
           "X11"
          ],
          [
           "DPoS"
          ],
          [
           "NIST5"
          ],
          [
           "X13"
          ],
          [
           "Scrypt"
          ],
          [
           "NIST5"
          ],
          [
           "Quark"
          ],
          [
           "Scrypt"
          ],
          [
           "Scrypt"
          ],
          [
           "X11"
          ],
          [
           "Scrypt"
          ],
          [
           "Scrypt"
          ],
          [
           "Quark"
          ],
          [
           "Scrypt"
          ],
          [
           "Scrypt"
          ],
          [
           "X11"
          ],
          [
           "Scrypt"
          ],
          [
           "POS 3.0"
          ],
          [
           "Scrypt"
          ],
          [
           "Scrypt"
          ],
          [
           "X11"
          ],
          [
           "SHA-256"
          ],
          [
           "X13"
          ],
          [
           "Skein"
          ],
          [
           "X11"
          ],
          [
           "Skein"
          ],
          [
           "C11"
          ],
          [
           "X11"
          ],
          [
           "XEVAN"
          ],
          [
           "Scrypt"
          ],
          [
           "VBFT"
          ],
          [
           "PHI1612"
          ],
          [
           "NIST5"
          ],
          [
           "Scrypt"
          ],
          [
           "Scrypt"
          ],
          [
           "Scrypt"
          ],
          [
           "Green Protocol"
          ],
          [
           "PoS"
          ],
          [
           "Scrypt"
          ],
          [
           "Semux BFT consensus"
          ],
          [
           "Quark"
          ],
          [
           "PoS"
          ],
          [
           "X16R"
          ],
          [
           "Scrypt"
          ],
          [
           "XEVAN"
          ],
          [
           "Scrypt"
          ],
          [
           "Scrypt"
          ],
          [
           "Scrypt"
          ],
          [
           "X11"
          ],
          [
           "SHA-256D"
          ],
          [
           "Scrypt"
          ],
          [
           "Scrypt"
          ],
          [
           "X11"
          ],
          [
           "Scrypt"
          ],
          [
           "SHA-256D"
          ],
          [
           "Scrypt"
          ],
          [
           "X15"
          ],
          [
           "Scrypt"
          ],
          [
           "Quark"
          ],
          [
           "Scrypt"
          ],
          [
           "SHA-256"
          ],
          [
           "DPoS"
          ],
          [
           "Scrypt"
          ],
          [
           "X16R"
          ],
          [
           "Quark"
          ],
          [
           "Quark"
          ],
          [
           "Scrypt"
          ],
          [
           "Lyra2REv2"
          ],
          [
           "Quark"
          ],
          [
           "Scrypt"
          ],
          [
           "X11"
          ],
          [
           "X11"
          ],
          [
           "Scrypt"
          ],
          [
           "PoS"
          ],
          [
           "Keccak"
          ],
          [
           "X11"
          ],
          [
           "Tribus"
          ],
          [
           "Scrypt"
          ],
          [
           "NeoScrypt"
          ],
          [
           "SHA-512"
          ],
          [
           "XEVAN"
          ],
          [
           "SHA-512"
          ],
          [
           "Quark"
          ],
          [
           "XEVAN"
          ],
          [
           "X11"
          ],
          [
           "Quark"
          ],
          [
           "Scrypt"
          ],
          [
           "Quark"
          ],
          [
           "Quark"
          ],
          [
           "Scrypt"
          ],
          [
           "X11"
          ],
          [
           "Scrypt"
          ],
          [
           "XEVAN"
          ],
          [
           "SHA-256D"
          ],
          [
           "X11"
          ],
          [
           "X11"
          ],
          [
           "DPoS"
          ],
          [
           "Scrypt"
          ],
          [
           "X11"
          ],
          [
           "Scrypt"
          ],
          [
           "Scrypt"
          ],
          [
           "SHA-256"
          ],
          [
           "Scrypt"
          ],
          [
           "X11"
          ],
          [
           "Scrypt"
          ],
          [
           "SHA-256"
          ],
          [
           "X11"
          ],
          [
           "Scrypt"
          ],
          [
           "Scrypt"
          ],
          [
           "X11"
          ],
          [
           "Scrypt"
          ],
          [
           "PoS"
          ],
          [
           "X11"
          ],
          [
           "SHA-256"
          ],
          [
           "DPoS"
          ],
          [
           "Scrypt"
          ],
          [
           "Scrypt"
          ],
          [
           "NeoScrypt"
          ],
          [
           "X13"
          ],
          [
           "PHI2"
          ],
          [
           "DPoS"
          ],
          [
           "DPoS"
          ],
          [
           "SHA-256"
          ],
          [
           "Lyra2Z"
          ],
          [
           "PoS"
          ],
          [
           "Scrypt"
          ],
          [
           "PoS"
          ],
          [
           "SHA-256"
          ],
          [
           "Scrypt"
          ],
          [
           "Scrypt"
          ],
          [
           "Scrypt"
          ]
         ],
         "hovertemplate": "<b>%{hovertext}</b><br><br>class=%{marker.color}<br>PC 1=%{x}<br>PC 2=%{y}<br>PC 3=%{z}<br>Algorithm=%{customdata[0]}<extra></extra>",
         "hovertext": [
          "42 Coin",
          "404Coin",
          "EliteCoin",
          "Dash",
          "Bitshares",
          "BitcoinDark",
          "PayCoin",
          "KoboCoin",
          "Aurora Coin",
          "BlueCoin",
          "EnergyCoin",
          "BitBar",
          "CryptoBullion",
          "CasinoCoin",
          "Diamond",
          "Exclusive Coin",
          "FlutterCoin",
          "HoboNickels",
          "HyperStake",
          "IOCoin",
          "MaxCoin",
          "MintCoin",
          "MazaCoin",
          "Nautilus Coin",
          "NavCoin",
          "OpalCoin",
          "Orbitcoin",
          "PotCoin",
          "PhoenixCoin",
          "Reddcoin",
          "SuperCoin",
          "SyncCoin",
          "TeslaCoin",
          "TittieCoin",
          "TorCoin",
          "UnitaryStatus Dollar",
          "UltraCoin",
          "VeriCoin",
          "X11 Coin",
          "Crypti",
          "StealthCoin",
          "ZCC Coin",
          "BurstCoin",
          "StorjCoin",
          "Neutron",
          "FairCoin",
          "RubyCoin",
          "Kore",
          "Dnotes",
          "8BIT Coin",
          "Sativa Coin",
          "Ucoin",
          "Vtorrent",
          "IslaCoin",
          "Nexus",
          "Droidz",
          "Squall Coin",
          "Diggits",
          "Paycon",
          "Emercoin",
          "EverGreenCoin",
          "Decred",
          "EDRCoin",
          "Hitcoin",
          "DubaiCoin",
          "PWR Coin",
          "BillaryCoin",
          "GPU Coin",
          "EuropeCoin",
          "ZeitCoin",
          "SwingCoin",
          "SafeExchangeCoin",
          "Nebuchadnezzar",
          "Ratecoin",
          "Revenu",
          "Clockcoin",
          "VIP Tokens",
          "BitSend",
          "Let it Ride",
          "PutinCoin",
          "iBankCoin",
          "Frankywillcoin",
          "MudraCoin",
          "Lutetium Coin",
          "GoldBlocks",
          "CarterCoin",
          "BitTokens",
          "MustangCoin",
          "ZoneCoin",
          "RootCoin",
          "BitCurrency",
          "Swiscoin",
          "BuzzCoin",
          "Opair",
          "PesoBit",
          "Halloween Coin",
          "CoffeeCoin",
          "RoyalCoin",
          "GanjaCoin V2",
          "TeamUP",
          "LanaCoin",
          "ARK",
          "InsaneCoin",
          "EmberCoin",
          "XenixCoin",
          "FreeCoin",
          "PLNCoin",
          "AquariusCoin",
          "Creatio",
          "Eternity",
          "Eurocoin",
          "BitcoinFast",
          "Stakenet",
          "BitConnect Coin",
          "MoneyCoin",
          "Enigma",
          "Russiacoin",
          "PandaCoin",
          "GameUnits",
          "GAKHcoin",
          "Allsafe",
          "LiteCreed",
          "Klingon Empire Darsek",
          "Internet of People",
          "KushCoin",
          "Printerium",
          "Impeach",
          "Zilbercoin",
          "FirstCoin",
          "FindCoin",
          "OpenChat",
          "RenosCoin",
          "VirtacoinPlus",
          "TajCoin",
          "Impact",
          "Atmos",
          "HappyCoin",
          "MacronCoin",
          "Condensate",
          "Independent Money System",
          "ArgusCoin",
          "LomoCoin",
          "ProCurrency",
          "GoldReserve",
          "GrowthCoin",
          "Phreak",
          "Degas Coin",
          "HTML5 Coin",
          "Ultimate Secure Cash",
          "QTUM",
          "Espers",
          "Denarius",
          "Virta Unique Coin",
          "Bitcoin Planet",
          "BritCoin",
          "Linda",
          "DeepOnion",
          "Signatum",
          "Cream",
          "Monoeci",
          "Draftcoin",
          "Vechain",
          "Stakecoin",
          "CoinonatX",
          "Ethereum Dark",
          "Obsidian",
          "Cardano",
          "Regalcoin",
          "TrezarCoin",
          "TerraNovaCoin",
          "Rupee",
          "WomenCoin",
          "Theresa May Coin",
          "NamoCoin",
          "LUXCoin",
          "Xios",
          "Bitcloud 2.0",
          "KekCoin",
          "BlackholeCoin",
          "Infinity Economics",
          "Alqo",
          "Magnet",
          "Lamden Tau",
          "Electra",
          "Bitcoin Diamond",
          "Cash & Back Coin",
          "Bulwark",
          "Kalkulus",
          "GermanCoin",
          "LiteCoin Ultra",
          "PhantomX",
          "Accolade",
          "OmiseGO Classic",
          "Digiwage",
          "Trollcoin",
          "Litecoin Plus",
          "Monkey Project",
          "ECC",
          "TokenPay",
          "My Big Coin",
          "Unified Society USDEX",
          "BitSoar Coin",
          "Credence Coin",
          "Tokyo Coin",
          "BashCoin",
          "DigiMoney",
          "Lizus Payment",
          "Stipend",
          "Pushi",
          "Ellerium",
          "Velox",
          "Ontology",
          "Seraph",
          "Bitspace",
          "Briacoin",
          "Ignition",
          "MedicCoin",
          "Bitcoin Green",
          "Deviant Coin",
          "Abjcoin",
          "Semux",
          "Carebit",
          "Zealium",
          "Proton",
          "iDealCash",
          "Bitcoin Incognito",
          "HollyWoodCoin",
          "Parlay",
          "Listerclassic Coin",
          "BetKings",
          "Cognitio",
          "Mercoin",
          "Swisscoin",
          "Reliance",
          "Xt3ch",
          "TheVig",
          "EmaratCoin",
          "Dekado",
          "Lynx",
          "Poseidon Quark",
          "MYCE",
          "BitcoinWSpectrum",
          "Muse",
          "GambleCoin",
          "Trivechain",
          "Dystem",
          "Giant",
          "Peony Coin",
          "Absolute Coin",
          "Vitae",
          "TPCash",
          "ARENON",
          "EUNO",
          "MMOCoin",
          "Ketan",
          "XDNA",
          "PAXEX",
          "Averopay",
          "ThunderStake",
          "SimpleBank",
          "Kcash",
          "Bettex coin",
          "TWIST",
          "DACH Coin",
          "BitMoney",
          "Junson Ming Chan Coin",
          "HerbCoin",
          "Oduwa",
          "Galilel",
          "Crypto Sports",
          "Credit",
          "Dash Platinum",
          "Nasdacoin",
          "Beetle Coin",
          "Titan Coin",
          "Award",
          "Insane Coin",
          "ALAX",
          "LiteDoge",
          "TruckCoin",
          "OrangeCoin",
          "BitstarCoin",
          "NeosCoin",
          "HyperCoin",
          "PinkCoin",
          "AudioCoin",
          "IncaKoin",
          "Piggy Coin",
          "Genstake",
          "XiaoMiCoin",
          "CapriCoin",
          " ClubCoin",
          "Radium",
          "Creditbit ",
          "OKCash",
          "Lisk",
          "HiCoin",
          "WhiteCoin",
          "FriendshipCoin",
          "Triangles Coin",
          "Gexan",
          "EOS",
          "Oxycoin",
          "TigerCash",
          "LAPO",
          "Particl",
          "ShardCoin",
          "Nxt",
          "ZEPHYR",
          "Gapcoin",
          "BitcoinPlus",
          "DivotyCoin"
         ],
         "legendgroup": "0",
         "marker": {
          "color": [
           0,
           0,
           0,
           0,
           0,
           0,
           0,
           0,
           0,
           0,
           0,
           0,
           0,
           0,
           0,
           0,
           0,
           0,
           0,
           0,
           0,
           0,
           0,
           0,
           0,
           0,
           0,
           0,
           0,
           0,
           0,
           0,
           0,
           0,
           0,
           0,
           0,
           0,
           0,
           0,
           0,
           0,
           0,
           0,
           0,
           0,
           0,
           0,
           0,
           0,
           0,
           0,
           0,
           0,
           0,
           0,
           0,
           0,
           0,
           0,
           0,
           0,
           0,
           0,
           0,
           0,
           0,
           0,
           0,
           0,
           0,
           0,
           0,
           0,
           0,
           0,
           0,
           0,
           0,
           0,
           0,
           0,
           0,
           0,
           0,
           0,
           0,
           0,
           0,
           0,
           0,
           0,
           0,
           0,
           0,
           0,
           0,
           0,
           0,
           0,
           0,
           0,
           0,
           0,
           0,
           0,
           0,
           0,
           0,
           0,
           0,
           0,
           0,
           0,
           0,
           0,
           0,
           0,
           0,
           0,
           0,
           0,
           0,
           0,
           0,
           0,
           0,
           0,
           0,
           0,
           0,
           0,
           0,
           0,
           0,
           0,
           0,
           0,
           0,
           0,
           0,
           0,
           0,
           0,
           0,
           0,
           0,
           0,
           0,
           0,
           0,
           0,
           0,
           0,
           0,
           0,
           0,
           0,
           0,
           0,
           0,
           0,
           0,
           0,
           0,
           0,
           0,
           0,
           0,
           0,
           0,
           0,
           0,
           0,
           0,
           0,
           0,
           0,
           0,
           0,
           0,
           0,
           0,
           0,
           0,
           0,
           0,
           0,
           0,
           0,
           0,
           0,
           0,
           0,
           0,
           0,
           0,
           0,
           0,
           0,
           0,
           0,
           0,
           0,
           0,
           0,
           0,
           0,
           0,
           0,
           0,
           0,
           0,
           0,
           0,
           0,
           0,
           0,
           0,
           0,
           0,
           0,
           0,
           0,
           0,
           0,
           0,
           0,
           0,
           0,
           0,
           0,
           0,
           0,
           0,
           0,
           0,
           0,
           0,
           0,
           0,
           0,
           0,
           0,
           0,
           0,
           0,
           0,
           0,
           0,
           0,
           0,
           0,
           0,
           0,
           0,
           0,
           0,
           0,
           0,
           0,
           0,
           0,
           0,
           0,
           0,
           0,
           0,
           0,
           0,
           0,
           0,
           0,
           0,
           0,
           0,
           0,
           0,
           0,
           0,
           0,
           0,
           0,
           0,
           0,
           0,
           0,
           0,
           0,
           0,
           0,
           0,
           0,
           0,
           0,
           0,
           0,
           0,
           0,
           0,
           0,
           0,
           0,
           0,
           0,
           0,
           0,
           0,
           0,
           0,
           0,
           0
          ],
          "coloraxis": "coloraxis",
          "symbol": "circle"
         },
         "mode": "markers",
         "name": "0",
         "scene": "scene",
         "showlegend": true,
         "type": "scatter3d",
         "x": [
          -0.3301751495761753,
          -0.3128271028151887,
          2.4230965506631104,
          -0.3888903816097852,
          -0.20318116283236398,
          -0.3033475382438231,
          -0.2507732317145832,
          -0.21123888927986412,
          -0.32982087868491344,
          -0.3220859682091031,
          -0.32860851526235596,
          -0.3301709287132844,
          -0.3301545627708917,
          0.7277081436759328,
          -0.35769038678507525,
          -0.32855950539263257,
          -0.2620270622133549,
          -0.32815563222145594,
          -0.31529115146805964,
          -0.388780650651409,
          -0.37839944324941616,
          -0.006587649446023443,
          -0.26517747947944803,
          -0.27734217682345885,
          -0.26079494077153476,
          -0.26144330790139014,
          -0.34103140616170136,
          -0.3242494771995791,
          -0.32851240918607594,
          0.04302290593999311,
          -0.3360138081755202,
          -0.3891672357783018,
          -0.22541321891193383,
          -0.2863058105554365,
          -0.3890754370443513,
          -0.30441018270801196,
          -0.3287997067077234,
          -0.29450795934819574,
          -0.3890382952651318,
          -0.22589785810460092,
          -0.2612149586338047,
          -0.3209318715385396,
          0.07938449283067177,
          -0.3017049045434658,
          -0.3025273840662767,
          -0.35708751068902517,
          -0.27732115918087813,
          -0.2615221956202132,
          -0.27176426385552227,
          -0.3301564642589242,
          -0.2614723156334359,
          -0.3364779070702761,
          -0.3298802318355578,
          -0.3891479881072252,
          -0.3353184315886,
          -0.43357828413646926,
          -0.35747728379216315,
          -0.27565825988402715,
          -0.26097494773205715,
          -0.2956183753419974,
          -0.2137740290169779,
          -0.07167697379506786,
          -0.30331722939577876,
          -0.05379041265019042,
          -0.30338328372708107,
          -0.22269719935002522,
          -0.32975150213257326,
          -0.27552514561632047,
          -0.3862087953648825,
          0.9215618476565067,
          -0.3031757565138602,
          -0.03273674544023325,
          -0.32823001655554096,
          -0.38690237563890517,
          -0.30187152932086136,
          -0.2994500900268207,
          -0.34916033244610395,
          -0.3878338494927718,
          -0.32072699627506046,
          -0.30510556661719185,
          -0.3297912659736699,
          -0.3281661824654711,
          -0.20759281797023788,
          -0.323460416078985,
          -0.3886011588285458,
          -0.3289632998378477,
          -0.3033637252116144,
          -0.38913680824177865,
          -0.329987735510909,
          -0.3301504549125899,
          -0.2755081744765874,
          -0.2459027294231363,
          0.041411542753859144,
          -0.32714474348707634,
          -0.329748390728619,
          -0.3747588407653187,
          -0.3264442182757705,
          -0.20907810477618957,
          -0.40568862176068243,
          -0.32618981993854257,
          -0.2859918236289858,
          3.87764975374556,
          -0.3887129680543092,
          0.9182680268665617,
          -0.3890898460211249,
          -0.32762732616920154,
          -0.3296739657278625,
          -0.32983487544556067,
          -0.32823001655554096,
          -0.3886484328687629,
          -0.3032205972088012,
          -0.3296745793109307,
          -0.3787889285541549,
          -0.3298280280797781,
          -0.32524779958396755,
          -0.38912009051592034,
          -0.32900875660531587,
          0.392073943898178,
          -0.33003526705010994,
          -0.33010853728148754,
          -0.33963317637858226,
          -0.3426479779938387,
          -0.3261904082368902,
          -0.3033391473268502,
          -0.3890263767466278,
          -0.32987746926859285,
          -0.3300098130295117,
          -0.27722525992664,
          -0.2827762262650054,
          -0.20883653185445059,
          -0.31008547087529587,
          -0.276954938647844,
          -0.3882637606178302,
          -0.4072665751425896,
          -0.38694936829991666,
          -0.32640535135097865,
          -0.3881573528805612,
          -0.32057784336601236,
          -0.38393875764354934,
          -0.3299506953604397,
          -0.3299500556145822,
          -0.3228094770383102,
          0.30221017123311233,
          -0.3886542877239889,
          -0.25919142736163486,
          -0.32826602909415686,
          -0.3291305180620912,
          0.9658023477976498,
          -0.24941377517223545,
          -0.31945582773975156,
          0.624105112285865,
          -0.35075832847927046,
          -0.34920063183140615,
          -0.4105316813058117,
          -0.26114472409269884,
          0.152935589108319,
          -0.26121816468193937,
          -0.3184784061874118,
          -0.4100157519387221,
          -0.3889372798042041,
          -0.2773015418149031,
          4.609676231699311,
          -0.32812755553374406,
          -0.3295713028696238,
          -0.33009077376584767,
          -0.26358925631322155,
          0.6998793890321404,
          -0.38887610372508,
          -0.3358313724618955,
          -0.33004484199433726,
          -0.2962126957505276,
          0.4707146341798036,
          -0.3016180790294722,
          -0.3349176770129698,
          -0.37584566656408935,
          -0.3299932386212963,
          -0.39052255265357283,
          -0.3205730580480543,
          -0.32985801766527284,
          -0.07021081236011655,
          -0.3911285267728454,
          -0.38762123544380267,
          3.8826995415152705,
          0.23142594921042356,
          -0.25775434303449907,
          -0.3272169175666857,
          -0.29800448923877393,
          -0.3395144218066289,
          0.10031548168637146,
          -0.32896407207246214,
          -0.38822420819048137,
          -0.329736227091434,
          -0.32902433044161145,
          -0.33864680910663764,
          -0.31602783398601714,
          -0.3301138301474347,
          -0.3364486841131108,
          0.22457476077749355,
          -0.32102052957943955,
          -0.2980282953416664,
          -0.3254781107452148,
          -0.26051773746133194,
          -0.3032982409521182,
          -0.20030909407295722,
          -0.41067590437960977,
          -0.3889384437587057,
          -0.4108084293952712,
          -0.35893918267115626,
          -0.38895567817235566,
          -0.3072411475861038,
          -0.2764291578595963,
          -0.28808600815972557,
          -0.3761401463100829,
          -0.3503415348838164,
          -0.33014230721195525,
          -0.3301233046259091,
          -0.27058477506041595,
          -0.3422175299639691,
          -0.3277056939507089,
          -0.3298285887097522,
          4.0911526058008905,
          -0.3891345851408599,
          -0.3279020733933725,
          -0.30425410123037094,
          -0.2746056860452434,
          -0.2757088904166838,
          -0.2769831337671643,
          -0.27739828616060025,
          -0.3292625764742916,
          -0.3364547585062591,
          -0.3549435443216202,
          -0.32911675608191215,
          -0.12526041906461347,
          -0.33611067947354256,
          -0.27724628554428266,
          -0.35384805791651136,
          -0.32928200091655396,
          -0.1605840237268164,
          2.351004130526276,
          -0.3350593317653508,
          -0.3275254947516025,
          -0.24954411215678585,
          1.0786236140015477,
          -0.27744751465114964,
          -0.3560717240481329,
          -0.3396327541987902,
          -0.39227211863623584,
          -0.15342884028537684,
          -0.34864667778331204,
          -0.33830063994346216,
          -0.3227470498115167,
          -0.3360092655717924,
          -0.3884075648509667,
          -0.2743819336509808,
          -0.3269676175764351,
          -0.32233996098178946,
          -0.33586605899295624,
          -0.3579243585981887,
          -0.18421399383633583,
          -0.34091528791278447,
          -0.16465139643671517,
          -0.2547257494294669,
          -0.26056213910732806,
          -0.339415723481562,
          0.5561759794880872,
          -0.117570615595606,
          -0.39153844385546355,
          -0.32983248125640985,
          -0.3920127715763549,
          -0.3397544377328975,
          0.6127238380245383,
          -0.3365052465578921,
          -0.32929540359748655,
          -0.3014758330580051,
          -0.3067995716469134,
          -0.3858800433669934,
          -0.38864380207132376,
          3.8954420670556837,
          0.12241575762828376,
          -0.3860791996821818,
          -0.3286582595477288,
          -0.3295139160252697,
          -0.2508074675839152,
          -0.3300525416674894,
          -0.37993266034417394,
          -0.24041732507480268,
          -0.07374822043830698,
          -0.37551608271113956,
          -0.32930093851607445,
          -0.32208432826546807,
          -0.3850730793519684,
          -0.32767851614512855,
          -0.328516930495366,
          -0.377412029508149,
          -0.30180246931777854,
          3.8780570754113977,
          -0.07670229339304117,
          -0.32475923354704267,
          -0.34064309155500505,
          -0.261633578777554,
          -0.4113025896514933,
          3.8883442982676235,
          3.889640730773534,
          -0.23092824858992783,
          0.6423245331187607,
          -0.32845009106079937,
          -0.2707265461332896,
          -0.3198084870375987,
          2.5862549022794843,
          -0.3281452456087742,
          -0.2776582348799776,
          -0.3291656284722036
         ],
         "y": [
          1.188305398116513,
          1.1884517731785673,
          1.6744921610118426,
          1.2664441838115268,
          1.1437935400118113,
          0.8454390699486883,
          0.44514315056351594,
          1.874472030866364,
          1.1883041690836476,
          1.1885508740796535,
          1.1883529395481256,
          1.1883051690228636,
          1.1883053084562503,
          0.5929971739414651,
          0.9381588830268176,
          1.2315725300285558,
          0.4880871184005133,
          1.1882809522339688,
          0.8667952212791213,
          1.266447513729374,
          1.7003384258626377,
          0.7962269129191148,
          0.844884774759751,
          0.7879989819516385,
          1.8174884187079998,
          1.8174687432279986,
          0.5943055319557943,
          1.1881851627177742,
          1.188285842683725,
          1.1996305417878572,
          0.8661663673492215,
          1.2664514989001907,
          -0.11301724872943192,
          1.0159201029172733,
          1.266447141141345,
          1.1879441924469467,
          1.1882756954518099,
          0.6630161884005048,
          1.2664514831505789,
          -0.11296051352628844,
          1.8174756727610377,
          1.1878714749099157,
          0.8718476780916028,
          1.1727853499503826,
          0.8454310951186204,
          0.9381803071934087,
          0.7880111790990906,
          1.8174577762258874,
          0.7878225989577473,
          1.1883059651749308,
          1.8174607187372913,
          0.8661379952779235,
          1.188300059347483,
          1.2664520837083302,
          1.3012290708894814,
          2.121963056322418,
          0.5849563889442637,
          0.7879901996152748,
          1.8174472350993534,
          0.8449749163437256,
          1.8746263587108176,
          1.0372695343582885,
          0.8454399897071185,
          1.2576610184641033,
          0.845446201057664,
          1.5947452823320598,
          1.1882882485294208,
          0.7879077565102202,
          1.2662669391431793,
          0.7536649847584053,
          0.8454314232826232,
          0.5969632156764434,
          1.2315682403310058,
          1.2664666478967375,
          0.8453404589340663,
          0.8451979886250467,
          1.5908433085824905,
          1.266392658219134,
          1.2209978237292125,
          1.187637321538005,
          1.1882853748643165,
          1.1882949205065432,
          1.4170618798328232,
          0.8660779401189252,
          1.2664329568191408,
          1.188277875237816,
          0.845439293157312,
          1.2664502797099253,
          1.1882960825975961,
          1.188306147535769,
          0.7880661962994542,
          0.49981560211946885,
          2.021892026507665,
          1.2315625954794351,
          1.1883183486567805,
          1.2658171072516549,
          1.231608144167093,
          1.4171579052006176,
          1.9938379761930887,
          1.231429400074611,
          2.020882561489052,
          1.8999044648743124,
          1.266443852266184,
          1.852661243515038,
          1.266451095199868,
          1.2315650970466945,
          1.188293073363641,
          1.1882857184660096,
          1.2315682403310058,
          1.2664243780153526,
          0.845444350970242,
          1.1882970126395034,
          0.5784518334559595,
          1.1882959281602448,
          1.1879900790531643,
          1.2664493581861727,
          1.1882379170300468,
          0.7850954186025729,
          1.1883003555688636,
          1.188305050705326,
          1.1718598836315761,
          0.6778835494103549,
          1.1880691091024722,
          0.8454400390027719,
          1.2664490914514255,
          1.1883001431808986,
          1.188294745835479,
          0.7879747960881129,
          0.5704809720731693,
          1.4171566452960433,
          1.1882006219772359,
          0.7879976975205117,
          1.2664074744924232,
          1.9824588368297877,
          1.266440217091224,
          1.2315591068406337,
          1.266410703563131,
          1.2315289745098015,
          1.266252953258808,
          1.1882970550816625,
          1.1882917964350312,
          1.187814496713828,
          0.4083514054282942,
          1.266438488775145,
          0.787132504364878,
          1.2315600032710212,
          1.188262084475467,
          1.8461428639176767,
          0.4450503906984215,
          1.2209888898288035,
          2.004762497261736,
          1.5908519692014544,
          1.5908206530005782,
          2.0525975751064354,
          1.8174563714640029,
          1.1672448932608974,
          1.817462074195825,
          1.2418570904330013,
          2.052613231603313,
          1.2664516857051364,
          0.7879993392666464,
          2.9052872697263448,
          1.2315416297194746,
          1.1882892503287128,
          1.1883049580611078,
          1.1444674189687694,
          1.278265917698908,
          1.266441044983,
          0.5941802579509884,
          1.1882981122534784,
          0.3304244281299184,
          1.1947488209229404,
          0.8454358275812396,
          1.5904825110847793,
          1.4167013497002907,
          1.188295915599096,
          1.572081553256462,
          1.2160957932933913,
          1.1883044568314982,
          0.44420166992980475,
          1.5721646983441488,
          1.2663955381399448,
          1.8997897986471433,
          1.5870935465886566,
          1.8174306607613084,
          1.188245140712804,
          1.1905420541669622,
          1.1718599152737215,
          1.1656480728429768,
          1.1882349865061905,
          1.2664443958394105,
          1.1882829966959425,
          1.1882903116231882,
          1.171814801862056,
          1.1880917359869856,
          1.1883044012718145,
          0.8661381676620684,
          0.7853812736377668,
          1.2209949886919902,
          0.5311446101484812,
          1.1882821896204858,
          0.8656139883239091,
          0.8454384226694069,
          1.4168542602183705,
          2.052613202289258,
          1.2664405820429774,
          2.052611323923202,
          1.0062910211125144,
          1.266440059043977,
          1.328013907269481,
          0.7879496596705625,
          1.218524905091238,
          1.416712417163762,
          1.59083604043934,
          1.1883042515226785,
          1.1883033993357546,
          0.7878583919631779,
          1.3103272398510863,
          1.23153557086057,
          1.188294482304013,
          1.8306012730802002,
          1.5721236727992056,
          1.2315353268632663,
          0.49958713996894066,
          1.1863324876298351,
          0.6465418736035476,
          0.7880028619244966,
          0.7879874059395527,
          1.18825450489609,
          0.8661471649746694,
          2.0241472291553415,
          1.1882660742074032,
          1.1872366814554256,
          0.8661191335327486,
          0.7879820166782964,
          2.0241143890073556,
          1.1882724904001745,
          1.4742968263532459,
          0.488841468582342,
          1.171545024715797,
          1.1882071997023413,
          0.4451177504573797,
          1.5695664637716153,
          0.7879961997131628,
          0.899885984759293,
          1.1718556099134052,
          1.572167664911804,
          0.7797114034992046,
          0.730711031819837,
          1.1718395952138785,
          1.187816391143073,
          0.8661272120108587,
          1.2664388316611226,
          0.7879146238098748,
          1.2314708092377242,
          0.9396330644702457,
          0.8660994088137234,
          0.9812956196935937,
          1.1798751757160193,
          0.5942967462191281,
          1.5518350258379172,
          0.927716557449735,
          1.1444816863942688,
          1.1718500508038767,
          0.5904342733406529,
          0.872795288633442,
          1.572155030373281,
          1.1883007939745904,
          1.5721656153666268,
          1.1718573683172444,
          1.163480064225436,
          0.8661373799547911,
          1.188272083679709,
          1.3278745171566377,
          2.0220414659423263,
          1.2662511963394285,
          1.2664459511910868,
          1.8998192750930094,
          1.1770350565940348,
          1.2665452097822865,
          1.1882085456738605,
          1.1882867023290669,
          0.4451360390511291,
          1.1883091188308998,
          1.2663745230973589,
          1.1835277802184296,
          0.8522865144321494,
          1.2661513386447887,
          1.1883212108077736,
          1.1882651551974648,
          1.2664271420161428,
          1.1882668540300536,
          1.2315673922204098,
          0.5513223770778273,
          0.8454266599281698,
          1.8998918790800132,
          0.7869486711840571,
          1.188255424143073,
          0.5942770237752026,
          1.8174628834989297,
          1.99830569498288,
          1.90031830638705,
          1.9003576481899707,
          0.4450398790830684,
          0.2137751160075495,
          1.2315696819216986,
          0.7875683211012898,
          1.2215621010299849,
          0.7752908395649468,
          1.188188392617536,
          0.788000235710159,
          1.1882645911159675
         ],
         "z": [
          -0.5667484160926329,
          -0.5671566604621264,
          -0.6029528948315896,
          -0.47869918232568864,
          -0.2159773609438198,
          -0.33928132189827964,
          -0.048275401195372845,
          -0.6124534156337916,
          -0.5667560163779101,
          -0.566969723807945,
          -0.5667912768320761,
          -0.5667484691947224,
          -0.5667488545624942,
          -0.45944507721088895,
          -0.41788810813231914,
          -0.08018148696993616,
          -0.4404489624884596,
          -0.5667886959336332,
          -0.18827003107240967,
          -0.4787021843979642,
          -0.5111082403534686,
          -0.28315581933533496,
          -0.3400265242241622,
          -0.275746368296461,
          -0.568719924629475,
          -0.5687021862900453,
          -0.3025973911171937,
          -0.5668581346737018,
          -0.5667816797579104,
          -0.576958547793856,
          -0.18770309067455257,
          -0.47869435259145815,
          0.03539052956664827,
          -0.10437603822963344,
          -0.47869561659922893,
          -0.5672536919028613,
          -0.5667735702161181,
          -0.4131907330696444,
          -0.47869719415775286,
          0.03539131264997021,
          -0.5687084335790124,
          -0.5668765390536836,
          -0.4896421742674929,
          0.007731201212108057,
          -0.33929802115236074,
          -0.41790514835098513,
          -0.27574896190922626,
          -0.5686985309329092,
          -0.27583861057848647,
          -0.5667489272997566,
          -0.5687001450917217,
          -0.18768789845231712,
          -0.5667539894173953,
          -0.4786948793032496,
          -0.23759997709390435,
          -0.6803083411011697,
          -0.11610342222061183,
          -0.2757819803985429,
          -0.5687087619582978,
          -0.33937076566467017,
          -0.6124244428283944,
          -0.5075136975531469,
          -0.33928215110230564,
          -0.48455739924815183,
          -0.3392817786856584,
          -0.5071795585630964,
          -0.5667547665665746,
          -0.2757705197869728,
          -0.47872738366154743,
          -0.29619742972448004,
          -0.3392837759218384,
          -0.443362905920156,
          -0.08018800610212636,
          -0.478746958916596,
          -0.3392966609920809,
          -0.3393251963390556,
          -0.5037084910942843,
          -0.4787134906259325,
          -0.08805382825420521,
          -0.5671847636216234,
          -0.5667533875838157,
          -0.5667909024766973,
          -0.27770504299735904,
          -0.18796456568734854,
          -0.4787036017670941,
          -0.5667703421475241,
          -0.33928100380652376,
          -0.4786948108901235,
          -0.566750923521112,
          -0.5667490917063405,
          -0.275798562415767,
          -0.3183545470629819,
          -0.6278093536732563,
          -0.08021096053351133,
          -0.5667600915714469,
          -0.47890140588097174,
          -0.08023436766042098,
          -0.27768904771125735,
          -0.5824565300307677,
          -0.08020876547832746,
          -0.6204108350967933,
          0.01391230088924825,
          -0.47870303801828845,
          -0.6008712505252435,
          -0.4786959892448496,
          -0.08020075202269987,
          -0.5667573195112208,
          -0.5667524855994235,
          -0.08018800610212636,
          -0.478701060830336,
          -0.3392850443302723,
          -0.5667579938898538,
          -0.35305921597247814,
          -0.5667544195601424,
          -0.5668020451804817,
          -0.4786950187435281,
          -0.566762361528828,
          -0.29000606343748186,
          -0.566750621203111,
          -0.5667498248342275,
          -0.12679619752080135,
          -0.3330325485356717,
          -0.5667950530230799,
          -0.33928167622010313,
          -0.4786970394087929,
          -0.5667540649970292,
          -0.5667502030719802,
          -0.27574472381739734,
          -0.4041618961293665,
          -0.27769415658530416,
          -0.5671732800938962,
          -0.2757546861374621,
          -0.47870659451516556,
          -0.601365962635281,
          -0.47874130670080967,
          -0.08022666166783927,
          -0.47870950566916276,
          -0.0803499494800674,
          -0.47877501639019765,
          -0.5667519104193215,
          -0.5667510062167689,
          -0.5668251706203746,
          -0.054048814880849026,
          -0.4787033958321024,
          -0.2759954456514297,
          -0.08018577326293998,
          -0.5667638959247284,
          -0.6334708232674212,
          -0.048289191027340375,
          -0.08808030901451247,
          -0.6316398600200817,
          -0.5036747530779283,
          -0.5037036457917777,
          -0.6647500595540772,
          -0.5687066123167677,
          -0.573727637513133,
          -0.5687059881458033,
          -0.08235640733040461,
          -0.6647641745975666,
          -0.47869945784379825,
          -0.2757473270674825,
          4.623552239620448,
          -0.0801856193063979,
          -0.5667589165507805,
          -0.5667502005036666,
          -0.21476248958242627,
          -0.06222956065792964,
          -0.4786989491514896,
          -0.3026902228449522,
          -0.5667500182390613,
          0.020961387720822438,
          -0.5855405664325168,
          -0.3393189060656757,
          -0.5039596659193055,
          -0.3946512832334329,
          -0.5667507729643745,
          -0.41782632013559134,
          -0.2525030930386791,
          -0.5667552473732589,
          -0.052094042330228775,
          -0.4178274724530646,
          -0.4787186836278021,
          0.013820931026441755,
          -0.5158609052700188,
          -0.5687769113551991,
          -0.5668031494224504,
          -0.2126703486588231,
          -0.12679882267000603,
          -0.5722880313343388,
          -0.5667628354752328,
          -0.4787139145637463,
          -0.5667541863958052,
          -0.5667711676246546,
          -0.12681008332653113,
          -0.5670231819776042,
          -0.5667495946679196,
          -0.18768857318893306,
          -0.2863610944743724,
          -0.08804685808126977,
          -0.3416053977581888,
          -0.5668479758349568,
          -0.1892720072872386,
          -0.33928229632001367,
          -0.2778294591637564,
          -0.6647496070843281,
          -0.47869749314107113,
          -0.6647463556785376,
          -0.5145003914231436,
          -0.4786970216337026,
          -0.3139911938618417,
          -0.2757578955833193,
          -0.09168905508908257,
          -0.39464671996945894,
          -0.5036811655539334,
          -0.5667489403377928,
          -0.5667492107015004,
          -0.2758708795995973,
          -0.02444475486034464,
          -0.08019386715403712,
          -0.5667541547039875,
          0.08219349635772275,
          -0.4178642928176165,
          -0.08018949258358313,
          -0.014005369411579639,
          -0.5676297022282109,
          0.04859918531998777,
          -0.275754966034669,
          -0.2757431090596987,
          -0.5667596592118159,
          -0.18769001038919145,
          -0.6194599267981425,
          -0.5667648962270206,
          -0.5710820290697046,
          -0.18769270535974522,
          -0.2757455209383884,
          -0.6194783574261087,
          -0.566762371524814,
          -0.3214262340934135,
          -0.5080399899590983,
          -0.1268421089398653,
          -0.5667897168561605,
          -0.048298078906302104,
          -0.0400002408564461,
          -0.2757435587738337,
          -0.3050284927673196,
          -0.12679546051648616,
          -0.4178027638519417,
          -0.2770325341283134,
          -0.2700460016244504,
          -0.12682204917051382,
          -0.5668268785344369,
          -0.18769635320358896,
          -0.4787088982041397,
          -0.2757969372911349,
          -0.08019883919365223,
          -0.4764105288887577,
          -0.18769465695912826,
          -0.3929273420062846,
          -0.5684960279820548,
          -0.3025984183369915,
          -0.5102967401689831,
          -0.022983723894918786,
          -0.2148317566934795,
          -0.12679927724266266,
          0.278389145163126,
          -0.19367936448243087,
          -0.41781674172250466,
          -0.5667551710415947,
          -0.417808126913626,
          -0.12679308335172243,
          -0.5832127200014728,
          -0.1876871879132059,
          -0.56676200484783,
          -0.3140940301089061,
          -0.6201542129980716,
          -0.4787318864895705,
          -0.4787049302944801,
          0.013534694433612294,
          -0.5747640475825017,
          -0.4787788366913005,
          -0.5667649640869326,
          -0.566759737499243,
          -0.04827340410178579,
          -0.5667517704639399,
          -0.47888461712473773,
          -0.5678940833853471,
          -0.3455418508133944,
          -0.4789430684347358,
          -0.5667704617977629,
          -0.5669198650401387,
          -0.4787804127248892,
          -0.5667967587410501,
          -0.08018152892265994,
          -0.2328712110352193,
          -0.33931323763215554,
          0.013905513575075131,
          -0.27998889604145805,
          -0.5668591596049006,
          -0.30260097863376895,
          -0.5686969657969144,
          -0.7630087832691393,
          0.013604119516622442,
          0.013568651093289037,
          -0.048695130180834385,
          -0.26633182620518336,
          -0.08018340319238168,
          -0.2758170973243036,
          -0.029053135321706173,
          0.004832083400762595,
          -0.566772761414467,
          -0.27573961527122576,
          -0.5667635591526878
         ]
        },
        {
         "customdata": [
          [
           "SHA-256"
          ],
          [
           "Ethash"
          ],
          [
           "Scrypt"
          ],
          [
           "CryptoNight-V7"
          ],
          [
           "Ethash"
          ],
          [
           "Equihash"
          ],
          [
           "Multiple"
          ],
          [
           "Scrypt"
          ],
          [
           "X11"
          ],
          [
           "Scrypt"
          ],
          [
           "Multiple"
          ],
          [
           "Scrypt"
          ],
          [
           "SHA-256"
          ],
          [
           "Scrypt"
          ],
          [
           "Scrypt"
          ],
          [
           "Quark"
          ],
          [
           "Groestl"
          ],
          [
           "Scrypt"
          ],
          [
           "Scrypt"
          ],
          [
           "Scrypt"
          ],
          [
           "X11"
          ],
          [
           "Multiple"
          ],
          [
           "SHA-256"
          ],
          [
           "Scrypt"
          ],
          [
           "Scrypt"
          ],
          [
           "Scrypt"
          ],
          [
           "Scrypt"
          ],
          [
           "Scrypt"
          ],
          [
           "NeoScrypt"
          ],
          [
           "Scrypt"
          ],
          [
           "Scrypt"
          ],
          [
           "Scrypt"
          ],
          [
           "Scrypt"
          ],
          [
           "SHA-256"
          ],
          [
           "Scrypt"
          ],
          [
           "Scrypt"
          ],
          [
           "Scrypt"
          ],
          [
           "Scrypt"
          ],
          [
           "HybridScryptHash256"
          ],
          [
           "Scrypt"
          ],
          [
           "Scrypt"
          ],
          [
           "SHA-256"
          ],
          [
           "Scrypt"
          ],
          [
           "Scrypt"
          ],
          [
           "Scrypt"
          ],
          [
           "Scrypt"
          ],
          [
           "SHA-256"
          ],
          [
           "SHA-256"
          ],
          [
           "SHA-256"
          ],
          [
           "SHA-256"
          ],
          [
           "SHA-256"
          ],
          [
           "X11"
          ],
          [
           "Scrypt"
          ],
          [
           "Lyra2REv2"
          ],
          [
           "Scrypt"
          ],
          [
           "SHA-256"
          ],
          [
           "CryptoNight"
          ],
          [
           "CryptoNight"
          ],
          [
           "Scrypt"
          ],
          [
           "Scrypt"
          ],
          [
           "Scrypt"
          ],
          [
           "Scrypt"
          ],
          [
           "Scrypt"
          ],
          [
           "Scrypt"
          ],
          [
           "Stanford Folding"
          ],
          [
           "Multiple"
          ],
          [
           "QuBit"
          ],
          [
           "Scrypt"
          ],
          [
           "Scrypt"
          ],
          [
           "M7 POW"
          ],
          [
           "Scrypt"
          ],
          [
           "SHA-256"
          ],
          [
           "Scrypt"
          ],
          [
           "X11"
          ],
          [
           "Lyra2RE"
          ],
          [
           "SHA-256"
          ],
          [
           "X11"
          ],
          [
           "Scrypt"
          ],
          [
           "Scrypt"
          ],
          [
           "Ethash"
          ],
          [
           "Blake2b"
          ],
          [
           "X11"
          ],
          [
           "SHA-256"
          ],
          [
           "Scrypt"
          ],
          [
           "1GB AES Pattern Search"
          ],
          [
           "Scrypt"
          ],
          [
           "SHA-256"
          ],
          [
           "X11"
          ],
          [
           "Dagger"
          ],
          [
           "Scrypt"
          ],
          [
           "X11GOST"
          ],
          [
           "Scrypt"
          ],
          [
           "ScryptOG"
          ],
          [
           "X11"
          ],
          [
           "Scrypt"
          ],
          [
           "X11"
          ],
          [
           "Equihash"
          ],
          [
           "CryptoNight"
          ],
          [
           "SHA-256"
          ],
          [
           "Multiple"
          ],
          [
           "Scrypt"
          ],
          [
           "SHA-256"
          ],
          [
           "Scrypt"
          ],
          [
           "Lyra2Z"
          ],
          [
           "Ethash"
          ],
          [
           "Equihash"
          ],
          [
           "Scrypt"
          ],
          [
           "X11"
          ],
          [
           "X11"
          ],
          [
           "CryptoNight"
          ],
          [
           "Scrypt"
          ],
          [
           "CryptoNight"
          ],
          [
           "Lyra2RE"
          ],
          [
           "X11"
          ],
          [
           "CryptoNight-V7"
          ],
          [
           "Scrypt"
          ],
          [
           "X11"
          ],
          [
           "Equihash"
          ],
          [
           "Scrypt"
          ],
          [
           "Lyra2RE"
          ],
          [
           "Dagger-Hashimoto"
          ],
          [
           "Scrypt"
          ],
          [
           "NIST5"
          ],
          [
           "Scrypt"
          ],
          [
           "SHA-256"
          ],
          [
           "Scrypt"
          ],
          [
           "CryptoNight-V7"
          ],
          [
           "Argon2d"
          ],
          [
           "Blake2b"
          ],
          [
           "Cloverhash"
          ],
          [
           "CryptoNight"
          ],
          [
           "X11"
          ],
          [
           "Scrypt"
          ],
          [
           "Scrypt"
          ],
          [
           "X11"
          ],
          [
           "X11"
          ],
          [
           "CryptoNight"
          ],
          [
           "Time Travel"
          ],
          [
           "Scrypt"
          ],
          [
           "Keccak"
          ],
          [
           "X11"
          ],
          [
           "SHA-256"
          ],
          [
           "Scrypt"
          ],
          [
           "Scrypt"
          ],
          [
           "Scrypt"
          ],
          [
           "Scrypt"
          ],
          [
           "Scrypt"
          ],
          [
           "Scrypt"
          ],
          [
           "CryptoNight"
          ],
          [
           "Equihash"
          ],
          [
           "X11"
          ],
          [
           "NeoScrypt"
          ],
          [
           "Equihash"
          ],
          [
           "Dagger"
          ],
          [
           "Scrypt"
          ],
          [
           "X11"
          ],
          [
           "NeoScrypt"
          ],
          [
           "Ethash"
          ],
          [
           "NeoScrypt"
          ],
          [
           "Multiple"
          ],
          [
           "CryptoNight"
          ],
          [
           "CryptoNight"
          ],
          [
           "Ethash"
          ],
          [
           "Scrypt"
          ],
          [
           "X11"
          ],
          [
           "CryptoNight-V7"
          ],
          [
           "Scrypt"
          ],
          [
           "BLAKE256"
          ],
          [
           "X11"
          ],
          [
           "NeoScrypt"
          ],
          [
           "NeoScrypt"
          ],
          [
           "NeoScrypt"
          ],
          [
           "Scrypt"
          ],
          [
           "X11"
          ],
          [
           "SHA-256"
          ],
          [
           "C11"
          ],
          [
           "Ethash"
          ],
          [
           "Scrypt"
          ],
          [
           "CryptoNight"
          ],
          [
           "SkunkHash"
          ],
          [
           "CryptoNight"
          ],
          [
           "Scrypt"
          ],
          [
           "Dagger"
          ],
          [
           "Lyra2REv2"
          ],
          [
           "Scrypt"
          ],
          [
           "Scrypt"
          ],
          [
           "X11"
          ],
          [
           "Ethash"
          ],
          [
           "CryptoNight"
          ],
          [
           "Scrypt"
          ],
          [
           "SHA-256"
          ],
          [
           "IMesh"
          ],
          [
           "Quark"
          ],
          [
           "Equihash"
          ],
          [
           "Lyra2Z"
          ],
          [
           "NeoScrypt"
          ],
          [
           "X11"
          ],
          [
           "CryptoNight"
          ],
          [
           "NIST5"
          ],
          [
           "Lyra2RE"
          ],
          [
           "Tribus"
          ],
          [
           "Lyra2Z"
          ],
          [
           "CryptoNight"
          ],
          [
           "CryptoNight Heavy"
          ],
          [
           "CryptoNight"
          ],
          [
           "Jump Consistent Hash"
          ],
          [
           "CryptoNight"
          ],
          [
           "SHA-512"
          ],
          [
           "X16R"
          ],
          [
           "HMQ1725"
          ],
          [
           "X11"
          ],
          [
           "Scrypt"
          ],
          [
           "Scrypt"
          ],
          [
           "CryptoNight-V7"
          ],
          [
           "Cryptonight-GPU"
          ],
          [
           "XEVAN"
          ],
          [
           "CryptoNight Heavy"
          ],
          [
           "CryptoNight"
          ],
          [
           "X11"
          ],
          [
           "SHA-256"
          ],
          [
           "X11"
          ],
          [
           "X16R"
          ],
          [
           "Equihash"
          ],
          [
           "HMQ1725"
          ],
          [
           "Lyra2Z"
          ],
          [
           "SHA-256"
          ],
          [
           "PHI1612"
          ],
          [
           "CryptoNight"
          ],
          [
           "Blake"
          ],
          [
           "Blake"
          ],
          [
           "Blake"
          ],
          [
           "Blake"
          ],
          [
           "Equihash"
          ],
          [
           "Exosis"
          ],
          [
           "Scrypt"
          ],
          [
           "Equihash"
          ],
          [
           "Equihash"
          ],
          [
           "Lyra2REv2"
          ],
          [
           "QuBit"
          ],
          [
           "SHA-256"
          ],
          [
           "X13"
          ],
          [
           "SHA-256"
          ],
          [
           "Ethash"
          ],
          [
           "Scrypt"
          ],
          [
           "NeoScrypt"
          ],
          [
           "Blake"
          ],
          [
           "Scrypt"
          ],
          [
           "SHA-256"
          ],
          [
           "Scrypt"
          ],
          [
           "Groestl"
          ],
          [
           "Scrypt"
          ],
          [
           "Scrypt"
          ],
          [
           "Multiple"
          ],
          [
           "Equihash+Scrypt"
          ],
          [
           "Lyra2Z"
          ],
          [
           "Ethash"
          ],
          [
           "Equihash"
          ],
          [
           "CryptoNight"
          ],
          [
           "Equihash"
          ]
         ],
         "hovertemplate": "<b>%{hovertext}</b><br><br>class=%{marker.color}<br>PC 1=%{x}<br>PC 2=%{y}<br>PC 3=%{z}<br>Algorithm=%{customdata[0]}<extra></extra>",
         "hovertext": [
          "Bitcoin",
          "Ethereum",
          "Litecoin",
          "Monero",
          "Ethereum Classic",
          "ZCash",
          "DigiByte",
          "ProsperCoin",
          "Spreadcoin",
          "Argentum",
          "MyriadCoin",
          "MoonCoin",
          "ZetaCoin",
          "SexCoin",
          "Quatloo",
          "QuarkCoin",
          "Riecoin",
          "Digitalcoin ",
          "Catcoin",
          "CannaCoin",
          "CryptCoin",
          "Verge",
          "DevCoin",
          "EarthCoin",
          "E-Gulden",
          "Einsteinium",
          "Emerald",
          "Franko",
          "FeatherCoin",
          "GrandCoin",
          "GlobalCoin",
          "GoldCoin",
          "Infinite Coin",
          "IXcoin",
          "KrugerCoin",
          "LuckyCoin",
          "Litebar ",
          "MegaCoin",
          "MediterraneanCoin",
          "MinCoin",
          "NobleCoin",
          "Namecoin",
          "NyanCoin",
          "RonPaulCoin",
          "StableCoin",
          "SmartCoin",
          "SysCoin",
          "TigerCoin",
          "TerraCoin",
          "UnbreakableCoin",
          "Unobtanium",
          "UroCoin",
          "ViaCoin",
          "Vertcoin",
          "WorldCoin",
          "JouleCoin",
          "ByteCoin",
          "DigitalNote ",
          "MonaCoin",
          "Gulden",
          "PesetaCoin",
          "Wild Beast Coin",
          "Flo",
          "ArtByte",
          "Folding Coin",
          "Unitus",
          "CypherPunkCoin",
          "OmniCron",
          "GreenCoin",
          "Cryptonite",
          "MasterCoin",
          "SoonCoin",
          "1Credit",
          "MarsCoin ",
          "Crypto",
          "Anarchists Prime",
          "BowsCoin",
          "Song Coin",
          "BitZeny",
          "Expanse",
          "Siacoin",
          "MindCoin",
          "I0coin",
          "Revolution VR",
          "HOdlcoin",
          "Gamecredits",
          "CarpeDiemCoin",
          "Adzcoin",
          "SoilCoin",
          "YoCoin",
          "SibCoin",
          "Francs",
          "Aiden",
          "BolivarCoin",
          "Omni",
          "PizzaCoin",
          "Komodo",
          "Karbo",
          "ZayedCoin",
          "Circuits of Value",
          "DopeCoin",
          "DollarCoin",
          "Shilling",
          "ZCoin",
          "Elementrem",
          "ZClassic",
          "KiloCoin",
          "ArtexCoin",
          "Kurrent",
          "Cannabis Industry Coin",
          "OsmiumCoin",
          "Bikercoins",
          "HexxCoin",
          "PacCoin",
          "Citadel",
          "BeaverCoin",
          "VaultCoin",
          "Zero",
          "Canada eCoin",
          "Zoin",
          "DubaiCoin",
          "EB3coin",
          "Coinonat",
          "BenjiRolls",
          "ILCoin",
          "EquiTrader",
          "Quantum Resistant Ledger",
          "Dynamic",
          "Nano",
          "ChanCoin",
          "Dinastycoin",
          "DigitalPrice",
          "Unify",
          "SocialCoin",
          "ArcticCoin",
          "DAS",
          "LeviarCoin",
          "Bitcore",
          "gCn Coin",
          "SmartCash",
          "Onix",
          "Bitcoin Cash",
          "Sojourn Coin",
          "NewYorkCoin",
          "FrazCoin",
          "Kronecoin",
          "AdCoin",
          "Linx",
          "Sumokoin",
          "BitcoinZ",
          "Elements",
          "VIVO Coin",
          "Bitcoin Gold",
          "Pirl",
          "eBoost",
          "Pura",
          "Innova",
          "Ellaism",
          "GoByte",
          "SHIELD",
          "UltraNote",
          "BitCoal",
          "DaxxCoin",
          "BoxyCoin",
          "AC3",
          "Lethean",
          "PopularCoin",
          "Photon",
          "Sucre",
          "SparksPay",
          "GoaCoin",
          "GunCoin",
          "IrishCoin",
          "Pioneer Coin",
          "UnitedBitcoin",
          "Interzone",
          "1717 Masonic Commemorative Token",
          "Crypto Wisdom Coin",
          "TurtleCoin",
          "MUNcoin",
          "Niobio Cash",
          "ShareChain",
          "Travelflex",
          "KREDS",
          "BitFlip",
          "LottoCoin",
          "Crypto Improvement Fund",
          "Callisto Network",
          "BitTube",
          "Poseidon",
          "Manna",
          "Aidos Kuneen",
          "Cosmo",
          "Bitrolium",
          "Alpenschillling",
          "Rapture",
          "FuturoCoin",
          "Monero Classic",
          "Jumpcoin",
          "Infinex",
          "KEYCO",
          "GINcoin",
          "PlatinCoin",
          "Loki",
          "Newton Coin",
          "MassGrid",
          "PluraCoin",
          "Arionum",
          "Motion",
          "PlusOneCoin",
          "Axe",
          "HexCoin",
          "Deimos",
          "Webchain",
          "Ryo",
          "Urals Coin",
          "Qwertycoin",
          "Bitcoin Nova",
          "DACash",
          "Project Pai",
          "Azart",
          "Xchange",
          "CrypticCoin",
          "Brazio",
          "Actinium",
          "Bitcoin SV",
          "Argoneum",
          "FREDEnergy",
          "BlakeBitcoin",
          "Universal Molecule",
          "Lithium",
          "Electron",
          "PirateCash",
          "Exosis",
          "Block-Logic",
          "Beam",
          "Bithereum",
          "Scribe Network",
          "SLICE",
          "BLAST",
          "Bitcoin Rhodium",
          "GlobalToken",
          "Media Protocol Token",
          "SolarCoin",
          "UFO Coin",
          "BlakeCoin",
          "Crypto Escudo",
          "Crown Coin",
          "SmileyCoin",
          "Groestlcoin",
          "Bata",
          "Pakcoin",
          "JoinCoin",
          "Vollar",
          "TecraCoin",
          "Reality Clash",
          "ChainZilla",
          "Beldex",
          "Horizen"
         ],
         "legendgroup": "1",
         "marker": {
          "color": [
           1,
           1,
           1,
           1,
           1,
           1,
           1,
           1,
           1,
           1,
           1,
           1,
           1,
           1,
           1,
           1,
           1,
           1,
           1,
           1,
           1,
           1,
           1,
           1,
           1,
           1,
           1,
           1,
           1,
           1,
           1,
           1,
           1,
           1,
           1,
           1,
           1,
           1,
           1,
           1,
           1,
           1,
           1,
           1,
           1,
           1,
           1,
           1,
           1,
           1,
           1,
           1,
           1,
           1,
           1,
           1,
           1,
           1,
           1,
           1,
           1,
           1,
           1,
           1,
           1,
           1,
           1,
           1,
           1,
           1,
           1,
           1,
           1,
           1,
           1,
           1,
           1,
           1,
           1,
           1,
           1,
           1,
           1,
           1,
           1,
           1,
           1,
           1,
           1,
           1,
           1,
           1,
           1,
           1,
           1,
           1,
           1,
           1,
           1,
           1,
           1,
           1,
           1,
           1,
           1,
           1,
           1,
           1,
           1,
           1,
           1,
           1,
           1,
           1,
           1,
           1,
           1,
           1,
           1,
           1,
           1,
           1,
           1,
           1,
           1,
           1,
           1,
           1,
           1,
           1,
           1,
           1,
           1,
           1,
           1,
           1,
           1,
           1,
           1,
           1,
           1,
           1,
           1,
           1,
           1,
           1,
           1,
           1,
           1,
           1,
           1,
           1,
           1,
           1,
           1,
           1,
           1,
           1,
           1,
           1,
           1,
           1,
           1,
           1,
           1,
           1,
           1,
           1,
           1,
           1,
           1,
           1,
           1,
           1,
           1,
           1,
           1,
           1,
           1,
           1,
           1,
           1,
           1,
           1,
           1,
           1,
           1,
           1,
           1,
           1,
           1,
           1,
           1,
           1,
           1,
           1,
           1,
           1,
           1,
           1,
           1,
           1,
           1,
           1,
           1,
           1,
           1,
           1,
           1,
           1,
           1,
           1,
           1,
           1,
           1,
           1,
           1,
           1,
           1,
           1,
           1,
           1,
           1,
           1,
           1,
           1,
           1,
           1,
           1,
           1,
           1,
           1,
           1,
           1,
           1,
           1,
           1,
           1,
           1,
           1,
           1,
           1,
           1,
           1,
           1,
           1,
           1,
           1,
           1,
           1,
           1,
           1,
           1,
           1,
           1,
           1,
           1,
           1,
           1
          ],
          "coloraxis": "coloraxis",
          "symbol": "diamond"
         },
         "mode": "markers",
         "name": "1",
         "scene": "scene",
         "showlegend": true,
         "type": "scatter3d",
         "x": [
          -0.13770696323601803,
          -0.12626524520975244,
          -0.16331833314183133,
          -0.1436796663941534,
          -0.12464753951662959,
          -0.1646398333827462,
          0.1855081820563958,
          -0.1645110498065711,
          -0.22344200929021443,
          -0.1641126479738792,
          -0.07803197548261603,
          2.6612353203582826,
          -0.13467338515395563,
          -0.16125773476743946,
          -0.16390942972742936,
          -0.22182725310282383,
          -0.19107961172110924,
          -0.16395881790784483,
          -0.16449256980569715,
          -0.16458244456429888,
          -0.2235350546708118,
          0.21037949260417516,
          0.2554539214342123,
          0.09423795231338497,
          -0.16431828437464305,
          -0.15974644239356,
          -0.16425532881493446,
          -0.16464179279173083,
          -0.17053486538508955,
          -0.14302907425306682,
          -0.16338783831425102,
          -0.1636770195759843,
          1.6553318730873547,
          -0.13766670758674218,
          -0.16085772971638448,
          -0.1643458106236182,
          -0.16471503422883918,
          -0.16394424793520315,
          -0.13507412277128808,
          -0.16459154524147343,
          -0.024228502359774473,
          -0.13774758298665862,
          -0.15799796843623348,
          -0.1645704262009198,
          -0.16259093270241753,
          -0.16403641364947205,
          -0.12438317926007783,
          -0.13718951311037275,
          -0.13748866125077736,
          -0.1374719819519525,
          -0.1380853307943532,
          -0.2237157662037293,
          -0.16427504446418184,
          -0.1824970058322076,
          -0.16126307376341406,
          -0.137259583116933,
          3.9952124157650437,
          0.4559370904921115,
          -0.16309727399436905,
          -0.14709187340949847,
          -0.16176389134585858,
          -0.16471737184557494,
          -0.16162307658650055,
          -0.14729042631092137,
          -0.12003838311961457,
          -0.11341377889381965,
          -0.17809580615517848,
          -0.16458513076777304,
          -0.032454597645052694,
          -0.12309328592963066,
          -0.16472658289253547,
          -0.13777652905042392,
          0.5123184490046673,
          -0.2230780859249852,
          -0.1421081522280765,
          -0.1375063545621463,
          -0.2233746376938571,
          -0.16277723868984234,
          -0.16193660029370732,
          -0.12737807718059244,
          0.40605471399776194,
          -0.22341138512742945,
          -0.1376678771531243,
          -0.16052019530266617,
          -0.12977280568259786,
          -0.1632318066320364,
          0.29782264711504597,
          -0.22253868264372298,
          -0.17394581324227773,
          -0.16349197650041525,
          -0.1569787403523367,
          -0.1645081930215898,
          -0.13574524028019258,
          -0.2233733314628282,
          -0.16472664376426452,
          -0.2235296116083659,
          -0.29718719917163483,
          0.29459375905556884,
          -0.13793859167667896,
          -0.09268115422418964,
          -0.1617796832250881,
          -0.13789550593846783,
          -0.16437669721606152,
          -0.06905573382794629,
          -0.12710964447214174,
          -0.16466235985441263,
          -0.08864699998170995,
          -0.20956165561906775,
          -0.22127201658245288,
          0.2945875811213754,
          -0.16470767145685913,
          0.29472368541005867,
          -0.14266978753346676,
          0.5190356650963119,
          -0.14239752781951856,
          -0.16467464234031517,
          -0.21598500830458145,
          -0.16467514443878928,
          -0.16273205352286593,
          -0.14237662479696556,
          -0.1335825214775256,
          -0.13448582867929304,
          -0.1849649289559245,
          -0.16421950016455888,
          -0.10291604279443375,
          -0.1640350902754444,
          -0.1422470618427024,
          -0.15200862138505944,
          -0.011098348723362872,
          -0.14083710665149057,
          0.33217438856571974,
          -0.22254787268820506,
          -0.16436632178872054,
          -0.16412129219754765,
          -0.2229580482473321,
          -0.22355865447067355,
          0.29499827115391586,
          -0.1582776367262604,
          3.3828745526547372,
          -0.09433140855981742,
          -0.21407673633494764,
          -0.13770609229215788,
          -0.0874601149951552,
          1.6557889831439243,
          -0.16446830578487817,
          -0.16389865340723736,
          -0.16358749217769222,
          -0.16357387329087766,
          0.29518863843718285,
          0.05600211249035283,
          -0.17607602458924582,
          -0.1754122923463644,
          -0.1645148299857598,
          -0.172656205381109,
          -0.16273018733727757,
          -0.2189248148885304,
          -0.17525169969807022,
          -0.12541310576910972,
          -0.17535575454894192,
          -0.10325294299629009,
          1.1654265270288395,
          0.2945698615236961,
          -0.04741187760156045,
          -0.16392975098983936,
          -0.21866106106016148,
          -0.1309258714930239,
          -0.07747673303557998,
          1.1388630822284507,
          -0.22353158415001875,
          -0.175409581973012,
          -0.17537783600828316,
          -0.16816783461266935,
          -0.1636890161743329,
          -0.2234539422032782,
          -0.1376845998254193,
          -0.19346766073426166,
          -0.24053179941993427,
          -0.16433796115904578,
          8.330218615130248,
          -0.15441169101273314,
          0.29859832110442774,
          0.03615776743935336,
          -0.1721369603654188,
          -0.1674756481859297,
          -0.16428621220432407,
          0.15519960439070368,
          -0.21736158420717505,
          -0.07664840360201745,
          0.3027989462476401,
          -0.16453266722279694,
          -0.03411825019502652,
          -0.15631001418774845,
          -0.2267480765137988,
          -0.16346483460892258,
          -0.06675372285644994,
          -0.17545246443311088,
          -0.22259036047842878,
          0.29475989539754455,
          -0.1850261363162522,
          -0.1425089665465704,
          -0.19263792886624506,
          -0.06914335785543423,
          0.29883724540017426,
          0.617953772507828,
          2.1742278660373677,
          -0.15381174520408197,
          0.3089099938574233,
          -0.1468737092490757,
          -0.19144722511789583,
          -0.13082908156187367,
          -0.22351302710131457,
          -0.16455831391696474,
          -0.15395341737322132,
          -0.13082151226820823,
          -0.15802373405768377,
          -0.14051874247022106,
          3.2415256922861224,
          0.3079471735635601,
          -0.22302315179616053,
          -0.09590140125937388,
          -0.22348329897094235,
          -0.1908530325519239,
          -0.0550430834643636,
          -0.12860815065353873,
          -0.06851781146187437,
          -0.1377061314380495,
          -0.2103080045385852,
          0.37765209558874274,
          -0.14298154929342125,
          -0.1426045803276594,
          -0.14301088176226393,
          -0.09157559896384009,
          -0.2768722869076226,
          -0.1429772225795382,
          -0.16340672347096855,
          -0.1625000263266023,
          -0.1643408894450849,
          -0.1834490999760954,
          -0.17727635766531746,
          -0.1369530126190561,
          -0.0961697788293977,
          -0.1357762083422332,
          0.07326069009344745,
          0.5579164700721352,
          -0.09753713470358501,
          -0.09158578493925776,
          -0.14744734786986943,
          -0.1374880052154632,
          0.5798415518469231,
          -0.19062272478296702,
          -0.1646379105529414,
          -0.16251252492041166,
          -0.114179660003969,
          -0.10816882429484512,
          -0.06724376837427844,
          -0.12714415040405933,
          -0.32013866227669513,
          0.31720385086883124,
          -0.16464093479856226
         ],
         "y": [
          -1.3631796280508373,
          -2.1051150856831944,
          -1.020337117382537,
          -2.28849571727798,
          -2.1052160229995174,
          -2.0903648989444648,
          -1.9272265945637785,
          -1.0203283032414805,
          -0.942179632388007,
          -1.0203469333886086,
          -1.9216500266719492,
          -1.2089005320829522,
          -1.363193873262182,
          -1.02039318003671,
          -1.0203664856649601,
          -0.6364787376923002,
          -1.27048796975671,
          -1.0203309530783844,
          -1.0203277424436379,
          -1.0203248544472943,
          -0.9421810271186957,
          -1.9232962406420426,
          -1.3662365395392089,
          -1.0221059427368095,
          -1.0203224535427122,
          -1.020382890861337,
          -1.0203284017183967,
          -1.0203252950482398,
          -1.614403872641426,
          -1.020676318237044,
          -1.0203292246978681,
          -1.020339604627533,
          -1.02981457796411,
          -1.3631784064447607,
          -1.0203920583554902,
          -1.020322574438208,
          -1.0203204550091525,
          -1.0203261058113362,
          -2.2607605656473284,
          -1.020322887334395,
          -1.0267725821513654,
          -1.363180860705997,
          -1.020356413189598,
          -1.020330105089548,
          -1.020433637530775,
          -1.020335475369644,
          -1.3633947053537383,
          -1.3631825089170413,
          -1.3631880062686874,
          -1.3632146481368967,
          -1.3631762858206231,
          -0.9421736514382367,
          -1.020322570218889,
          -1.477915435723589,
          -1.0204043590078888,
          -1.363183197882187,
          -2.353682479023916,
          -2.336442731816316,
          -1.0203454976615907,
          -1.0209849228615528,
          -1.0203488043171807,
          -1.020321438977774,
          -1.0203399688275558,
          -1.0205051414860162,
          -2.332050472539297,
          -1.921294886790081,
          -1.5307125703420505,
          -1.0203179570193164,
          -1.0234501047988247,
          -2.2875870749764013,
          -1.0203202835665246,
          -1.3631817391091001,
          -1.0655008846807605,
          -0.9421778761770601,
          -2.2350603873442085,
          -1.3631969447917496,
          -0.9421783023375438,
          -1.0204108858062984,
          -1.0204137810272154,
          -2.105160934202708,
          -2.222146715128894,
          -0.9421758453744891,
          -1.3631784419366586,
          -1.0203422216501807,
          -2.2504742448107393,
          -1.0203344916315837,
          -1.3653982375966682,
          -0.9421979428386884,
          -2.1636864481564864,
          -1.020402649191455,
          -2.1608928919775354,
          -1.0203275021272853,
          -2.319527182920863,
          -0.9421811203848757,
          -1.0203202832490532,
          -0.9421858628937668,
          -1.5373281621508292,
          -2.3342018171804897,
          -1.3631786098491852,
          -1.9215230363151345,
          -1.0203732981090963,
          -1.3631779469818623,
          -1.0203306559451928,
          -1.950031674749247,
          -2.1051594317975666,
          -2.0903655825373284,
          -1.0251553308004298,
          -0.9421013387472403,
          -0.9422623810476839,
          -2.3342098632951567,
          -1.0203212062524005,
          -2.334208590733378,
          -2.23503757390278,
          -0.9910761284059402,
          -2.2885889772414068,
          -1.020320665256195,
          -0.942653473916742,
          -2.0903631128144275,
          -1.0203307567686284,
          -2.235036536165652,
          -2.3207216665066936,
          -1.0222598354394805,
          -0.6177901336318734,
          -1.0203298295048022,
          -1.3638949069430328,
          -1.0203502951799772,
          -2.288527257440805,
          -2.3755413768386693,
          -2.235048831385267,
          -2.1756595690676233,
          -2.3344830868248208,
          -0.9422096524675664,
          -1.0203226802044547,
          -1.0203550543457944,
          -0.9421935228731831,
          -0.9421823862624523,
          -2.334220976325881,
          -2.2807419998260885,
          -1.0555479438526307,
          -1.2704043464894563,
          -0.9426670072718228,
          -1.3631796016209934,
          -1.0254765241589898,
          -0.965074107581392,
          -1.0203262917011364,
          -1.020354727898639,
          -1.02035671608299,
          -1.020356302801498,
          -2.334240124777724,
          -2.098657105027362,
          -0.9420139251251025,
          -1.6143311277452783,
          -2.090361105566108,
          -2.1637375497162923,
          -1.0203307001369835,
          -0.9422783118282674,
          -1.614339113957478,
          -2.1052892645412316,
          -1.6143328412616271,
          -1.9214580622793518,
          -2.368494043486013,
          -2.334204328433875,
          -2.1098664016543833,
          -1.0203671023380976,
          -0.942413192225394,
          -2.288822739243951,
          -1.0212442475175796,
          -1.2039240901689916,
          -0.9421822077604874,
          -1.614326758966017,
          -1.6143336542343802,
          -1.6144492073928507,
          -1.0203340777723746,
          -0.9421821377714608,
          -1.363178353578621,
          -1.2023361357860582,
          -0.2968359597238549,
          -1.020325193923252,
          -2.8047655971607917,
          -2.219939116174071,
          -2.3343131953792837,
          -1.0213679800967592,
          -2.1636815658548363,
          -1.4781854469341733,
          -1.0203350542849399,
          -1.023761640608047,
          -0.9423380369570699,
          -2.1082531435108955,
          -2.334660098315551,
          -1.020328959247964,
          -1.3671972199262414,
          -2.347469769645185,
          -0.6364600997559801,
          -2.0903642488535383,
          -1.9501608553224188,
          -1.6143280602858203,
          -0.9422109418106376,
          -2.334202776715082,
          -0.6177725216247989,
          -2.235044324381298,
          -1.2273213228917035,
          -1.9500265466100348,
          -2.334494552612218,
          -2.2521141995000495,
          -2.4086084945470354,
          -2.193198336249101,
          -2.3344746512293275,
          -0.6640628999146364,
          -1.3087210600192563,
          -2.273199479906538,
          -0.9421825019304803,
          -1.0203305271515137,
          -1.0207073379598355,
          -2.289355758969464,
          -2.2043387631559344,
          -0.8806798389595826,
          -2.3041809487339733,
          -2.3345038691686164,
          -0.9421883543024311,
          -1.3633962705646254,
          -0.9421844574811082,
          -1.3087586993362146,
          -2.092453655277211,
          -2.273264965509629,
          -1.9500600736418268,
          -1.3631796028089223,
          -0.7919240434254992,
          -2.3374466945867636,
          -2.189634574345307,
          -2.1896832319166166,
          -2.1896384856204865,
          -2.1930605474743103,
          -0.2820829012128695,
          -2.231270499467282,
          -1.0203655188716831,
          -2.090472711074806,
          -2.0903628899034374,
          -1.4779076783358243,
          -1.5307591453545735,
          -1.3631874686426715,
          -0.3911633079287183,
          -1.36322605695072,
          -2.106204447518998,
          -1.0684751298007993,
          -1.6148063095663374,
          -2.193060856579979,
          -1.0205099034593685,
          -1.3631879863605068,
          -1.0334461068847036,
          -1.27048910782735,
          -1.020320722237407,
          -1.0203826774821683,
          -1.9213201287536235,
          -2.3000544683085673,
          -1.950111428396919,
          -2.105159251834549,
          -1.6420823034493248,
          -2.334508891853354,
          -2.090364932368252
         ],
         "z": [
          0.18710093713124065,
          0.4044915593002196,
          -0.04038882706334879,
          0.34245713548382123,
          0.4044735007386216,
          0.4403287589612414,
          0.2652244085152169,
          -0.040364055970202525,
          0.047688210318233976,
          -0.040369590998269526,
          0.2700640441329268,
          -0.06976731385628555,
          0.18703650664614696,
          -0.040424491895449145,
          -0.04037065941361126,
          0.10847835470842493,
          0.10847766577542808,
          -0.04037577499047837,
          -0.04036456155494466,
          -0.04036308332453238,
          0.047690506380286754,
          0.2639894131177488,
          0.17896197361788016,
          -0.04576140776683207,
          -0.04036932973949829,
          -0.040459626496752985,
          -0.04036967975800642,
          -0.04036169721184259,
          0.22369358953794397,
          -0.04077715616244295,
          -0.04038867213464073,
          -0.040380480403274535,
          -0.07885163975116899,
          0.1870998357978512,
          -0.04043351154090323,
          -0.04036870142223999,
          -0.04036092678240785,
          -0.04037694286731041,
          0.4166440928345205,
          -0.040363226087362314,
          -0.042333206957651776,
          0.1871020484258965,
          -0.04050282010837472,
          -0.04036243152228012,
          -0.04038801762584423,
          -0.040373273569834944,
          0.18684458477523677,
          0.187090025711449,
          0.18709758466144813,
          0.18710186918642416,
          0.1871086999416587,
          0.04769320470968464,
          -0.040370263199571266,
          0.25632638395659263,
          -0.0404224219437277,
          0.18709169170906412,
          0.3544366221417267,
          0.4294994184987391,
          -0.04039223999381772,
          -0.04063364284392982,
          -0.040421075826776294,
          -0.04036070338665496,
          -0.04042572501613307,
          -0.04071304691635552,
          0.3980756526160144,
          0.27078251833804606,
          0.19336977690228188,
          -0.04036422856354897,
          -0.04273194891797586,
          0.5329776984036123,
          -0.04036070196777486,
          0.1871028403462154,
          -0.04740586664482564,
          0.047679875796081295,
          0.4222379120972292,
          0.18709953589040548,
          0.04768649189281941,
          -0.0403878809983711,
          -0.040405919166238494,
          0.40452411391853454,
          0.3355278005445527,
          0.04768687345133427,
          0.18709986779541016,
          -0.04044966021787497,
          0.3192313119203959,
          -0.04039119429716803,
          0.1778809637857888,
          0.0476714812553273,
          0.4062572726203901,
          -0.040373552853874374,
          0.4040589714245195,
          -0.04036425888658395,
          0.2975114466909992,
          0.047686955192665054,
          -0.04036070068043685,
          0.047691230779967335,
          0.686696456555828,
          0.4326671836098884,
          0.18710586884706476,
          0.2703650161344069,
          -0.040416450133059945,
          0.18710480265661272,
          -0.040366608821151,
          0.27157127642061396,
          0.4045179301599863,
          0.4403293752512759,
          -0.041194610178690236,
          0.047368349295054846,
          0.047654792504988705,
          0.4326687249787197,
          -0.040360958009587326,
          0.432665500408544,
          0.4222463173885192,
          0.03984856275981044,
          0.3424451385515308,
          -0.04036178107733763,
          0.04760646200647073,
          0.44032922598173546,
          -0.040402870637455034,
          0.42223966925159623,
          0.3250633036790164,
          -0.04068908399370352,
          0.022708221948699713,
          -0.040370220773551964,
          0.18645838818820248,
          -0.040370714786360395,
          0.34243104130421514,
          0.45028464574061866,
          0.3469829277615715,
          0.42790713028983407,
          0.43188730527313174,
          0.04767372882634626,
          -0.04036823049370163,
          -0.04036798215550576,
          0.04767996024293365,
          0.04769126431812616,
          0.43266160617332367,
          0.45122564875249815,
          -0.11246593838511137,
          0.04884369541258482,
          0.047566730493689466,
          0.18710091330354311,
          -0.04116470200564507,
          -0.0901673187276521,
          -0.040365350140768655,
          -0.040372950382723115,
          -0.04037946713576336,
          -0.040379839727811694,
          0.43266075071948956,
          0.43690965145766913,
          0.04661442012511061,
          0.22378847797058404,
          0.44032533905825244,
          0.4062377488214227,
          -0.040402921693456946,
          0.04760579724181758,
          0.2237863300632973,
          0.40450317860393326,
          0.22378753002597013,
          0.2705868743044393,
          0.4194457970457012,
          0.4326681493077598,
          0.40358184184046875,
          -0.0403701034547514,
          0.04762353315495342,
          0.34223290543553125,
          -0.04212400713553719,
          0.0015075219873031016,
          0.04769063599846537,
          0.22378765526437502,
          0.2237881590929602,
          0.2236492916629051,
          -0.04038118092056424,
          0.04768891106185871,
          0.18710022125323547,
          0.011887073944742041,
          0.1691493212838359,
          -0.04036841713532114,
          0.33758253613217604,
          0.38028710506716246,
          0.43259829633931957,
          -0.044609078964958256,
          0.4062165182903493,
          0.256042177668287,
          -0.04036783676271892,
          -0.046817035614721815,
          0.04758174348863853,
          0.40394505196570335,
          0.4325662136512973,
          -0.04036346455054392,
          0.18551744939329207,
          0.4389802079686324,
          0.10858364910032518,
          0.44030272597547643,
          0.27154305477971613,
          0.22378882846332027,
          0.0476748912277234,
          0.43266368634834634,
          0.022706496554472853,
          0.422243948648733,
          0.13346242261584074,
          0.27157231380682345,
          0.4326246961968303,
          0.3632330858597985,
          0.40419767481863916,
          0.4300615799672819,
          0.43239902467489705,
          0.020569591454333135,
          0.22137414502907873,
          0.26443247198070696,
          0.04769027801671418,
          -0.04036262500436253,
          -0.04053075760581461,
          0.342323684325384,
          0.3081844685889119,
          0.21238030656174828,
          0.31445173947893124,
          0.43242536597505804,
          0.047680493786245504,
          0.1862165746209147,
          0.047689963736583046,
          0.22136761058779544,
          0.43827590753257667,
          0.2643949158758189,
          0.2715643696008403,
          0.18710091437451531,
          0.13173441513432954,
          0.43140163955524335,
          0.3986754019598115,
          0.39867558339618736,
          0.3986767320328065,
          0.39813970693127543,
          0.20494114893994,
          0.3647626937203847,
          -0.04038191751117885,
          0.4403003838386429,
          0.4403218136776941,
          0.2563460316645071,
          0.19335983394535683,
          0.18708567482872268,
          -0.04230949868830737,
          0.18706645419683743,
          0.4002804237595128,
          -0.04789232879043495,
          0.22215359984113797,
          0.3981399856040845,
          -0.04070875378095699,
          0.18709756671331887,
          -0.0544930777201357,
          0.10846778598386905,
          -0.040362581398323286,
          -0.0403986463614225,
          0.2708038210068442,
          0.46356481836005786,
          0.27154523336273356,
          0.40451865990426794,
          0.6405949624700382,
          0.4322220487570057,
          0.4403287890943049
         ]
        },
        {
         "customdata": [
          [
           "Proof-of-BibleHash"
          ],
          [
           "SHA-256 + Hive"
          ],
          [
           "Proof-of-Authority"
          ],
          [
           "ECC 256K1"
          ],
          [
           "Leased POS"
          ]
         ],
         "hovertemplate": "<b>%{hovertext}</b><br><br>class=%{marker.color}<br>PC 1=%{x}<br>PC 2=%{y}<br>PC 3=%{z}<br>Algorithm=%{customdata[0]}<extra></extra>",
         "hovertext": [
          "BiblePay",
          "LitecoinCash",
          "Poa Network",
          "Acute Angle Cloud",
          "Waves"
         ],
         "legendgroup": "3",
         "marker": {
          "color": [
           3,
           3,
           3,
           3,
           3
          ],
          "coloraxis": "coloraxis",
          "symbol": "square"
         },
         "mode": "markers",
         "name": "3",
         "scene": "scene",
         "showlegend": true,
         "type": "scatter3d",
         "x": [
          -0.1394329752662733,
          -0.4839600681937048,
          -0.33943591060075984,
          -0.20253221816298053,
          -0.47088088882406426
         ],
         "y": [
          3.372945807469158,
          5.244261634811759,
          1.9962255039694201,
          0.1297690237418454,
          4.894665161440688
         ],
         "z": [
          8.997543101289677,
          17.3042206641022,
          14.213013164934898,
          15.694074840500923,
          15.286589794938118
         ]
        },
        {
         "customdata": [
          [
           "TRC10"
          ]
         ],
         "hovertemplate": "<b>%{hovertext}</b><br><br>class=%{marker.color}<br>PC 1=%{x}<br>PC 2=%{y}<br>PC 3=%{z}<br>Algorithm=%{customdata[0]}<extra></extra>",
         "hovertext": [
          "BitTorrent"
         ],
         "legendgroup": "2",
         "marker": {
          "color": [
           2
          ],
          "coloraxis": "coloraxis",
          "symbol": "x"
         },
         "mode": "markers",
         "name": "2",
         "scene": "scene",
         "showlegend": true,
         "type": "scatter3d",
         "x": [
          35.47415360323733
         ],
         "y": [
          1.6323182793703417
         ],
         "z": [
          -0.8412954289034821
         ]
        }
       ],
       "layout": {
        "coloraxis": {
         "colorbar": {
          "title": {
           "text": "class"
          }
         },
         "colorscale": [
          [
           0,
           "#0d0887"
          ],
          [
           0.1111111111111111,
           "#46039f"
          ],
          [
           0.2222222222222222,
           "#7201a8"
          ],
          [
           0.3333333333333333,
           "#9c179e"
          ],
          [
           0.4444444444444444,
           "#bd3786"
          ],
          [
           0.5555555555555556,
           "#d8576b"
          ],
          [
           0.6666666666666666,
           "#ed7953"
          ],
          [
           0.7777777777777778,
           "#fb9f3a"
          ],
          [
           0.8888888888888888,
           "#fdca26"
          ],
          [
           1,
           "#f0f921"
          ]
         ]
        },
        "legend": {
         "title": {
          "text": "class"
         },
         "tracegroupgap": 0,
         "x": 0,
         "y": 1
        },
        "margin": {
         "t": 60
        },
        "scene": {
         "domain": {
          "x": [
           0,
           1
          ],
          "y": [
           0,
           1
          ]
         },
         "xaxis": {
          "title": {
           "text": "PC 1"
          }
         },
         "yaxis": {
          "title": {
           "text": "PC 2"
          }
         },
         "zaxis": {
          "title": {
           "text": "PC 3"
          }
         }
        },
        "template": {
         "data": {
          "bar": [
           {
            "error_x": {
             "color": "#2a3f5f"
            },
            "error_y": {
             "color": "#2a3f5f"
            },
            "marker": {
             "line": {
              "color": "#E5ECF6",
              "width": 0.5
             },
             "pattern": {
              "fillmode": "overlay",
              "size": 10,
              "solidity": 0.2
             }
            },
            "type": "bar"
           }
          ],
          "barpolar": [
           {
            "marker": {
             "line": {
              "color": "#E5ECF6",
              "width": 0.5
             },
             "pattern": {
              "fillmode": "overlay",
              "size": 10,
              "solidity": 0.2
             }
            },
            "type": "barpolar"
           }
          ],
          "carpet": [
           {
            "aaxis": {
             "endlinecolor": "#2a3f5f",
             "gridcolor": "white",
             "linecolor": "white",
             "minorgridcolor": "white",
             "startlinecolor": "#2a3f5f"
            },
            "baxis": {
             "endlinecolor": "#2a3f5f",
             "gridcolor": "white",
             "linecolor": "white",
             "minorgridcolor": "white",
             "startlinecolor": "#2a3f5f"
            },
            "type": "carpet"
           }
          ],
          "choropleth": [
           {
            "colorbar": {
             "outlinewidth": 0,
             "ticks": ""
            },
            "type": "choropleth"
           }
          ],
          "contour": [
           {
            "colorbar": {
             "outlinewidth": 0,
             "ticks": ""
            },
            "colorscale": [
             [
              0,
              "#0d0887"
             ],
             [
              0.1111111111111111,
              "#46039f"
             ],
             [
              0.2222222222222222,
              "#7201a8"
             ],
             [
              0.3333333333333333,
              "#9c179e"
             ],
             [
              0.4444444444444444,
              "#bd3786"
             ],
             [
              0.5555555555555556,
              "#d8576b"
             ],
             [
              0.6666666666666666,
              "#ed7953"
             ],
             [
              0.7777777777777778,
              "#fb9f3a"
             ],
             [
              0.8888888888888888,
              "#fdca26"
             ],
             [
              1,
              "#f0f921"
             ]
            ],
            "type": "contour"
           }
          ],
          "contourcarpet": [
           {
            "colorbar": {
             "outlinewidth": 0,
             "ticks": ""
            },
            "type": "contourcarpet"
           }
          ],
          "heatmap": [
           {
            "colorbar": {
             "outlinewidth": 0,
             "ticks": ""
            },
            "colorscale": [
             [
              0,
              "#0d0887"
             ],
             [
              0.1111111111111111,
              "#46039f"
             ],
             [
              0.2222222222222222,
              "#7201a8"
             ],
             [
              0.3333333333333333,
              "#9c179e"
             ],
             [
              0.4444444444444444,
              "#bd3786"
             ],
             [
              0.5555555555555556,
              "#d8576b"
             ],
             [
              0.6666666666666666,
              "#ed7953"
             ],
             [
              0.7777777777777778,
              "#fb9f3a"
             ],
             [
              0.8888888888888888,
              "#fdca26"
             ],
             [
              1,
              "#f0f921"
             ]
            ],
            "type": "heatmap"
           }
          ],
          "heatmapgl": [
           {
            "colorbar": {
             "outlinewidth": 0,
             "ticks": ""
            },
            "colorscale": [
             [
              0,
              "#0d0887"
             ],
             [
              0.1111111111111111,
              "#46039f"
             ],
             [
              0.2222222222222222,
              "#7201a8"
             ],
             [
              0.3333333333333333,
              "#9c179e"
             ],
             [
              0.4444444444444444,
              "#bd3786"
             ],
             [
              0.5555555555555556,
              "#d8576b"
             ],
             [
              0.6666666666666666,
              "#ed7953"
             ],
             [
              0.7777777777777778,
              "#fb9f3a"
             ],
             [
              0.8888888888888888,
              "#fdca26"
             ],
             [
              1,
              "#f0f921"
             ]
            ],
            "type": "heatmapgl"
           }
          ],
          "histogram": [
           {
            "marker": {
             "pattern": {
              "fillmode": "overlay",
              "size": 10,
              "solidity": 0.2
             }
            },
            "type": "histogram"
           }
          ],
          "histogram2d": [
           {
            "colorbar": {
             "outlinewidth": 0,
             "ticks": ""
            },
            "colorscale": [
             [
              0,
              "#0d0887"
             ],
             [
              0.1111111111111111,
              "#46039f"
             ],
             [
              0.2222222222222222,
              "#7201a8"
             ],
             [
              0.3333333333333333,
              "#9c179e"
             ],
             [
              0.4444444444444444,
              "#bd3786"
             ],
             [
              0.5555555555555556,
              "#d8576b"
             ],
             [
              0.6666666666666666,
              "#ed7953"
             ],
             [
              0.7777777777777778,
              "#fb9f3a"
             ],
             [
              0.8888888888888888,
              "#fdca26"
             ],
             [
              1,
              "#f0f921"
             ]
            ],
            "type": "histogram2d"
           }
          ],
          "histogram2dcontour": [
           {
            "colorbar": {
             "outlinewidth": 0,
             "ticks": ""
            },
            "colorscale": [
             [
              0,
              "#0d0887"
             ],
             [
              0.1111111111111111,
              "#46039f"
             ],
             [
              0.2222222222222222,
              "#7201a8"
             ],
             [
              0.3333333333333333,
              "#9c179e"
             ],
             [
              0.4444444444444444,
              "#bd3786"
             ],
             [
              0.5555555555555556,
              "#d8576b"
             ],
             [
              0.6666666666666666,
              "#ed7953"
             ],
             [
              0.7777777777777778,
              "#fb9f3a"
             ],
             [
              0.8888888888888888,
              "#fdca26"
             ],
             [
              1,
              "#f0f921"
             ]
            ],
            "type": "histogram2dcontour"
           }
          ],
          "mesh3d": [
           {
            "colorbar": {
             "outlinewidth": 0,
             "ticks": ""
            },
            "type": "mesh3d"
           }
          ],
          "parcoords": [
           {
            "line": {
             "colorbar": {
              "outlinewidth": 0,
              "ticks": ""
             }
            },
            "type": "parcoords"
           }
          ],
          "pie": [
           {
            "automargin": true,
            "type": "pie"
           }
          ],
          "scatter": [
           {
            "fillpattern": {
             "fillmode": "overlay",
             "size": 10,
             "solidity": 0.2
            },
            "type": "scatter"
           }
          ],
          "scatter3d": [
           {
            "line": {
             "colorbar": {
              "outlinewidth": 0,
              "ticks": ""
             }
            },
            "marker": {
             "colorbar": {
              "outlinewidth": 0,
              "ticks": ""
             }
            },
            "type": "scatter3d"
           }
          ],
          "scattercarpet": [
           {
            "marker": {
             "colorbar": {
              "outlinewidth": 0,
              "ticks": ""
             }
            },
            "type": "scattercarpet"
           }
          ],
          "scattergeo": [
           {
            "marker": {
             "colorbar": {
              "outlinewidth": 0,
              "ticks": ""
             }
            },
            "type": "scattergeo"
           }
          ],
          "scattergl": [
           {
            "marker": {
             "colorbar": {
              "outlinewidth": 0,
              "ticks": ""
             }
            },
            "type": "scattergl"
           }
          ],
          "scattermapbox": [
           {
            "marker": {
             "colorbar": {
              "outlinewidth": 0,
              "ticks": ""
             }
            },
            "type": "scattermapbox"
           }
          ],
          "scatterpolar": [
           {
            "marker": {
             "colorbar": {
              "outlinewidth": 0,
              "ticks": ""
             }
            },
            "type": "scatterpolar"
           }
          ],
          "scatterpolargl": [
           {
            "marker": {
             "colorbar": {
              "outlinewidth": 0,
              "ticks": ""
             }
            },
            "type": "scatterpolargl"
           }
          ],
          "scatterternary": [
           {
            "marker": {
             "colorbar": {
              "outlinewidth": 0,
              "ticks": ""
             }
            },
            "type": "scatterternary"
           }
          ],
          "surface": [
           {
            "colorbar": {
             "outlinewidth": 0,
             "ticks": ""
            },
            "colorscale": [
             [
              0,
              "#0d0887"
             ],
             [
              0.1111111111111111,
              "#46039f"
             ],
             [
              0.2222222222222222,
              "#7201a8"
             ],
             [
              0.3333333333333333,
              "#9c179e"
             ],
             [
              0.4444444444444444,
              "#bd3786"
             ],
             [
              0.5555555555555556,
              "#d8576b"
             ],
             [
              0.6666666666666666,
              "#ed7953"
             ],
             [
              0.7777777777777778,
              "#fb9f3a"
             ],
             [
              0.8888888888888888,
              "#fdca26"
             ],
             [
              1,
              "#f0f921"
             ]
            ],
            "type": "surface"
           }
          ],
          "table": [
           {
            "cells": {
             "fill": {
              "color": "#EBF0F8"
             },
             "line": {
              "color": "white"
             }
            },
            "header": {
             "fill": {
              "color": "#C8D4E3"
             },
             "line": {
              "color": "white"
             }
            },
            "type": "table"
           }
          ]
         },
         "layout": {
          "annotationdefaults": {
           "arrowcolor": "#2a3f5f",
           "arrowhead": 0,
           "arrowwidth": 1
          },
          "autotypenumbers": "strict",
          "coloraxis": {
           "colorbar": {
            "outlinewidth": 0,
            "ticks": ""
           }
          },
          "colorscale": {
           "diverging": [
            [
             0,
             "#8e0152"
            ],
            [
             0.1,
             "#c51b7d"
            ],
            [
             0.2,
             "#de77ae"
            ],
            [
             0.3,
             "#f1b6da"
            ],
            [
             0.4,
             "#fde0ef"
            ],
            [
             0.5,
             "#f7f7f7"
            ],
            [
             0.6,
             "#e6f5d0"
            ],
            [
             0.7,
             "#b8e186"
            ],
            [
             0.8,
             "#7fbc41"
            ],
            [
             0.9,
             "#4d9221"
            ],
            [
             1,
             "#276419"
            ]
           ],
           "sequential": [
            [
             0,
             "#0d0887"
            ],
            [
             0.1111111111111111,
             "#46039f"
            ],
            [
             0.2222222222222222,
             "#7201a8"
            ],
            [
             0.3333333333333333,
             "#9c179e"
            ],
            [
             0.4444444444444444,
             "#bd3786"
            ],
            [
             0.5555555555555556,
             "#d8576b"
            ],
            [
             0.6666666666666666,
             "#ed7953"
            ],
            [
             0.7777777777777778,
             "#fb9f3a"
            ],
            [
             0.8888888888888888,
             "#fdca26"
            ],
            [
             1,
             "#f0f921"
            ]
           ],
           "sequentialminus": [
            [
             0,
             "#0d0887"
            ],
            [
             0.1111111111111111,
             "#46039f"
            ],
            [
             0.2222222222222222,
             "#7201a8"
            ],
            [
             0.3333333333333333,
             "#9c179e"
            ],
            [
             0.4444444444444444,
             "#bd3786"
            ],
            [
             0.5555555555555556,
             "#d8576b"
            ],
            [
             0.6666666666666666,
             "#ed7953"
            ],
            [
             0.7777777777777778,
             "#fb9f3a"
            ],
            [
             0.8888888888888888,
             "#fdca26"
            ],
            [
             1,
             "#f0f921"
            ]
           ]
          },
          "colorway": [
           "#636efa",
           "#EF553B",
           "#00cc96",
           "#ab63fa",
           "#FFA15A",
           "#19d3f3",
           "#FF6692",
           "#B6E880",
           "#FF97FF",
           "#FECB52"
          ],
          "font": {
           "color": "#2a3f5f"
          },
          "geo": {
           "bgcolor": "white",
           "lakecolor": "white",
           "landcolor": "#E5ECF6",
           "showlakes": true,
           "showland": true,
           "subunitcolor": "white"
          },
          "hoverlabel": {
           "align": "left"
          },
          "hovermode": "closest",
          "mapbox": {
           "style": "light"
          },
          "paper_bgcolor": "white",
          "plot_bgcolor": "#E5ECF6",
          "polar": {
           "angularaxis": {
            "gridcolor": "white",
            "linecolor": "white",
            "ticks": ""
           },
           "bgcolor": "#E5ECF6",
           "radialaxis": {
            "gridcolor": "white",
            "linecolor": "white",
            "ticks": ""
           }
          },
          "scene": {
           "xaxis": {
            "backgroundcolor": "#E5ECF6",
            "gridcolor": "white",
            "gridwidth": 2,
            "linecolor": "white",
            "showbackground": true,
            "ticks": "",
            "zerolinecolor": "white"
           },
           "yaxis": {
            "backgroundcolor": "#E5ECF6",
            "gridcolor": "white",
            "gridwidth": 2,
            "linecolor": "white",
            "showbackground": true,
            "ticks": "",
            "zerolinecolor": "white"
           },
           "zaxis": {
            "backgroundcolor": "#E5ECF6",
            "gridcolor": "white",
            "gridwidth": 2,
            "linecolor": "white",
            "showbackground": true,
            "ticks": "",
            "zerolinecolor": "white"
           }
          },
          "shapedefaults": {
           "line": {
            "color": "#2a3f5f"
           }
          },
          "ternary": {
           "aaxis": {
            "gridcolor": "white",
            "linecolor": "white",
            "ticks": ""
           },
           "baxis": {
            "gridcolor": "white",
            "linecolor": "white",
            "ticks": ""
           },
           "bgcolor": "#E5ECF6",
           "caxis": {
            "gridcolor": "white",
            "linecolor": "white",
            "ticks": ""
           }
          },
          "title": {
           "x": 0.05
          },
          "xaxis": {
           "automargin": true,
           "gridcolor": "white",
           "linecolor": "white",
           "ticks": "",
           "title": {
            "standoff": 15
           },
           "zerolinecolor": "white",
           "zerolinewidth": 2
          },
          "yaxis": {
           "automargin": true,
           "gridcolor": "white",
           "linecolor": "white",
           "ticks": "",
           "title": {
            "standoff": 15
           },
           "zerolinecolor": "white",
           "zerolinewidth": 2
          }
         }
        },
        "width": 800
       }
      },
      "text/html": [
       "<div>                            <div id=\"3e5a0531-1192-4f13-8b51-9e2090c88a51\" class=\"plotly-graph-div\" style=\"height:525px; width:800px;\"></div>            <script type=\"text/javascript\">                require([\"plotly\"], function(Plotly) {                    window.PLOTLYENV=window.PLOTLYENV || {};                                    if (document.getElementById(\"3e5a0531-1192-4f13-8b51-9e2090c88a51\")) {                    Plotly.newPlot(                        \"3e5a0531-1192-4f13-8b51-9e2090c88a51\",                        [{\"customdata\":[[\"Scrypt\"],[\"Scrypt\"],[\"X13\"],[\"X11\"],[\"SHA-512\"],[\"SHA-256\"],[\"SHA-256\"],[\"X15\"],[\"Scrypt\"],[\"Scrypt\"],[\"Scrypt\"],[\"Scrypt\"],[\"Scrypt\"],[\"Scrypt\"],[\"Groestl\"],[\"PoS\"],[\"Scrypt\"],[\"Scrypt\"],[\"X11\"],[\"X11\"],[\"SHA3\"],[\"Scrypt\"],[\"SHA-256\"],[\"Scrypt\"],[\"X13\"],[\"X13\"],[\"NeoScrypt\"],[\"Scrypt\"],[\"Scrypt\"],[\"Scrypt\"],[\"X11\"],[\"X11\"],[\"Multiple\"],[\"PHI1612\"],[\"X11\"],[\"Scrypt\"],[\"Scrypt\"],[\"Scrypt\"],[\"X11\"],[\"Multiple\"],[\"X13\"],[\"Scrypt\"],[\"Shabal256\"],[\"Counterparty\"],[\"SHA-256\"],[\"Groestl\"],[\"Scrypt\"],[\"X13\"],[\"Scrypt\"],[\"Scrypt\"],[\"X13\"],[\"X11\"],[\"Scrypt\"],[\"X11\"],[\"SHA3\"],[\"QUAIT\"],[\"X11\"],[\"Scrypt\"],[\"X13\"],[\"SHA-256\"],[\"X15\"],[\"BLAKE256\"],[\"SHA-256\"],[\"X11\"],[\"SHA-256\"],[\"NIST5\"],[\"Scrypt\"],[\"Scrypt\"],[\"X11\"],[\"Scrypt\"],[\"SHA-256\"],[\"Scrypt\"],[\"PoS\"],[\"X11\"],[\"SHA-256\"],[\"SHA-256\"],[\"NIST5\"],[\"X11\"],[\"POS 3.0\"],[\"Scrypt\"],[\"Scrypt\"],[\"Scrypt\"],[\"X13\"],[\"X11\"],[\"X11\"],[\"Scrypt\"],[\"SHA-256\"],[\"X11\"],[\"Scrypt\"],[\"Scrypt\"],[\"Scrypt\"],[\"Scrypt\"],[\"SHA-256D\"],[\"PoS\"],[\"Scrypt\"],[\"X11\"],[\"PoS\"],[\"X13\"],[\"X14\"],[\"PoS\"],[\"SHA-256D\"],[\"DPoS\"],[\"X11\"],[\"X13\"],[\"X11\"],[\"PoS\"],[\"Scrypt\"],[\"Scrypt\"],[\"PoS\"],[\"X11\"],[\"SHA-256\"],[\"Scrypt\"],[\"X11\"],[\"Scrypt\"],[\"Scrypt\"],[\"X11\"],[\"Scrypt\"],[\"Scrypt\"],[\"Scrypt\"],[\"Scrypt\"],[\"Quark\"],[\"QuBit\"],[\"Scrypt\"],[\"SHA-256\"],[\"X11\"],[\"Scrypt\"],[\"Scrypt\"],[\"Scrypt\"],[\"Scrypt\"],[\"X13\"],[\"Scrypt\"],[\"Scrypt\"],[\"X11\"],[\"Blake2S\"],[\"X11\"],[\"PoS\"],[\"X11\"],[\"PoS\"],[\"X11\"],[\"Scrypt\"],[\"Scrypt\"],[\"Scrypt\"],[\"SHA-256\"],[\"X11\"],[\"Scrypt\"],[\"PoS\"],[\"Scrypt\"],[\"X15\"],[\"SHA-256\"],[\"POS 3.0\"],[\"536\"],[\"NIST5\"],[\"NIST5\"],[\"Skein\"],[\"X13\"],[\"Scrypt\"],[\"X13\"],[\"SkunkHash v2 Raptor\"],[\"Skein\"],[\"X11\"],[\"Scrypt\"],[\"VeChainThor Authority\"],[\"PoS\"],[\"Scrypt\"],[\"Scrypt\"],[\"SHA-512\"],[\"Ouroboros\"],[\"X11\"],[\"NeoScrypt\"],[\"Scrypt\"],[\"Lyra2REv2\"],[\"Scrypt\"],[\"SHA-256\"],[\"NIST5\"],[\"PHI1612\"],[\"Scrypt\"],[\"Quark\"],[\"POS 2.0\"],[\"Scrypt\"],[\"SHA-256\"],[\"Quark\"],[\"X11\"],[\"DPoS\"],[\"NIST5\"],[\"X13\"],[\"Scrypt\"],[\"NIST5\"],[\"Quark\"],[\"Scrypt\"],[\"Scrypt\"],[\"X11\"],[\"Scrypt\"],[\"Scrypt\"],[\"Quark\"],[\"Scrypt\"],[\"Scrypt\"],[\"X11\"],[\"Scrypt\"],[\"POS 3.0\"],[\"Scrypt\"],[\"Scrypt\"],[\"X11\"],[\"SHA-256\"],[\"X13\"],[\"Skein\"],[\"X11\"],[\"Skein\"],[\"C11\"],[\"X11\"],[\"XEVAN\"],[\"Scrypt\"],[\"VBFT\"],[\"PHI1612\"],[\"NIST5\"],[\"Scrypt\"],[\"Scrypt\"],[\"Scrypt\"],[\"Green Protocol\"],[\"PoS\"],[\"Scrypt\"],[\"Semux BFT consensus\"],[\"Quark\"],[\"PoS\"],[\"X16R\"],[\"Scrypt\"],[\"XEVAN\"],[\"Scrypt\"],[\"Scrypt\"],[\"Scrypt\"],[\"X11\"],[\"SHA-256D\"],[\"Scrypt\"],[\"Scrypt\"],[\"X11\"],[\"Scrypt\"],[\"SHA-256D\"],[\"Scrypt\"],[\"X15\"],[\"Scrypt\"],[\"Quark\"],[\"Scrypt\"],[\"SHA-256\"],[\"DPoS\"],[\"Scrypt\"],[\"X16R\"],[\"Quark\"],[\"Quark\"],[\"Scrypt\"],[\"Lyra2REv2\"],[\"Quark\"],[\"Scrypt\"],[\"X11\"],[\"X11\"],[\"Scrypt\"],[\"PoS\"],[\"Keccak\"],[\"X11\"],[\"Tribus\"],[\"Scrypt\"],[\"NeoScrypt\"],[\"SHA-512\"],[\"XEVAN\"],[\"SHA-512\"],[\"Quark\"],[\"XEVAN\"],[\"X11\"],[\"Quark\"],[\"Scrypt\"],[\"Quark\"],[\"Quark\"],[\"Scrypt\"],[\"X11\"],[\"Scrypt\"],[\"XEVAN\"],[\"SHA-256D\"],[\"X11\"],[\"X11\"],[\"DPoS\"],[\"Scrypt\"],[\"X11\"],[\"Scrypt\"],[\"Scrypt\"],[\"SHA-256\"],[\"Scrypt\"],[\"X11\"],[\"Scrypt\"],[\"SHA-256\"],[\"X11\"],[\"Scrypt\"],[\"Scrypt\"],[\"X11\"],[\"Scrypt\"],[\"PoS\"],[\"X11\"],[\"SHA-256\"],[\"DPoS\"],[\"Scrypt\"],[\"Scrypt\"],[\"NeoScrypt\"],[\"X13\"],[\"PHI2\"],[\"DPoS\"],[\"DPoS\"],[\"SHA-256\"],[\"Lyra2Z\"],[\"PoS\"],[\"Scrypt\"],[\"PoS\"],[\"SHA-256\"],[\"Scrypt\"],[\"Scrypt\"],[\"Scrypt\"]],\"hovertemplate\":\"<b>%{hovertext}</b><br><br>class=%{marker.color}<br>PC 1=%{x}<br>PC 2=%{y}<br>PC 3=%{z}<br>Algorithm=%{customdata[0]}<extra></extra>\",\"hovertext\":[\"42 Coin\",\"404Coin\",\"EliteCoin\",\"Dash\",\"Bitshares\",\"BitcoinDark\",\"PayCoin\",\"KoboCoin\",\"Aurora Coin\",\"BlueCoin\",\"EnergyCoin\",\"BitBar\",\"CryptoBullion\",\"CasinoCoin\",\"Diamond\",\"Exclusive Coin\",\"FlutterCoin\",\"HoboNickels\",\"HyperStake\",\"IOCoin\",\"MaxCoin\",\"MintCoin\",\"MazaCoin\",\"Nautilus Coin\",\"NavCoin\",\"OpalCoin\",\"Orbitcoin\",\"PotCoin\",\"PhoenixCoin\",\"Reddcoin\",\"SuperCoin\",\"SyncCoin\",\"TeslaCoin\",\"TittieCoin\",\"TorCoin\",\"UnitaryStatus Dollar\",\"UltraCoin\",\"VeriCoin\",\"X11 Coin\",\"Crypti\",\"StealthCoin\",\"ZCC Coin\",\"BurstCoin\",\"StorjCoin\",\"Neutron\",\"FairCoin\",\"RubyCoin\",\"Kore\",\"Dnotes\",\"8BIT Coin\",\"Sativa Coin\",\"Ucoin\",\"Vtorrent\",\"IslaCoin\",\"Nexus\",\"Droidz\",\"Squall Coin\",\"Diggits\",\"Paycon\",\"Emercoin\",\"EverGreenCoin\",\"Decred\",\"EDRCoin\",\"Hitcoin\",\"DubaiCoin\",\"PWR Coin\",\"BillaryCoin\",\"GPU Coin\",\"EuropeCoin\",\"ZeitCoin\",\"SwingCoin\",\"SafeExchangeCoin\",\"Nebuchadnezzar\",\"Ratecoin\",\"Revenu\",\"Clockcoin\",\"VIP Tokens\",\"BitSend\",\"Let it Ride\",\"PutinCoin\",\"iBankCoin\",\"Frankywillcoin\",\"MudraCoin\",\"Lutetium Coin\",\"GoldBlocks\",\"CarterCoin\",\"BitTokens\",\"MustangCoin\",\"ZoneCoin\",\"RootCoin\",\"BitCurrency\",\"Swiscoin\",\"BuzzCoin\",\"Opair\",\"PesoBit\",\"Halloween Coin\",\"CoffeeCoin\",\"RoyalCoin\",\"GanjaCoin V2\",\"TeamUP\",\"LanaCoin\",\"ARK\",\"InsaneCoin\",\"EmberCoin\",\"XenixCoin\",\"FreeCoin\",\"PLNCoin\",\"AquariusCoin\",\"Creatio\",\"Eternity\",\"Eurocoin\",\"BitcoinFast\",\"Stakenet\",\"BitConnect Coin\",\"MoneyCoin\",\"Enigma\",\"Russiacoin\",\"PandaCoin\",\"GameUnits\",\"GAKHcoin\",\"Allsafe\",\"LiteCreed\",\"Klingon Empire Darsek\",\"Internet of People\",\"KushCoin\",\"Printerium\",\"Impeach\",\"Zilbercoin\",\"FirstCoin\",\"FindCoin\",\"OpenChat\",\"RenosCoin\",\"VirtacoinPlus\",\"TajCoin\",\"Impact\",\"Atmos\",\"HappyCoin\",\"MacronCoin\",\"Condensate\",\"Independent Money System\",\"ArgusCoin\",\"LomoCoin\",\"ProCurrency\",\"GoldReserve\",\"GrowthCoin\",\"Phreak\",\"Degas Coin\",\"HTML5 Coin\",\"Ultimate Secure Cash\",\"QTUM\",\"Espers\",\"Denarius\",\"Virta Unique Coin\",\"Bitcoin Planet\",\"BritCoin\",\"Linda\",\"DeepOnion\",\"Signatum\",\"Cream\",\"Monoeci\",\"Draftcoin\",\"Vechain\",\"Stakecoin\",\"CoinonatX\",\"Ethereum Dark\",\"Obsidian\",\"Cardano\",\"Regalcoin\",\"TrezarCoin\",\"TerraNovaCoin\",\"Rupee\",\"WomenCoin\",\"Theresa May Coin\",\"NamoCoin\",\"LUXCoin\",\"Xios\",\"Bitcloud 2.0\",\"KekCoin\",\"BlackholeCoin\",\"Infinity Economics\",\"Alqo\",\"Magnet\",\"Lamden Tau\",\"Electra\",\"Bitcoin Diamond\",\"Cash & Back Coin\",\"Bulwark\",\"Kalkulus\",\"GermanCoin\",\"LiteCoin Ultra\",\"PhantomX\",\"Accolade\",\"OmiseGO Classic\",\"Digiwage\",\"Trollcoin\",\"Litecoin Plus\",\"Monkey Project\",\"ECC\",\"TokenPay\",\"My Big Coin\",\"Unified Society USDEX\",\"BitSoar Coin\",\"Credence Coin\",\"Tokyo Coin\",\"BashCoin\",\"DigiMoney\",\"Lizus Payment\",\"Stipend\",\"Pushi\",\"Ellerium\",\"Velox\",\"Ontology\",\"Seraph\",\"Bitspace\",\"Briacoin\",\"Ignition\",\"MedicCoin\",\"Bitcoin Green\",\"Deviant Coin\",\"Abjcoin\",\"Semux\",\"Carebit\",\"Zealium\",\"Proton\",\"iDealCash\",\"Bitcoin Incognito\",\"HollyWoodCoin\",\"Parlay\",\"Listerclassic Coin\",\"BetKings\",\"Cognitio\",\"Mercoin\",\"Swisscoin\",\"Reliance\",\"Xt3ch\",\"TheVig\",\"EmaratCoin\",\"Dekado\",\"Lynx\",\"Poseidon Quark\",\"MYCE\",\"BitcoinWSpectrum\",\"Muse\",\"GambleCoin\",\"Trivechain\",\"Dystem\",\"Giant\",\"Peony Coin\",\"Absolute Coin\",\"Vitae\",\"TPCash\",\"ARENON\",\"EUNO\",\"MMOCoin\",\"Ketan\",\"XDNA\",\"PAXEX\",\"Averopay\",\"ThunderStake\",\"SimpleBank\",\"Kcash\",\"Bettex coin\",\"TWIST\",\"DACH Coin\",\"BitMoney\",\"Junson Ming Chan Coin\",\"HerbCoin\",\"Oduwa\",\"Galilel\",\"Crypto Sports\",\"Credit\",\"Dash Platinum\",\"Nasdacoin\",\"Beetle Coin\",\"Titan Coin\",\"Award\",\"Insane Coin\",\"ALAX\",\"LiteDoge\",\"TruckCoin\",\"OrangeCoin\",\"BitstarCoin\",\"NeosCoin\",\"HyperCoin\",\"PinkCoin\",\"AudioCoin\",\"IncaKoin\",\"Piggy Coin\",\"Genstake\",\"XiaoMiCoin\",\"CapriCoin\",\" ClubCoin\",\"Radium\",\"Creditbit \",\"OKCash\",\"Lisk\",\"HiCoin\",\"WhiteCoin\",\"FriendshipCoin\",\"Triangles Coin\",\"Gexan\",\"EOS\",\"Oxycoin\",\"TigerCash\",\"LAPO\",\"Particl\",\"ShardCoin\",\"Nxt\",\"ZEPHYR\",\"Gapcoin\",\"BitcoinPlus\",\"DivotyCoin\"],\"legendgroup\":\"0\",\"marker\":{\"color\":[0,0,0,0,0,0,0,0,0,0,0,0,0,0,0,0,0,0,0,0,0,0,0,0,0,0,0,0,0,0,0,0,0,0,0,0,0,0,0,0,0,0,0,0,0,0,0,0,0,0,0,0,0,0,0,0,0,0,0,0,0,0,0,0,0,0,0,0,0,0,0,0,0,0,0,0,0,0,0,0,0,0,0,0,0,0,0,0,0,0,0,0,0,0,0,0,0,0,0,0,0,0,0,0,0,0,0,0,0,0,0,0,0,0,0,0,0,0,0,0,0,0,0,0,0,0,0,0,0,0,0,0,0,0,0,0,0,0,0,0,0,0,0,0,0,0,0,0,0,0,0,0,0,0,0,0,0,0,0,0,0,0,0,0,0,0,0,0,0,0,0,0,0,0,0,0,0,0,0,0,0,0,0,0,0,0,0,0,0,0,0,0,0,0,0,0,0,0,0,0,0,0,0,0,0,0,0,0,0,0,0,0,0,0,0,0,0,0,0,0,0,0,0,0,0,0,0,0,0,0,0,0,0,0,0,0,0,0,0,0,0,0,0,0,0,0,0,0,0,0,0,0,0,0,0,0,0,0,0,0,0,0,0,0,0,0,0,0,0,0,0,0,0,0,0,0,0,0,0,0,0,0,0,0,0,0,0,0,0,0,0,0,0,0,0,0,0,0,0,0,0,0,0,0,0,0,0,0,0,0,0,0],\"coloraxis\":\"coloraxis\",\"symbol\":\"circle\"},\"mode\":\"markers\",\"name\":\"0\",\"scene\":\"scene\",\"showlegend\":true,\"x\":[-0.3301751495761753,-0.3128271028151887,2.4230965506631104,-0.3888903816097852,-0.20318116283236398,-0.3033475382438231,-0.2507732317145832,-0.21123888927986412,-0.32982087868491344,-0.3220859682091031,-0.32860851526235596,-0.3301709287132844,-0.3301545627708917,0.7277081436759328,-0.35769038678507525,-0.32855950539263257,-0.2620270622133549,-0.32815563222145594,-0.31529115146805964,-0.388780650651409,-0.37839944324941616,-0.006587649446023443,-0.26517747947944803,-0.27734217682345885,-0.26079494077153476,-0.26144330790139014,-0.34103140616170136,-0.3242494771995791,-0.32851240918607594,0.04302290593999311,-0.3360138081755202,-0.3891672357783018,-0.22541321891193383,-0.2863058105554365,-0.3890754370443513,-0.30441018270801196,-0.3287997067077234,-0.29450795934819574,-0.3890382952651318,-0.22589785810460092,-0.2612149586338047,-0.3209318715385396,0.07938449283067177,-0.3017049045434658,-0.3025273840662767,-0.35708751068902517,-0.27732115918087813,-0.2615221956202132,-0.27176426385552227,-0.3301564642589242,-0.2614723156334359,-0.3364779070702761,-0.3298802318355578,-0.3891479881072252,-0.3353184315886,-0.43357828413646926,-0.35747728379216315,-0.27565825988402715,-0.26097494773205715,-0.2956183753419974,-0.2137740290169779,-0.07167697379506786,-0.30331722939577876,-0.05379041265019042,-0.30338328372708107,-0.22269719935002522,-0.32975150213257326,-0.27552514561632047,-0.3862087953648825,0.9215618476565067,-0.3031757565138602,-0.03273674544023325,-0.32823001655554096,-0.38690237563890517,-0.30187152932086136,-0.2994500900268207,-0.34916033244610395,-0.3878338494927718,-0.32072699627506046,-0.30510556661719185,-0.3297912659736699,-0.3281661824654711,-0.20759281797023788,-0.323460416078985,-0.3886011588285458,-0.3289632998378477,-0.3033637252116144,-0.38913680824177865,-0.329987735510909,-0.3301504549125899,-0.2755081744765874,-0.2459027294231363,0.041411542753859144,-0.32714474348707634,-0.329748390728619,-0.3747588407653187,-0.3264442182757705,-0.20907810477618957,-0.40568862176068243,-0.32618981993854257,-0.2859918236289858,3.87764975374556,-0.3887129680543092,0.9182680268665617,-0.3890898460211249,-0.32762732616920154,-0.3296739657278625,-0.32983487544556067,-0.32823001655554096,-0.3886484328687629,-0.3032205972088012,-0.3296745793109307,-0.3787889285541549,-0.3298280280797781,-0.32524779958396755,-0.38912009051592034,-0.32900875660531587,0.392073943898178,-0.33003526705010994,-0.33010853728148754,-0.33963317637858226,-0.3426479779938387,-0.3261904082368902,-0.3033391473268502,-0.3890263767466278,-0.32987746926859285,-0.3300098130295117,-0.27722525992664,-0.2827762262650054,-0.20883653185445059,-0.31008547087529587,-0.276954938647844,-0.3882637606178302,-0.4072665751425896,-0.38694936829991666,-0.32640535135097865,-0.3881573528805612,-0.32057784336601236,-0.38393875764354934,-0.3299506953604397,-0.3299500556145822,-0.3228094770383102,0.30221017123311233,-0.3886542877239889,-0.25919142736163486,-0.32826602909415686,-0.3291305180620912,0.9658023477976498,-0.24941377517223545,-0.31945582773975156,0.624105112285865,-0.35075832847927046,-0.34920063183140615,-0.4105316813058117,-0.26114472409269884,0.152935589108319,-0.26121816468193937,-0.3184784061874118,-0.4100157519387221,-0.3889372798042041,-0.2773015418149031,4.609676231699311,-0.32812755553374406,-0.3295713028696238,-0.33009077376584767,-0.26358925631322155,0.6998793890321404,-0.38887610372508,-0.3358313724618955,-0.33004484199433726,-0.2962126957505276,0.4707146341798036,-0.3016180790294722,-0.3349176770129698,-0.37584566656408935,-0.3299932386212963,-0.39052255265357283,-0.3205730580480543,-0.32985801766527284,-0.07021081236011655,-0.3911285267728454,-0.38762123544380267,3.8826995415152705,0.23142594921042356,-0.25775434303449907,-0.3272169175666857,-0.29800448923877393,-0.3395144218066289,0.10031548168637146,-0.32896407207246214,-0.38822420819048137,-0.329736227091434,-0.32902433044161145,-0.33864680910663764,-0.31602783398601714,-0.3301138301474347,-0.3364486841131108,0.22457476077749355,-0.32102052957943955,-0.2980282953416664,-0.3254781107452148,-0.26051773746133194,-0.3032982409521182,-0.20030909407295722,-0.41067590437960977,-0.3889384437587057,-0.4108084293952712,-0.35893918267115626,-0.38895567817235566,-0.3072411475861038,-0.2764291578595963,-0.28808600815972557,-0.3761401463100829,-0.3503415348838164,-0.33014230721195525,-0.3301233046259091,-0.27058477506041595,-0.3422175299639691,-0.3277056939507089,-0.3298285887097522,4.0911526058008905,-0.3891345851408599,-0.3279020733933725,-0.30425410123037094,-0.2746056860452434,-0.2757088904166838,-0.2769831337671643,-0.27739828616060025,-0.3292625764742916,-0.3364547585062591,-0.3549435443216202,-0.32911675608191215,-0.12526041906461347,-0.33611067947354256,-0.27724628554428266,-0.35384805791651136,-0.32928200091655396,-0.1605840237268164,2.351004130526276,-0.3350593317653508,-0.3275254947516025,-0.24954411215678585,1.0786236140015477,-0.27744751465114964,-0.3560717240481329,-0.3396327541987902,-0.39227211863623584,-0.15342884028537684,-0.34864667778331204,-0.33830063994346216,-0.3227470498115167,-0.3360092655717924,-0.3884075648509667,-0.2743819336509808,-0.3269676175764351,-0.32233996098178946,-0.33586605899295624,-0.3579243585981887,-0.18421399383633583,-0.34091528791278447,-0.16465139643671517,-0.2547257494294669,-0.26056213910732806,-0.339415723481562,0.5561759794880872,-0.117570615595606,-0.39153844385546355,-0.32983248125640985,-0.3920127715763549,-0.3397544377328975,0.6127238380245383,-0.3365052465578921,-0.32929540359748655,-0.3014758330580051,-0.3067995716469134,-0.3858800433669934,-0.38864380207132376,3.8954420670556837,0.12241575762828376,-0.3860791996821818,-0.3286582595477288,-0.3295139160252697,-0.2508074675839152,-0.3300525416674894,-0.37993266034417394,-0.24041732507480268,-0.07374822043830698,-0.37551608271113956,-0.32930093851607445,-0.32208432826546807,-0.3850730793519684,-0.32767851614512855,-0.328516930495366,-0.377412029508149,-0.30180246931777854,3.8780570754113977,-0.07670229339304117,-0.32475923354704267,-0.34064309155500505,-0.261633578777554,-0.4113025896514933,3.8883442982676235,3.889640730773534,-0.23092824858992783,0.6423245331187607,-0.32845009106079937,-0.2707265461332896,-0.3198084870375987,2.5862549022794843,-0.3281452456087742,-0.2776582348799776,-0.3291656284722036],\"y\":[1.188305398116513,1.1884517731785673,1.6744921610118426,1.2664441838115268,1.1437935400118113,0.8454390699486883,0.44514315056351594,1.874472030866364,1.1883041690836476,1.1885508740796535,1.1883529395481256,1.1883051690228636,1.1883053084562503,0.5929971739414651,0.9381588830268176,1.2315725300285558,0.4880871184005133,1.1882809522339688,0.8667952212791213,1.266447513729374,1.7003384258626377,0.7962269129191148,0.844884774759751,0.7879989819516385,1.8174884187079998,1.8174687432279986,0.5943055319557943,1.1881851627177742,1.188285842683725,1.1996305417878572,0.8661663673492215,1.2664514989001907,-0.11301724872943192,1.0159201029172733,1.266447141141345,1.1879441924469467,1.1882756954518099,0.6630161884005048,1.2664514831505789,-0.11296051352628844,1.8174756727610377,1.1878714749099157,0.8718476780916028,1.1727853499503826,0.8454310951186204,0.9381803071934087,0.7880111790990906,1.8174577762258874,0.7878225989577473,1.1883059651749308,1.8174607187372913,0.8661379952779235,1.188300059347483,1.2664520837083302,1.3012290708894814,2.121963056322418,0.5849563889442637,0.7879901996152748,1.8174472350993534,0.8449749163437256,1.8746263587108176,1.0372695343582885,0.8454399897071185,1.2576610184641033,0.845446201057664,1.5947452823320598,1.1882882485294208,0.7879077565102202,1.2662669391431793,0.7536649847584053,0.8454314232826232,0.5969632156764434,1.2315682403310058,1.2664666478967375,0.8453404589340663,0.8451979886250467,1.5908433085824905,1.266392658219134,1.2209978237292125,1.187637321538005,1.1882853748643165,1.1882949205065432,1.4170618798328232,0.8660779401189252,1.2664329568191408,1.188277875237816,0.845439293157312,1.2664502797099253,1.1882960825975961,1.188306147535769,0.7880661962994542,0.49981560211946885,2.021892026507665,1.2315625954794351,1.1883183486567805,1.2658171072516549,1.231608144167093,1.4171579052006176,1.9938379761930887,1.231429400074611,2.020882561489052,1.8999044648743124,1.266443852266184,1.852661243515038,1.266451095199868,1.2315650970466945,1.188293073363641,1.1882857184660096,1.2315682403310058,1.2664243780153526,0.845444350970242,1.1882970126395034,0.5784518334559595,1.1882959281602448,1.1879900790531643,1.2664493581861727,1.1882379170300468,0.7850954186025729,1.1883003555688636,1.188305050705326,1.1718598836315761,0.6778835494103549,1.1880691091024722,0.8454400390027719,1.2664490914514255,1.1883001431808986,1.188294745835479,0.7879747960881129,0.5704809720731693,1.4171566452960433,1.1882006219772359,0.7879976975205117,1.2664074744924232,1.9824588368297877,1.266440217091224,1.2315591068406337,1.266410703563131,1.2315289745098015,1.266252953258808,1.1882970550816625,1.1882917964350312,1.187814496713828,0.4083514054282942,1.266438488775145,0.787132504364878,1.2315600032710212,1.188262084475467,1.8461428639176767,0.4450503906984215,1.2209888898288035,2.004762497261736,1.5908519692014544,1.5908206530005782,2.0525975751064354,1.8174563714640029,1.1672448932608974,1.817462074195825,1.2418570904330013,2.052613231603313,1.2664516857051364,0.7879993392666464,2.9052872697263448,1.2315416297194746,1.1882892503287128,1.1883049580611078,1.1444674189687694,1.278265917698908,1.266441044983,0.5941802579509884,1.1882981122534784,0.3304244281299184,1.1947488209229404,0.8454358275812396,1.5904825110847793,1.4167013497002907,1.188295915599096,1.572081553256462,1.2160957932933913,1.1883044568314982,0.44420166992980475,1.5721646983441488,1.2663955381399448,1.8997897986471433,1.5870935465886566,1.8174306607613084,1.188245140712804,1.1905420541669622,1.1718599152737215,1.1656480728429768,1.1882349865061905,1.2664443958394105,1.1882829966959425,1.1882903116231882,1.171814801862056,1.1880917359869856,1.1883044012718145,0.8661381676620684,0.7853812736377668,1.2209949886919902,0.5311446101484812,1.1882821896204858,0.8656139883239091,0.8454384226694069,1.4168542602183705,2.052613202289258,1.2664405820429774,2.052611323923202,1.0062910211125144,1.266440059043977,1.328013907269481,0.7879496596705625,1.218524905091238,1.416712417163762,1.59083604043934,1.1883042515226785,1.1883033993357546,0.7878583919631779,1.3103272398510863,1.23153557086057,1.188294482304013,1.8306012730802002,1.5721236727992056,1.2315353268632663,0.49958713996894066,1.1863324876298351,0.6465418736035476,0.7880028619244966,0.7879874059395527,1.18825450489609,0.8661471649746694,2.0241472291553415,1.1882660742074032,1.1872366814554256,0.8661191335327486,0.7879820166782964,2.0241143890073556,1.1882724904001745,1.4742968263532459,0.488841468582342,1.171545024715797,1.1882071997023413,0.4451177504573797,1.5695664637716153,0.7879961997131628,0.899885984759293,1.1718556099134052,1.572167664911804,0.7797114034992046,0.730711031819837,1.1718395952138785,1.187816391143073,0.8661272120108587,1.2664388316611226,0.7879146238098748,1.2314708092377242,0.9396330644702457,0.8660994088137234,0.9812956196935937,1.1798751757160193,0.5942967462191281,1.5518350258379172,0.927716557449735,1.1444816863942688,1.1718500508038767,0.5904342733406529,0.872795288633442,1.572155030373281,1.1883007939745904,1.5721656153666268,1.1718573683172444,1.163480064225436,0.8661373799547911,1.188272083679709,1.3278745171566377,2.0220414659423263,1.2662511963394285,1.2664459511910868,1.8998192750930094,1.1770350565940348,1.2665452097822865,1.1882085456738605,1.1882867023290669,0.4451360390511291,1.1883091188308998,1.2663745230973589,1.1835277802184296,0.8522865144321494,1.2661513386447887,1.1883212108077736,1.1882651551974648,1.2664271420161428,1.1882668540300536,1.2315673922204098,0.5513223770778273,0.8454266599281698,1.8998918790800132,0.7869486711840571,1.188255424143073,0.5942770237752026,1.8174628834989297,1.99830569498288,1.90031830638705,1.9003576481899707,0.4450398790830684,0.2137751160075495,1.2315696819216986,0.7875683211012898,1.2215621010299849,0.7752908395649468,1.188188392617536,0.788000235710159,1.1882645911159675],\"z\":[-0.5667484160926329,-0.5671566604621264,-0.6029528948315896,-0.47869918232568864,-0.2159773609438198,-0.33928132189827964,-0.048275401195372845,-0.6124534156337916,-0.5667560163779101,-0.566969723807945,-0.5667912768320761,-0.5667484691947224,-0.5667488545624942,-0.45944507721088895,-0.41788810813231914,-0.08018148696993616,-0.4404489624884596,-0.5667886959336332,-0.18827003107240967,-0.4787021843979642,-0.5111082403534686,-0.28315581933533496,-0.3400265242241622,-0.275746368296461,-0.568719924629475,-0.5687021862900453,-0.3025973911171937,-0.5668581346737018,-0.5667816797579104,-0.576958547793856,-0.18770309067455257,-0.47869435259145815,0.03539052956664827,-0.10437603822963344,-0.47869561659922893,-0.5672536919028613,-0.5667735702161181,-0.4131907330696444,-0.47869719415775286,0.03539131264997021,-0.5687084335790124,-0.5668765390536836,-0.4896421742674929,0.007731201212108057,-0.33929802115236074,-0.41790514835098513,-0.27574896190922626,-0.5686985309329092,-0.27583861057848647,-0.5667489272997566,-0.5687001450917217,-0.18768789845231712,-0.5667539894173953,-0.4786948793032496,-0.23759997709390435,-0.6803083411011697,-0.11610342222061183,-0.2757819803985429,-0.5687087619582978,-0.33937076566467017,-0.6124244428283944,-0.5075136975531469,-0.33928215110230564,-0.48455739924815183,-0.3392817786856584,-0.5071795585630964,-0.5667547665665746,-0.2757705197869728,-0.47872738366154743,-0.29619742972448004,-0.3392837759218384,-0.443362905920156,-0.08018800610212636,-0.478746958916596,-0.3392966609920809,-0.3393251963390556,-0.5037084910942843,-0.4787134906259325,-0.08805382825420521,-0.5671847636216234,-0.5667533875838157,-0.5667909024766973,-0.27770504299735904,-0.18796456568734854,-0.4787036017670941,-0.5667703421475241,-0.33928100380652376,-0.4786948108901235,-0.566750923521112,-0.5667490917063405,-0.275798562415767,-0.3183545470629819,-0.6278093536732563,-0.08021096053351133,-0.5667600915714469,-0.47890140588097174,-0.08023436766042098,-0.27768904771125735,-0.5824565300307677,-0.08020876547832746,-0.6204108350967933,0.01391230088924825,-0.47870303801828845,-0.6008712505252435,-0.4786959892448496,-0.08020075202269987,-0.5667573195112208,-0.5667524855994235,-0.08018800610212636,-0.478701060830336,-0.3392850443302723,-0.5667579938898538,-0.35305921597247814,-0.5667544195601424,-0.5668020451804817,-0.4786950187435281,-0.566762361528828,-0.29000606343748186,-0.566750621203111,-0.5667498248342275,-0.12679619752080135,-0.3330325485356717,-0.5667950530230799,-0.33928167622010313,-0.4786970394087929,-0.5667540649970292,-0.5667502030719802,-0.27574472381739734,-0.4041618961293665,-0.27769415658530416,-0.5671732800938962,-0.2757546861374621,-0.47870659451516556,-0.601365962635281,-0.47874130670080967,-0.08022666166783927,-0.47870950566916276,-0.0803499494800674,-0.47877501639019765,-0.5667519104193215,-0.5667510062167689,-0.5668251706203746,-0.054048814880849026,-0.4787033958321024,-0.2759954456514297,-0.08018577326293998,-0.5667638959247284,-0.6334708232674212,-0.048289191027340375,-0.08808030901451247,-0.6316398600200817,-0.5036747530779283,-0.5037036457917777,-0.6647500595540772,-0.5687066123167677,-0.573727637513133,-0.5687059881458033,-0.08235640733040461,-0.6647641745975666,-0.47869945784379825,-0.2757473270674825,4.623552239620448,-0.0801856193063979,-0.5667589165507805,-0.5667502005036666,-0.21476248958242627,-0.06222956065792964,-0.4786989491514896,-0.3026902228449522,-0.5667500182390613,0.020961387720822438,-0.5855405664325168,-0.3393189060656757,-0.5039596659193055,-0.3946512832334329,-0.5667507729643745,-0.41782632013559134,-0.2525030930386791,-0.5667552473732589,-0.052094042330228775,-0.4178274724530646,-0.4787186836278021,0.013820931026441755,-0.5158609052700188,-0.5687769113551991,-0.5668031494224504,-0.2126703486588231,-0.12679882267000603,-0.5722880313343388,-0.5667628354752328,-0.4787139145637463,-0.5667541863958052,-0.5667711676246546,-0.12681008332653113,-0.5670231819776042,-0.5667495946679196,-0.18768857318893306,-0.2863610944743724,-0.08804685808126977,-0.3416053977581888,-0.5668479758349568,-0.1892720072872386,-0.33928229632001367,-0.2778294591637564,-0.6647496070843281,-0.47869749314107113,-0.6647463556785376,-0.5145003914231436,-0.4786970216337026,-0.3139911938618417,-0.2757578955833193,-0.09168905508908257,-0.39464671996945894,-0.5036811655539334,-0.5667489403377928,-0.5667492107015004,-0.2758708795995973,-0.02444475486034464,-0.08019386715403712,-0.5667541547039875,0.08219349635772275,-0.4178642928176165,-0.08018949258358313,-0.014005369411579639,-0.5676297022282109,0.04859918531998777,-0.275754966034669,-0.2757431090596987,-0.5667596592118159,-0.18769001038919145,-0.6194599267981425,-0.5667648962270206,-0.5710820290697046,-0.18769270535974522,-0.2757455209383884,-0.6194783574261087,-0.566762371524814,-0.3214262340934135,-0.5080399899590983,-0.1268421089398653,-0.5667897168561605,-0.048298078906302104,-0.0400002408564461,-0.2757435587738337,-0.3050284927673196,-0.12679546051648616,-0.4178027638519417,-0.2770325341283134,-0.2700460016244504,-0.12682204917051382,-0.5668268785344369,-0.18769635320358896,-0.4787088982041397,-0.2757969372911349,-0.08019883919365223,-0.4764105288887577,-0.18769465695912826,-0.3929273420062846,-0.5684960279820548,-0.3025984183369915,-0.5102967401689831,-0.022983723894918786,-0.2148317566934795,-0.12679927724266266,0.278389145163126,-0.19367936448243087,-0.41781674172250466,-0.5667551710415947,-0.417808126913626,-0.12679308335172243,-0.5832127200014728,-0.1876871879132059,-0.56676200484783,-0.3140940301089061,-0.6201542129980716,-0.4787318864895705,-0.4787049302944801,0.013534694433612294,-0.5747640475825017,-0.4787788366913005,-0.5667649640869326,-0.566759737499243,-0.04827340410178579,-0.5667517704639399,-0.47888461712473773,-0.5678940833853471,-0.3455418508133944,-0.4789430684347358,-0.5667704617977629,-0.5669198650401387,-0.4787804127248892,-0.5667967587410501,-0.08018152892265994,-0.2328712110352193,-0.33931323763215554,0.013905513575075131,-0.27998889604145805,-0.5668591596049006,-0.30260097863376895,-0.5686969657969144,-0.7630087832691393,0.013604119516622442,0.013568651093289037,-0.048695130180834385,-0.26633182620518336,-0.08018340319238168,-0.2758170973243036,-0.029053135321706173,0.004832083400762595,-0.566772761414467,-0.27573961527122576,-0.5667635591526878],\"type\":\"scatter3d\"},{\"customdata\":[[\"SHA-256\"],[\"Ethash\"],[\"Scrypt\"],[\"CryptoNight-V7\"],[\"Ethash\"],[\"Equihash\"],[\"Multiple\"],[\"Scrypt\"],[\"X11\"],[\"Scrypt\"],[\"Multiple\"],[\"Scrypt\"],[\"SHA-256\"],[\"Scrypt\"],[\"Scrypt\"],[\"Quark\"],[\"Groestl\"],[\"Scrypt\"],[\"Scrypt\"],[\"Scrypt\"],[\"X11\"],[\"Multiple\"],[\"SHA-256\"],[\"Scrypt\"],[\"Scrypt\"],[\"Scrypt\"],[\"Scrypt\"],[\"Scrypt\"],[\"NeoScrypt\"],[\"Scrypt\"],[\"Scrypt\"],[\"Scrypt\"],[\"Scrypt\"],[\"SHA-256\"],[\"Scrypt\"],[\"Scrypt\"],[\"Scrypt\"],[\"Scrypt\"],[\"HybridScryptHash256\"],[\"Scrypt\"],[\"Scrypt\"],[\"SHA-256\"],[\"Scrypt\"],[\"Scrypt\"],[\"Scrypt\"],[\"Scrypt\"],[\"SHA-256\"],[\"SHA-256\"],[\"SHA-256\"],[\"SHA-256\"],[\"SHA-256\"],[\"X11\"],[\"Scrypt\"],[\"Lyra2REv2\"],[\"Scrypt\"],[\"SHA-256\"],[\"CryptoNight\"],[\"CryptoNight\"],[\"Scrypt\"],[\"Scrypt\"],[\"Scrypt\"],[\"Scrypt\"],[\"Scrypt\"],[\"Scrypt\"],[\"Stanford Folding\"],[\"Multiple\"],[\"QuBit\"],[\"Scrypt\"],[\"Scrypt\"],[\"M7 POW\"],[\"Scrypt\"],[\"SHA-256\"],[\"Scrypt\"],[\"X11\"],[\"Lyra2RE\"],[\"SHA-256\"],[\"X11\"],[\"Scrypt\"],[\"Scrypt\"],[\"Ethash\"],[\"Blake2b\"],[\"X11\"],[\"SHA-256\"],[\"Scrypt\"],[\"1GB AES Pattern Search\"],[\"Scrypt\"],[\"SHA-256\"],[\"X11\"],[\"Dagger\"],[\"Scrypt\"],[\"X11GOST\"],[\"Scrypt\"],[\"ScryptOG\"],[\"X11\"],[\"Scrypt\"],[\"X11\"],[\"Equihash\"],[\"CryptoNight\"],[\"SHA-256\"],[\"Multiple\"],[\"Scrypt\"],[\"SHA-256\"],[\"Scrypt\"],[\"Lyra2Z\"],[\"Ethash\"],[\"Equihash\"],[\"Scrypt\"],[\"X11\"],[\"X11\"],[\"CryptoNight\"],[\"Scrypt\"],[\"CryptoNight\"],[\"Lyra2RE\"],[\"X11\"],[\"CryptoNight-V7\"],[\"Scrypt\"],[\"X11\"],[\"Equihash\"],[\"Scrypt\"],[\"Lyra2RE\"],[\"Dagger-Hashimoto\"],[\"Scrypt\"],[\"NIST5\"],[\"Scrypt\"],[\"SHA-256\"],[\"Scrypt\"],[\"CryptoNight-V7\"],[\"Argon2d\"],[\"Blake2b\"],[\"Cloverhash\"],[\"CryptoNight\"],[\"X11\"],[\"Scrypt\"],[\"Scrypt\"],[\"X11\"],[\"X11\"],[\"CryptoNight\"],[\"Time Travel\"],[\"Scrypt\"],[\"Keccak\"],[\"X11\"],[\"SHA-256\"],[\"Scrypt\"],[\"Scrypt\"],[\"Scrypt\"],[\"Scrypt\"],[\"Scrypt\"],[\"Scrypt\"],[\"CryptoNight\"],[\"Equihash\"],[\"X11\"],[\"NeoScrypt\"],[\"Equihash\"],[\"Dagger\"],[\"Scrypt\"],[\"X11\"],[\"NeoScrypt\"],[\"Ethash\"],[\"NeoScrypt\"],[\"Multiple\"],[\"CryptoNight\"],[\"CryptoNight\"],[\"Ethash\"],[\"Scrypt\"],[\"X11\"],[\"CryptoNight-V7\"],[\"Scrypt\"],[\"BLAKE256\"],[\"X11\"],[\"NeoScrypt\"],[\"NeoScrypt\"],[\"NeoScrypt\"],[\"Scrypt\"],[\"X11\"],[\"SHA-256\"],[\"C11\"],[\"Ethash\"],[\"Scrypt\"],[\"CryptoNight\"],[\"SkunkHash\"],[\"CryptoNight\"],[\"Scrypt\"],[\"Dagger\"],[\"Lyra2REv2\"],[\"Scrypt\"],[\"Scrypt\"],[\"X11\"],[\"Ethash\"],[\"CryptoNight\"],[\"Scrypt\"],[\"SHA-256\"],[\"IMesh\"],[\"Quark\"],[\"Equihash\"],[\"Lyra2Z\"],[\"NeoScrypt\"],[\"X11\"],[\"CryptoNight\"],[\"NIST5\"],[\"Lyra2RE\"],[\"Tribus\"],[\"Lyra2Z\"],[\"CryptoNight\"],[\"CryptoNight Heavy\"],[\"CryptoNight\"],[\"Jump Consistent Hash\"],[\"CryptoNight\"],[\"SHA-512\"],[\"X16R\"],[\"HMQ1725\"],[\"X11\"],[\"Scrypt\"],[\"Scrypt\"],[\"CryptoNight-V7\"],[\"Cryptonight-GPU\"],[\"XEVAN\"],[\"CryptoNight Heavy\"],[\"CryptoNight\"],[\"X11\"],[\"SHA-256\"],[\"X11\"],[\"X16R\"],[\"Equihash\"],[\"HMQ1725\"],[\"Lyra2Z\"],[\"SHA-256\"],[\"PHI1612\"],[\"CryptoNight\"],[\"Blake\"],[\"Blake\"],[\"Blake\"],[\"Blake\"],[\"Equihash\"],[\"Exosis\"],[\"Scrypt\"],[\"Equihash\"],[\"Equihash\"],[\"Lyra2REv2\"],[\"QuBit\"],[\"SHA-256\"],[\"X13\"],[\"SHA-256\"],[\"Ethash\"],[\"Scrypt\"],[\"NeoScrypt\"],[\"Blake\"],[\"Scrypt\"],[\"SHA-256\"],[\"Scrypt\"],[\"Groestl\"],[\"Scrypt\"],[\"Scrypt\"],[\"Multiple\"],[\"Equihash+Scrypt\"],[\"Lyra2Z\"],[\"Ethash\"],[\"Equihash\"],[\"CryptoNight\"],[\"Equihash\"]],\"hovertemplate\":\"<b>%{hovertext}</b><br><br>class=%{marker.color}<br>PC 1=%{x}<br>PC 2=%{y}<br>PC 3=%{z}<br>Algorithm=%{customdata[0]}<extra></extra>\",\"hovertext\":[\"Bitcoin\",\"Ethereum\",\"Litecoin\",\"Monero\",\"Ethereum Classic\",\"ZCash\",\"DigiByte\",\"ProsperCoin\",\"Spreadcoin\",\"Argentum\",\"MyriadCoin\",\"MoonCoin\",\"ZetaCoin\",\"SexCoin\",\"Quatloo\",\"QuarkCoin\",\"Riecoin\",\"Digitalcoin \",\"Catcoin\",\"CannaCoin\",\"CryptCoin\",\"Verge\",\"DevCoin\",\"EarthCoin\",\"E-Gulden\",\"Einsteinium\",\"Emerald\",\"Franko\",\"FeatherCoin\",\"GrandCoin\",\"GlobalCoin\",\"GoldCoin\",\"Infinite Coin\",\"IXcoin\",\"KrugerCoin\",\"LuckyCoin\",\"Litebar \",\"MegaCoin\",\"MediterraneanCoin\",\"MinCoin\",\"NobleCoin\",\"Namecoin\",\"NyanCoin\",\"RonPaulCoin\",\"StableCoin\",\"SmartCoin\",\"SysCoin\",\"TigerCoin\",\"TerraCoin\",\"UnbreakableCoin\",\"Unobtanium\",\"UroCoin\",\"ViaCoin\",\"Vertcoin\",\"WorldCoin\",\"JouleCoin\",\"ByteCoin\",\"DigitalNote \",\"MonaCoin\",\"Gulden\",\"PesetaCoin\",\"Wild Beast Coin\",\"Flo\",\"ArtByte\",\"Folding Coin\",\"Unitus\",\"CypherPunkCoin\",\"OmniCron\",\"GreenCoin\",\"Cryptonite\",\"MasterCoin\",\"SoonCoin\",\"1Credit\",\"MarsCoin \",\"Crypto\",\"Anarchists Prime\",\"BowsCoin\",\"Song Coin\",\"BitZeny\",\"Expanse\",\"Siacoin\",\"MindCoin\",\"I0coin\",\"Revolution VR\",\"HOdlcoin\",\"Gamecredits\",\"CarpeDiemCoin\",\"Adzcoin\",\"SoilCoin\",\"YoCoin\",\"SibCoin\",\"Francs\",\"Aiden\",\"BolivarCoin\",\"Omni\",\"PizzaCoin\",\"Komodo\",\"Karbo\",\"ZayedCoin\",\"Circuits of Value\",\"DopeCoin\",\"DollarCoin\",\"Shilling\",\"ZCoin\",\"Elementrem\",\"ZClassic\",\"KiloCoin\",\"ArtexCoin\",\"Kurrent\",\"Cannabis Industry Coin\",\"OsmiumCoin\",\"Bikercoins\",\"HexxCoin\",\"PacCoin\",\"Citadel\",\"BeaverCoin\",\"VaultCoin\",\"Zero\",\"Canada eCoin\",\"Zoin\",\"DubaiCoin\",\"EB3coin\",\"Coinonat\",\"BenjiRolls\",\"ILCoin\",\"EquiTrader\",\"Quantum Resistant Ledger\",\"Dynamic\",\"Nano\",\"ChanCoin\",\"Dinastycoin\",\"DigitalPrice\",\"Unify\",\"SocialCoin\",\"ArcticCoin\",\"DAS\",\"LeviarCoin\",\"Bitcore\",\"gCn Coin\",\"SmartCash\",\"Onix\",\"Bitcoin Cash\",\"Sojourn Coin\",\"NewYorkCoin\",\"FrazCoin\",\"Kronecoin\",\"AdCoin\",\"Linx\",\"Sumokoin\",\"BitcoinZ\",\"Elements\",\"VIVO Coin\",\"Bitcoin Gold\",\"Pirl\",\"eBoost\",\"Pura\",\"Innova\",\"Ellaism\",\"GoByte\",\"SHIELD\",\"UltraNote\",\"BitCoal\",\"DaxxCoin\",\"BoxyCoin\",\"AC3\",\"Lethean\",\"PopularCoin\",\"Photon\",\"Sucre\",\"SparksPay\",\"GoaCoin\",\"GunCoin\",\"IrishCoin\",\"Pioneer Coin\",\"UnitedBitcoin\",\"Interzone\",\"1717 Masonic Commemorative Token\",\"Crypto Wisdom Coin\",\"TurtleCoin\",\"MUNcoin\",\"Niobio Cash\",\"ShareChain\",\"Travelflex\",\"KREDS\",\"BitFlip\",\"LottoCoin\",\"Crypto Improvement Fund\",\"Callisto Network\",\"BitTube\",\"Poseidon\",\"Manna\",\"Aidos Kuneen\",\"Cosmo\",\"Bitrolium\",\"Alpenschillling\",\"Rapture\",\"FuturoCoin\",\"Monero Classic\",\"Jumpcoin\",\"Infinex\",\"KEYCO\",\"GINcoin\",\"PlatinCoin\",\"Loki\",\"Newton Coin\",\"MassGrid\",\"PluraCoin\",\"Arionum\",\"Motion\",\"PlusOneCoin\",\"Axe\",\"HexCoin\",\"Deimos\",\"Webchain\",\"Ryo\",\"Urals Coin\",\"Qwertycoin\",\"Bitcoin Nova\",\"DACash\",\"Project Pai\",\"Azart\",\"Xchange\",\"CrypticCoin\",\"Brazio\",\"Actinium\",\"Bitcoin SV\",\"Argoneum\",\"FREDEnergy\",\"BlakeBitcoin\",\"Universal Molecule\",\"Lithium\",\"Electron\",\"PirateCash\",\"Exosis\",\"Block-Logic\",\"Beam\",\"Bithereum\",\"Scribe Network\",\"SLICE\",\"BLAST\",\"Bitcoin Rhodium\",\"GlobalToken\",\"Media Protocol Token\",\"SolarCoin\",\"UFO Coin\",\"BlakeCoin\",\"Crypto Escudo\",\"Crown Coin\",\"SmileyCoin\",\"Groestlcoin\",\"Bata\",\"Pakcoin\",\"JoinCoin\",\"Vollar\",\"TecraCoin\",\"Reality Clash\",\"ChainZilla\",\"Beldex\",\"Horizen\"],\"legendgroup\":\"1\",\"marker\":{\"color\":[1,1,1,1,1,1,1,1,1,1,1,1,1,1,1,1,1,1,1,1,1,1,1,1,1,1,1,1,1,1,1,1,1,1,1,1,1,1,1,1,1,1,1,1,1,1,1,1,1,1,1,1,1,1,1,1,1,1,1,1,1,1,1,1,1,1,1,1,1,1,1,1,1,1,1,1,1,1,1,1,1,1,1,1,1,1,1,1,1,1,1,1,1,1,1,1,1,1,1,1,1,1,1,1,1,1,1,1,1,1,1,1,1,1,1,1,1,1,1,1,1,1,1,1,1,1,1,1,1,1,1,1,1,1,1,1,1,1,1,1,1,1,1,1,1,1,1,1,1,1,1,1,1,1,1,1,1,1,1,1,1,1,1,1,1,1,1,1,1,1,1,1,1,1,1,1,1,1,1,1,1,1,1,1,1,1,1,1,1,1,1,1,1,1,1,1,1,1,1,1,1,1,1,1,1,1,1,1,1,1,1,1,1,1,1,1,1,1,1,1,1,1,1,1,1,1,1,1,1,1,1,1,1,1,1,1,1,1,1,1,1,1,1,1,1,1,1,1,1,1,1,1,1,1,1,1,1,1,1],\"coloraxis\":\"coloraxis\",\"symbol\":\"diamond\"},\"mode\":\"markers\",\"name\":\"1\",\"scene\":\"scene\",\"showlegend\":true,\"x\":[-0.13770696323601803,-0.12626524520975244,-0.16331833314183133,-0.1436796663941534,-0.12464753951662959,-0.1646398333827462,0.1855081820563958,-0.1645110498065711,-0.22344200929021443,-0.1641126479738792,-0.07803197548261603,2.6612353203582826,-0.13467338515395563,-0.16125773476743946,-0.16390942972742936,-0.22182725310282383,-0.19107961172110924,-0.16395881790784483,-0.16449256980569715,-0.16458244456429888,-0.2235350546708118,0.21037949260417516,0.2554539214342123,0.09423795231338497,-0.16431828437464305,-0.15974644239356,-0.16425532881493446,-0.16464179279173083,-0.17053486538508955,-0.14302907425306682,-0.16338783831425102,-0.1636770195759843,1.6553318730873547,-0.13766670758674218,-0.16085772971638448,-0.1643458106236182,-0.16471503422883918,-0.16394424793520315,-0.13507412277128808,-0.16459154524147343,-0.024228502359774473,-0.13774758298665862,-0.15799796843623348,-0.1645704262009198,-0.16259093270241753,-0.16403641364947205,-0.12438317926007783,-0.13718951311037275,-0.13748866125077736,-0.1374719819519525,-0.1380853307943532,-0.2237157662037293,-0.16427504446418184,-0.1824970058322076,-0.16126307376341406,-0.137259583116933,3.9952124157650437,0.4559370904921115,-0.16309727399436905,-0.14709187340949847,-0.16176389134585858,-0.16471737184557494,-0.16162307658650055,-0.14729042631092137,-0.12003838311961457,-0.11341377889381965,-0.17809580615517848,-0.16458513076777304,-0.032454597645052694,-0.12309328592963066,-0.16472658289253547,-0.13777652905042392,0.5123184490046673,-0.2230780859249852,-0.1421081522280765,-0.1375063545621463,-0.2233746376938571,-0.16277723868984234,-0.16193660029370732,-0.12737807718059244,0.40605471399776194,-0.22341138512742945,-0.1376678771531243,-0.16052019530266617,-0.12977280568259786,-0.1632318066320364,0.29782264711504597,-0.22253868264372298,-0.17394581324227773,-0.16349197650041525,-0.1569787403523367,-0.1645081930215898,-0.13574524028019258,-0.2233733314628282,-0.16472664376426452,-0.2235296116083659,-0.29718719917163483,0.29459375905556884,-0.13793859167667896,-0.09268115422418964,-0.1617796832250881,-0.13789550593846783,-0.16437669721606152,-0.06905573382794629,-0.12710964447214174,-0.16466235985441263,-0.08864699998170995,-0.20956165561906775,-0.22127201658245288,0.2945875811213754,-0.16470767145685913,0.29472368541005867,-0.14266978753346676,0.5190356650963119,-0.14239752781951856,-0.16467464234031517,-0.21598500830458145,-0.16467514443878928,-0.16273205352286593,-0.14237662479696556,-0.1335825214775256,-0.13448582867929304,-0.1849649289559245,-0.16421950016455888,-0.10291604279443375,-0.1640350902754444,-0.1422470618427024,-0.15200862138505944,-0.011098348723362872,-0.14083710665149057,0.33217438856571974,-0.22254787268820506,-0.16436632178872054,-0.16412129219754765,-0.2229580482473321,-0.22355865447067355,0.29499827115391586,-0.1582776367262604,3.3828745526547372,-0.09433140855981742,-0.21407673633494764,-0.13770609229215788,-0.0874601149951552,1.6557889831439243,-0.16446830578487817,-0.16389865340723736,-0.16358749217769222,-0.16357387329087766,0.29518863843718285,0.05600211249035283,-0.17607602458924582,-0.1754122923463644,-0.1645148299857598,-0.172656205381109,-0.16273018733727757,-0.2189248148885304,-0.17525169969807022,-0.12541310576910972,-0.17535575454894192,-0.10325294299629009,1.1654265270288395,0.2945698615236961,-0.04741187760156045,-0.16392975098983936,-0.21866106106016148,-0.1309258714930239,-0.07747673303557998,1.1388630822284507,-0.22353158415001875,-0.175409581973012,-0.17537783600828316,-0.16816783461266935,-0.1636890161743329,-0.2234539422032782,-0.1376845998254193,-0.19346766073426166,-0.24053179941993427,-0.16433796115904578,8.330218615130248,-0.15441169101273314,0.29859832110442774,0.03615776743935336,-0.1721369603654188,-0.1674756481859297,-0.16428621220432407,0.15519960439070368,-0.21736158420717505,-0.07664840360201745,0.3027989462476401,-0.16453266722279694,-0.03411825019502652,-0.15631001418774845,-0.2267480765137988,-0.16346483460892258,-0.06675372285644994,-0.17545246443311088,-0.22259036047842878,0.29475989539754455,-0.1850261363162522,-0.1425089665465704,-0.19263792886624506,-0.06914335785543423,0.29883724540017426,0.617953772507828,2.1742278660373677,-0.15381174520408197,0.3089099938574233,-0.1468737092490757,-0.19144722511789583,-0.13082908156187367,-0.22351302710131457,-0.16455831391696474,-0.15395341737322132,-0.13082151226820823,-0.15802373405768377,-0.14051874247022106,3.2415256922861224,0.3079471735635601,-0.22302315179616053,-0.09590140125937388,-0.22348329897094235,-0.1908530325519239,-0.0550430834643636,-0.12860815065353873,-0.06851781146187437,-0.1377061314380495,-0.2103080045385852,0.37765209558874274,-0.14298154929342125,-0.1426045803276594,-0.14301088176226393,-0.09157559896384009,-0.2768722869076226,-0.1429772225795382,-0.16340672347096855,-0.1625000263266023,-0.1643408894450849,-0.1834490999760954,-0.17727635766531746,-0.1369530126190561,-0.0961697788293977,-0.1357762083422332,0.07326069009344745,0.5579164700721352,-0.09753713470358501,-0.09158578493925776,-0.14744734786986943,-0.1374880052154632,0.5798415518469231,-0.19062272478296702,-0.1646379105529414,-0.16251252492041166,-0.114179660003969,-0.10816882429484512,-0.06724376837427844,-0.12714415040405933,-0.32013866227669513,0.31720385086883124,-0.16464093479856226],\"y\":[-1.3631796280508373,-2.1051150856831944,-1.020337117382537,-2.28849571727798,-2.1052160229995174,-2.0903648989444648,-1.9272265945637785,-1.0203283032414805,-0.942179632388007,-1.0203469333886086,-1.9216500266719492,-1.2089005320829522,-1.363193873262182,-1.02039318003671,-1.0203664856649601,-0.6364787376923002,-1.27048796975671,-1.0203309530783844,-1.0203277424436379,-1.0203248544472943,-0.9421810271186957,-1.9232962406420426,-1.3662365395392089,-1.0221059427368095,-1.0203224535427122,-1.020382890861337,-1.0203284017183967,-1.0203252950482398,-1.614403872641426,-1.020676318237044,-1.0203292246978681,-1.020339604627533,-1.02981457796411,-1.3631784064447607,-1.0203920583554902,-1.020322574438208,-1.0203204550091525,-1.0203261058113362,-2.2607605656473284,-1.020322887334395,-1.0267725821513654,-1.363180860705997,-1.020356413189598,-1.020330105089548,-1.020433637530775,-1.020335475369644,-1.3633947053537383,-1.3631825089170413,-1.3631880062686874,-1.3632146481368967,-1.3631762858206231,-0.9421736514382367,-1.020322570218889,-1.477915435723589,-1.0204043590078888,-1.363183197882187,-2.353682479023916,-2.336442731816316,-1.0203454976615907,-1.0209849228615528,-1.0203488043171807,-1.020321438977774,-1.0203399688275558,-1.0205051414860162,-2.332050472539297,-1.921294886790081,-1.5307125703420505,-1.0203179570193164,-1.0234501047988247,-2.2875870749764013,-1.0203202835665246,-1.3631817391091001,-1.0655008846807605,-0.9421778761770601,-2.2350603873442085,-1.3631969447917496,-0.9421783023375438,-1.0204108858062984,-1.0204137810272154,-2.105160934202708,-2.222146715128894,-0.9421758453744891,-1.3631784419366586,-1.0203422216501807,-2.2504742448107393,-1.0203344916315837,-1.3653982375966682,-0.9421979428386884,-2.1636864481564864,-1.020402649191455,-2.1608928919775354,-1.0203275021272853,-2.319527182920863,-0.9421811203848757,-1.0203202832490532,-0.9421858628937668,-1.5373281621508292,-2.3342018171804897,-1.3631786098491852,-1.9215230363151345,-1.0203732981090963,-1.3631779469818623,-1.0203306559451928,-1.950031674749247,-2.1051594317975666,-2.0903655825373284,-1.0251553308004298,-0.9421013387472403,-0.9422623810476839,-2.3342098632951567,-1.0203212062524005,-2.334208590733378,-2.23503757390278,-0.9910761284059402,-2.2885889772414068,-1.020320665256195,-0.942653473916742,-2.0903631128144275,-1.0203307567686284,-2.235036536165652,-2.3207216665066936,-1.0222598354394805,-0.6177901336318734,-1.0203298295048022,-1.3638949069430328,-1.0203502951799772,-2.288527257440805,-2.3755413768386693,-2.235048831385267,-2.1756595690676233,-2.3344830868248208,-0.9422096524675664,-1.0203226802044547,-1.0203550543457944,-0.9421935228731831,-0.9421823862624523,-2.334220976325881,-2.2807419998260885,-1.0555479438526307,-1.2704043464894563,-0.9426670072718228,-1.3631796016209934,-1.0254765241589898,-0.965074107581392,-1.0203262917011364,-1.020354727898639,-1.02035671608299,-1.020356302801498,-2.334240124777724,-2.098657105027362,-0.9420139251251025,-1.6143311277452783,-2.090361105566108,-2.1637375497162923,-1.0203307001369835,-0.9422783118282674,-1.614339113957478,-2.1052892645412316,-1.6143328412616271,-1.9214580622793518,-2.368494043486013,-2.334204328433875,-2.1098664016543833,-1.0203671023380976,-0.942413192225394,-2.288822739243951,-1.0212442475175796,-1.2039240901689916,-0.9421822077604874,-1.614326758966017,-1.6143336542343802,-1.6144492073928507,-1.0203340777723746,-0.9421821377714608,-1.363178353578621,-1.2023361357860582,-0.2968359597238549,-1.020325193923252,-2.8047655971607917,-2.219939116174071,-2.3343131953792837,-1.0213679800967592,-2.1636815658548363,-1.4781854469341733,-1.0203350542849399,-1.023761640608047,-0.9423380369570699,-2.1082531435108955,-2.334660098315551,-1.020328959247964,-1.3671972199262414,-2.347469769645185,-0.6364600997559801,-2.0903642488535383,-1.9501608553224188,-1.6143280602858203,-0.9422109418106376,-2.334202776715082,-0.6177725216247989,-2.235044324381298,-1.2273213228917035,-1.9500265466100348,-2.334494552612218,-2.2521141995000495,-2.4086084945470354,-2.193198336249101,-2.3344746512293275,-0.6640628999146364,-1.3087210600192563,-2.273199479906538,-0.9421825019304803,-1.0203305271515137,-1.0207073379598355,-2.289355758969464,-2.2043387631559344,-0.8806798389595826,-2.3041809487339733,-2.3345038691686164,-0.9421883543024311,-1.3633962705646254,-0.9421844574811082,-1.3087586993362146,-2.092453655277211,-2.273264965509629,-1.9500600736418268,-1.3631796028089223,-0.7919240434254992,-2.3374466945867636,-2.189634574345307,-2.1896832319166166,-2.1896384856204865,-2.1930605474743103,-0.2820829012128695,-2.231270499467282,-1.0203655188716831,-2.090472711074806,-2.0903628899034374,-1.4779076783358243,-1.5307591453545735,-1.3631874686426715,-0.3911633079287183,-1.36322605695072,-2.106204447518998,-1.0684751298007993,-1.6148063095663374,-2.193060856579979,-1.0205099034593685,-1.3631879863605068,-1.0334461068847036,-1.27048910782735,-1.020320722237407,-1.0203826774821683,-1.9213201287536235,-2.3000544683085673,-1.950111428396919,-2.105159251834549,-1.6420823034493248,-2.334508891853354,-2.090364932368252],\"z\":[0.18710093713124065,0.4044915593002196,-0.04038882706334879,0.34245713548382123,0.4044735007386216,0.4403287589612414,0.2652244085152169,-0.040364055970202525,0.047688210318233976,-0.040369590998269526,0.2700640441329268,-0.06976731385628555,0.18703650664614696,-0.040424491895449145,-0.04037065941361126,0.10847835470842493,0.10847766577542808,-0.04037577499047837,-0.04036456155494466,-0.04036308332453238,0.047690506380286754,0.2639894131177488,0.17896197361788016,-0.04576140776683207,-0.04036932973949829,-0.040459626496752985,-0.04036967975800642,-0.04036169721184259,0.22369358953794397,-0.04077715616244295,-0.04038867213464073,-0.040380480403274535,-0.07885163975116899,0.1870998357978512,-0.04043351154090323,-0.04036870142223999,-0.04036092678240785,-0.04037694286731041,0.4166440928345205,-0.040363226087362314,-0.042333206957651776,0.1871020484258965,-0.04050282010837472,-0.04036243152228012,-0.04038801762584423,-0.040373273569834944,0.18684458477523677,0.187090025711449,0.18709758466144813,0.18710186918642416,0.1871086999416587,0.04769320470968464,-0.040370263199571266,0.25632638395659263,-0.0404224219437277,0.18709169170906412,0.3544366221417267,0.4294994184987391,-0.04039223999381772,-0.04063364284392982,-0.040421075826776294,-0.04036070338665496,-0.04042572501613307,-0.04071304691635552,0.3980756526160144,0.27078251833804606,0.19336977690228188,-0.04036422856354897,-0.04273194891797586,0.5329776984036123,-0.04036070196777486,0.1871028403462154,-0.04740586664482564,0.047679875796081295,0.4222379120972292,0.18709953589040548,0.04768649189281941,-0.0403878809983711,-0.040405919166238494,0.40452411391853454,0.3355278005445527,0.04768687345133427,0.18709986779541016,-0.04044966021787497,0.3192313119203959,-0.04039119429716803,0.1778809637857888,0.0476714812553273,0.4062572726203901,-0.040373552853874374,0.4040589714245195,-0.04036425888658395,0.2975114466909992,0.047686955192665054,-0.04036070068043685,0.047691230779967335,0.686696456555828,0.4326671836098884,0.18710586884706476,0.2703650161344069,-0.040416450133059945,0.18710480265661272,-0.040366608821151,0.27157127642061396,0.4045179301599863,0.4403293752512759,-0.041194610178690236,0.047368349295054846,0.047654792504988705,0.4326687249787197,-0.040360958009587326,0.432665500408544,0.4222463173885192,0.03984856275981044,0.3424451385515308,-0.04036178107733763,0.04760646200647073,0.44032922598173546,-0.040402870637455034,0.42223966925159623,0.3250633036790164,-0.04068908399370352,0.022708221948699713,-0.040370220773551964,0.18645838818820248,-0.040370714786360395,0.34243104130421514,0.45028464574061866,0.3469829277615715,0.42790713028983407,0.43188730527313174,0.04767372882634626,-0.04036823049370163,-0.04036798215550576,0.04767996024293365,0.04769126431812616,0.43266160617332367,0.45122564875249815,-0.11246593838511137,0.04884369541258482,0.047566730493689466,0.18710091330354311,-0.04116470200564507,-0.0901673187276521,-0.040365350140768655,-0.040372950382723115,-0.04037946713576336,-0.040379839727811694,0.43266075071948956,0.43690965145766913,0.04661442012511061,0.22378847797058404,0.44032533905825244,0.4062377488214227,-0.040402921693456946,0.04760579724181758,0.2237863300632973,0.40450317860393326,0.22378753002597013,0.2705868743044393,0.4194457970457012,0.4326681493077598,0.40358184184046875,-0.0403701034547514,0.04762353315495342,0.34223290543553125,-0.04212400713553719,0.0015075219873031016,0.04769063599846537,0.22378765526437502,0.2237881590929602,0.2236492916629051,-0.04038118092056424,0.04768891106185871,0.18710022125323547,0.011887073944742041,0.1691493212838359,-0.04036841713532114,0.33758253613217604,0.38028710506716246,0.43259829633931957,-0.044609078964958256,0.4062165182903493,0.256042177668287,-0.04036783676271892,-0.046817035614721815,0.04758174348863853,0.40394505196570335,0.4325662136512973,-0.04036346455054392,0.18551744939329207,0.4389802079686324,0.10858364910032518,0.44030272597547643,0.27154305477971613,0.22378882846332027,0.0476748912277234,0.43266368634834634,0.022706496554472853,0.422243948648733,0.13346242261584074,0.27157231380682345,0.4326246961968303,0.3632330858597985,0.40419767481863916,0.4300615799672819,0.43239902467489705,0.020569591454333135,0.22137414502907873,0.26443247198070696,0.04769027801671418,-0.04036262500436253,-0.04053075760581461,0.342323684325384,0.3081844685889119,0.21238030656174828,0.31445173947893124,0.43242536597505804,0.047680493786245504,0.1862165746209147,0.047689963736583046,0.22136761058779544,0.43827590753257667,0.2643949158758189,0.2715643696008403,0.18710091437451531,0.13173441513432954,0.43140163955524335,0.3986754019598115,0.39867558339618736,0.3986767320328065,0.39813970693127543,0.20494114893994,0.3647626937203847,-0.04038191751117885,0.4403003838386429,0.4403218136776941,0.2563460316645071,0.19335983394535683,0.18708567482872268,-0.04230949868830737,0.18706645419683743,0.4002804237595128,-0.04789232879043495,0.22215359984113797,0.3981399856040845,-0.04070875378095699,0.18709756671331887,-0.0544930777201357,0.10846778598386905,-0.040362581398323286,-0.0403986463614225,0.2708038210068442,0.46356481836005786,0.27154523336273356,0.40451865990426794,0.6405949624700382,0.4322220487570057,0.4403287890943049],\"type\":\"scatter3d\"},{\"customdata\":[[\"Proof-of-BibleHash\"],[\"SHA-256 + Hive\"],[\"Proof-of-Authority\"],[\"ECC 256K1\"],[\"Leased POS\"]],\"hovertemplate\":\"<b>%{hovertext}</b><br><br>class=%{marker.color}<br>PC 1=%{x}<br>PC 2=%{y}<br>PC 3=%{z}<br>Algorithm=%{customdata[0]}<extra></extra>\",\"hovertext\":[\"BiblePay\",\"LitecoinCash\",\"Poa Network\",\"Acute Angle Cloud\",\"Waves\"],\"legendgroup\":\"3\",\"marker\":{\"color\":[3,3,3,3,3],\"coloraxis\":\"coloraxis\",\"symbol\":\"square\"},\"mode\":\"markers\",\"name\":\"3\",\"scene\":\"scene\",\"showlegend\":true,\"x\":[-0.1394329752662733,-0.4839600681937048,-0.33943591060075984,-0.20253221816298053,-0.47088088882406426],\"y\":[3.372945807469158,5.244261634811759,1.9962255039694201,0.1297690237418454,4.894665161440688],\"z\":[8.997543101289677,17.3042206641022,14.213013164934898,15.694074840500923,15.286589794938118],\"type\":\"scatter3d\"},{\"customdata\":[[\"TRC10\"]],\"hovertemplate\":\"<b>%{hovertext}</b><br><br>class=%{marker.color}<br>PC 1=%{x}<br>PC 2=%{y}<br>PC 3=%{z}<br>Algorithm=%{customdata[0]}<extra></extra>\",\"hovertext\":[\"BitTorrent\"],\"legendgroup\":\"2\",\"marker\":{\"color\":[2],\"coloraxis\":\"coloraxis\",\"symbol\":\"x\"},\"mode\":\"markers\",\"name\":\"2\",\"scene\":\"scene\",\"showlegend\":true,\"x\":[35.47415360323733],\"y\":[1.6323182793703417],\"z\":[-0.8412954289034821],\"type\":\"scatter3d\"}],                        {\"template\":{\"data\":{\"histogram2dcontour\":[{\"type\":\"histogram2dcontour\",\"colorbar\":{\"outlinewidth\":0,\"ticks\":\"\"},\"colorscale\":[[0.0,\"#0d0887\"],[0.1111111111111111,\"#46039f\"],[0.2222222222222222,\"#7201a8\"],[0.3333333333333333,\"#9c179e\"],[0.4444444444444444,\"#bd3786\"],[0.5555555555555556,\"#d8576b\"],[0.6666666666666666,\"#ed7953\"],[0.7777777777777778,\"#fb9f3a\"],[0.8888888888888888,\"#fdca26\"],[1.0,\"#f0f921\"]]}],\"choropleth\":[{\"type\":\"choropleth\",\"colorbar\":{\"outlinewidth\":0,\"ticks\":\"\"}}],\"histogram2d\":[{\"type\":\"histogram2d\",\"colorbar\":{\"outlinewidth\":0,\"ticks\":\"\"},\"colorscale\":[[0.0,\"#0d0887\"],[0.1111111111111111,\"#46039f\"],[0.2222222222222222,\"#7201a8\"],[0.3333333333333333,\"#9c179e\"],[0.4444444444444444,\"#bd3786\"],[0.5555555555555556,\"#d8576b\"],[0.6666666666666666,\"#ed7953\"],[0.7777777777777778,\"#fb9f3a\"],[0.8888888888888888,\"#fdca26\"],[1.0,\"#f0f921\"]]}],\"heatmap\":[{\"type\":\"heatmap\",\"colorbar\":{\"outlinewidth\":0,\"ticks\":\"\"},\"colorscale\":[[0.0,\"#0d0887\"],[0.1111111111111111,\"#46039f\"],[0.2222222222222222,\"#7201a8\"],[0.3333333333333333,\"#9c179e\"],[0.4444444444444444,\"#bd3786\"],[0.5555555555555556,\"#d8576b\"],[0.6666666666666666,\"#ed7953\"],[0.7777777777777778,\"#fb9f3a\"],[0.8888888888888888,\"#fdca26\"],[1.0,\"#f0f921\"]]}],\"heatmapgl\":[{\"type\":\"heatmapgl\",\"colorbar\":{\"outlinewidth\":0,\"ticks\":\"\"},\"colorscale\":[[0.0,\"#0d0887\"],[0.1111111111111111,\"#46039f\"],[0.2222222222222222,\"#7201a8\"],[0.3333333333333333,\"#9c179e\"],[0.4444444444444444,\"#bd3786\"],[0.5555555555555556,\"#d8576b\"],[0.6666666666666666,\"#ed7953\"],[0.7777777777777778,\"#fb9f3a\"],[0.8888888888888888,\"#fdca26\"],[1.0,\"#f0f921\"]]}],\"contourcarpet\":[{\"type\":\"contourcarpet\",\"colorbar\":{\"outlinewidth\":0,\"ticks\":\"\"}}],\"contour\":[{\"type\":\"contour\",\"colorbar\":{\"outlinewidth\":0,\"ticks\":\"\"},\"colorscale\":[[0.0,\"#0d0887\"],[0.1111111111111111,\"#46039f\"],[0.2222222222222222,\"#7201a8\"],[0.3333333333333333,\"#9c179e\"],[0.4444444444444444,\"#bd3786\"],[0.5555555555555556,\"#d8576b\"],[0.6666666666666666,\"#ed7953\"],[0.7777777777777778,\"#fb9f3a\"],[0.8888888888888888,\"#fdca26\"],[1.0,\"#f0f921\"]]}],\"surface\":[{\"type\":\"surface\",\"colorbar\":{\"outlinewidth\":0,\"ticks\":\"\"},\"colorscale\":[[0.0,\"#0d0887\"],[0.1111111111111111,\"#46039f\"],[0.2222222222222222,\"#7201a8\"],[0.3333333333333333,\"#9c179e\"],[0.4444444444444444,\"#bd3786\"],[0.5555555555555556,\"#d8576b\"],[0.6666666666666666,\"#ed7953\"],[0.7777777777777778,\"#fb9f3a\"],[0.8888888888888888,\"#fdca26\"],[1.0,\"#f0f921\"]]}],\"mesh3d\":[{\"type\":\"mesh3d\",\"colorbar\":{\"outlinewidth\":0,\"ticks\":\"\"}}],\"scatter\":[{\"fillpattern\":{\"fillmode\":\"overlay\",\"size\":10,\"solidity\":0.2},\"type\":\"scatter\"}],\"parcoords\":[{\"type\":\"parcoords\",\"line\":{\"colorbar\":{\"outlinewidth\":0,\"ticks\":\"\"}}}],\"scatterpolargl\":[{\"type\":\"scatterpolargl\",\"marker\":{\"colorbar\":{\"outlinewidth\":0,\"ticks\":\"\"}}}],\"bar\":[{\"error_x\":{\"color\":\"#2a3f5f\"},\"error_y\":{\"color\":\"#2a3f5f\"},\"marker\":{\"line\":{\"color\":\"#E5ECF6\",\"width\":0.5},\"pattern\":{\"fillmode\":\"overlay\",\"size\":10,\"solidity\":0.2}},\"type\":\"bar\"}],\"scattergeo\":[{\"type\":\"scattergeo\",\"marker\":{\"colorbar\":{\"outlinewidth\":0,\"ticks\":\"\"}}}],\"scatterpolar\":[{\"type\":\"scatterpolar\",\"marker\":{\"colorbar\":{\"outlinewidth\":0,\"ticks\":\"\"}}}],\"histogram\":[{\"marker\":{\"pattern\":{\"fillmode\":\"overlay\",\"size\":10,\"solidity\":0.2}},\"type\":\"histogram\"}],\"scattergl\":[{\"type\":\"scattergl\",\"marker\":{\"colorbar\":{\"outlinewidth\":0,\"ticks\":\"\"}}}],\"scatter3d\":[{\"type\":\"scatter3d\",\"line\":{\"colorbar\":{\"outlinewidth\":0,\"ticks\":\"\"}},\"marker\":{\"colorbar\":{\"outlinewidth\":0,\"ticks\":\"\"}}}],\"scattermapbox\":[{\"type\":\"scattermapbox\",\"marker\":{\"colorbar\":{\"outlinewidth\":0,\"ticks\":\"\"}}}],\"scatterternary\":[{\"type\":\"scatterternary\",\"marker\":{\"colorbar\":{\"outlinewidth\":0,\"ticks\":\"\"}}}],\"scattercarpet\":[{\"type\":\"scattercarpet\",\"marker\":{\"colorbar\":{\"outlinewidth\":0,\"ticks\":\"\"}}}],\"carpet\":[{\"aaxis\":{\"endlinecolor\":\"#2a3f5f\",\"gridcolor\":\"white\",\"linecolor\":\"white\",\"minorgridcolor\":\"white\",\"startlinecolor\":\"#2a3f5f\"},\"baxis\":{\"endlinecolor\":\"#2a3f5f\",\"gridcolor\":\"white\",\"linecolor\":\"white\",\"minorgridcolor\":\"white\",\"startlinecolor\":\"#2a3f5f\"},\"type\":\"carpet\"}],\"table\":[{\"cells\":{\"fill\":{\"color\":\"#EBF0F8\"},\"line\":{\"color\":\"white\"}},\"header\":{\"fill\":{\"color\":\"#C8D4E3\"},\"line\":{\"color\":\"white\"}},\"type\":\"table\"}],\"barpolar\":[{\"marker\":{\"line\":{\"color\":\"#E5ECF6\",\"width\":0.5},\"pattern\":{\"fillmode\":\"overlay\",\"size\":10,\"solidity\":0.2}},\"type\":\"barpolar\"}],\"pie\":[{\"automargin\":true,\"type\":\"pie\"}]},\"layout\":{\"autotypenumbers\":\"strict\",\"colorway\":[\"#636efa\",\"#EF553B\",\"#00cc96\",\"#ab63fa\",\"#FFA15A\",\"#19d3f3\",\"#FF6692\",\"#B6E880\",\"#FF97FF\",\"#FECB52\"],\"font\":{\"color\":\"#2a3f5f\"},\"hovermode\":\"closest\",\"hoverlabel\":{\"align\":\"left\"},\"paper_bgcolor\":\"white\",\"plot_bgcolor\":\"#E5ECF6\",\"polar\":{\"bgcolor\":\"#E5ECF6\",\"angularaxis\":{\"gridcolor\":\"white\",\"linecolor\":\"white\",\"ticks\":\"\"},\"radialaxis\":{\"gridcolor\":\"white\",\"linecolor\":\"white\",\"ticks\":\"\"}},\"ternary\":{\"bgcolor\":\"#E5ECF6\",\"aaxis\":{\"gridcolor\":\"white\",\"linecolor\":\"white\",\"ticks\":\"\"},\"baxis\":{\"gridcolor\":\"white\",\"linecolor\":\"white\",\"ticks\":\"\"},\"caxis\":{\"gridcolor\":\"white\",\"linecolor\":\"white\",\"ticks\":\"\"}},\"coloraxis\":{\"colorbar\":{\"outlinewidth\":0,\"ticks\":\"\"}},\"colorscale\":{\"sequential\":[[0.0,\"#0d0887\"],[0.1111111111111111,\"#46039f\"],[0.2222222222222222,\"#7201a8\"],[0.3333333333333333,\"#9c179e\"],[0.4444444444444444,\"#bd3786\"],[0.5555555555555556,\"#d8576b\"],[0.6666666666666666,\"#ed7953\"],[0.7777777777777778,\"#fb9f3a\"],[0.8888888888888888,\"#fdca26\"],[1.0,\"#f0f921\"]],\"sequentialminus\":[[0.0,\"#0d0887\"],[0.1111111111111111,\"#46039f\"],[0.2222222222222222,\"#7201a8\"],[0.3333333333333333,\"#9c179e\"],[0.4444444444444444,\"#bd3786\"],[0.5555555555555556,\"#d8576b\"],[0.6666666666666666,\"#ed7953\"],[0.7777777777777778,\"#fb9f3a\"],[0.8888888888888888,\"#fdca26\"],[1.0,\"#f0f921\"]],\"diverging\":[[0,\"#8e0152\"],[0.1,\"#c51b7d\"],[0.2,\"#de77ae\"],[0.3,\"#f1b6da\"],[0.4,\"#fde0ef\"],[0.5,\"#f7f7f7\"],[0.6,\"#e6f5d0\"],[0.7,\"#b8e186\"],[0.8,\"#7fbc41\"],[0.9,\"#4d9221\"],[1,\"#276419\"]]},\"xaxis\":{\"gridcolor\":\"white\",\"linecolor\":\"white\",\"ticks\":\"\",\"title\":{\"standoff\":15},\"zerolinecolor\":\"white\",\"automargin\":true,\"zerolinewidth\":2},\"yaxis\":{\"gridcolor\":\"white\",\"linecolor\":\"white\",\"ticks\":\"\",\"title\":{\"standoff\":15},\"zerolinecolor\":\"white\",\"automargin\":true,\"zerolinewidth\":2},\"scene\":{\"xaxis\":{\"backgroundcolor\":\"#E5ECF6\",\"gridcolor\":\"white\",\"linecolor\":\"white\",\"showbackground\":true,\"ticks\":\"\",\"zerolinecolor\":\"white\",\"gridwidth\":2},\"yaxis\":{\"backgroundcolor\":\"#E5ECF6\",\"gridcolor\":\"white\",\"linecolor\":\"white\",\"showbackground\":true,\"ticks\":\"\",\"zerolinecolor\":\"white\",\"gridwidth\":2},\"zaxis\":{\"backgroundcolor\":\"#E5ECF6\",\"gridcolor\":\"white\",\"linecolor\":\"white\",\"showbackground\":true,\"ticks\":\"\",\"zerolinecolor\":\"white\",\"gridwidth\":2}},\"shapedefaults\":{\"line\":{\"color\":\"#2a3f5f\"}},\"annotationdefaults\":{\"arrowcolor\":\"#2a3f5f\",\"arrowhead\":0,\"arrowwidth\":1},\"geo\":{\"bgcolor\":\"white\",\"landcolor\":\"#E5ECF6\",\"subunitcolor\":\"white\",\"showland\":true,\"showlakes\":true,\"lakecolor\":\"white\"},\"title\":{\"x\":0.05},\"mapbox\":{\"style\":\"light\"}}},\"scene\":{\"domain\":{\"x\":[0.0,1.0],\"y\":[0.0,1.0]},\"xaxis\":{\"title\":{\"text\":\"PC 1\"}},\"yaxis\":{\"title\":{\"text\":\"PC 2\"}},\"zaxis\":{\"title\":{\"text\":\"PC 3\"}}},\"coloraxis\":{\"colorbar\":{\"title\":{\"text\":\"class\"}},\"colorscale\":[[0.0,\"#0d0887\"],[0.1111111111111111,\"#46039f\"],[0.2222222222222222,\"#7201a8\"],[0.3333333333333333,\"#9c179e\"],[0.4444444444444444,\"#bd3786\"],[0.5555555555555556,\"#d8576b\"],[0.6666666666666666,\"#ed7953\"],[0.7777777777777778,\"#fb9f3a\"],[0.8888888888888888,\"#fdca26\"],[1.0,\"#f0f921\"]]},\"legend\":{\"title\":{\"text\":\"class\"},\"tracegroupgap\":0,\"x\":0,\"y\":1},\"margin\":{\"t\":60},\"width\":800},                        {\"responsive\": true}                    ).then(function(){\n",
       "                            \n",
       "var gd = document.getElementById('3e5a0531-1192-4f13-8b51-9e2090c88a51');\n",
       "var x = new MutationObserver(function (mutations, observer) {{\n",
       "        var display = window.getComputedStyle(gd).display;\n",
       "        if (!display || display === 'none') {{\n",
       "            console.log([gd, 'removed!']);\n",
       "            Plotly.purge(gd);\n",
       "            observer.disconnect();\n",
       "        }}\n",
       "}});\n",
       "\n",
       "// Listen for the removal of the full notebook cells\n",
       "var notebookContainer = gd.closest('#notebook-container');\n",
       "if (notebookContainer) {{\n",
       "    x.observe(notebookContainer, {childList: true});\n",
       "}}\n",
       "\n",
       "// Listen for the clearing of the current output cell\n",
       "var outputEl = gd.closest('.output');\n",
       "if (outputEl) {{\n",
       "    x.observe(outputEl, {childList: true});\n",
       "}}\n",
       "\n",
       "                        })                };                });            </script>        </div>"
      ]
     },
     "metadata": {},
     "output_type": "display_data"
    }
   ],
   "source": [
    "# Creating a 3D-Scatter with the PCA data and the clusters\n",
    "fig = px.scatter_3d(\n",
    "    clustered_df,\n",
    "    x=\"PC 1\",\n",
    "    y=\"PC 2\",\n",
    "    z=\"PC 3\",\n",
    "    color=\"class\",\n",
    "    symbol=\"class\",\n",
    "    width=800,\n",
    "    hover_name = \"CoinName\",\n",
    "    hover_data = [\"Algorithm\"]\n",
    ")\n",
    "fig.update_layout(legend=dict(x=0, y=1))\n",
    "fig.show()\n"
   ]
  },
  {
   "cell_type": "code",
   "execution_count": 77,
   "metadata": {},
   "outputs": [
    {
     "data": {},
     "metadata": {},
     "output_type": "display_data"
    },
    {
     "data": {
      "application/vnd.holoviews_exec.v0+json": "",
      "text/html": [
       "<div id='1834'>\n",
       "  <div class=\"bk-root\" id=\"d4f90081-7c60-46e6-a41a-e856d92111b6\" data-root-id=\"1834\"></div>\n",
       "</div>\n",
       "<script type=\"application/javascript\">(function(root) {\n",
       "  function embed_document(root) {\n",
       "    var docs_json = {\"2bc18535-0088-4a03-8929-fff49ed8acdc\":{\"defs\":[{\"extends\":null,\"module\":null,\"name\":\"ReactiveHTML1\",\"overrides\":[],\"properties\":[]},{\"extends\":null,\"module\":null,\"name\":\"FlexBox1\",\"overrides\":[],\"properties\":[{\"default\":\"flex-start\",\"kind\":null,\"name\":\"align_content\"},{\"default\":\"flex-start\",\"kind\":null,\"name\":\"align_items\"},{\"default\":\"row\",\"kind\":null,\"name\":\"flex_direction\"},{\"default\":\"wrap\",\"kind\":null,\"name\":\"flex_wrap\"},{\"default\":\"flex-start\",\"kind\":null,\"name\":\"justify_content\"}]},{\"extends\":null,\"module\":null,\"name\":\"GridStack1\",\"overrides\":[],\"properties\":[{\"default\":\"warn\",\"kind\":null,\"name\":\"mode\"},{\"default\":null,\"kind\":null,\"name\":\"ncols\"},{\"default\":null,\"kind\":null,\"name\":\"nrows\"},{\"default\":true,\"kind\":null,\"name\":\"allow_resize\"},{\"default\":true,\"kind\":null,\"name\":\"allow_drag\"},{\"default\":[],\"kind\":null,\"name\":\"state\"}]},{\"extends\":null,\"module\":null,\"name\":\"click1\",\"overrides\":[],\"properties\":[{\"default\":\"\",\"kind\":null,\"name\":\"terminal_output\"},{\"default\":\"\",\"kind\":null,\"name\":\"debug_name\"},{\"default\":0,\"kind\":null,\"name\":\"clears\"}]},{\"extends\":null,\"module\":null,\"name\":\"NotificationAreaBase1\",\"overrides\":[],\"properties\":[{\"default\":\"bottom-right\",\"kind\":null,\"name\":\"position\"},{\"default\":0,\"kind\":null,\"name\":\"_clear\"}]},{\"extends\":null,\"module\":null,\"name\":\"NotificationArea1\",\"overrides\":[],\"properties\":[{\"default\":[],\"kind\":null,\"name\":\"notifications\"},{\"default\":\"bottom-right\",\"kind\":null,\"name\":\"position\"},{\"default\":0,\"kind\":null,\"name\":\"_clear\"},{\"default\":[{\"background\":\"#ffc107\",\"icon\":{\"className\":\"fas fa-exclamation-triangle\",\"color\":\"white\",\"tagName\":\"i\"},\"type\":\"warning\"},{\"background\":\"#007bff\",\"icon\":{\"className\":\"fas fa-info-circle\",\"color\":\"white\",\"tagName\":\"i\"},\"type\":\"info\"}],\"kind\":null,\"name\":\"types\"}]},{\"extends\":null,\"module\":null,\"name\":\"Notification\",\"overrides\":[],\"properties\":[{\"default\":null,\"kind\":null,\"name\":\"background\"},{\"default\":3000,\"kind\":null,\"name\":\"duration\"},{\"default\":null,\"kind\":null,\"name\":\"icon\"},{\"default\":\"\",\"kind\":null,\"name\":\"message\"},{\"default\":null,\"kind\":null,\"name\":\"notification_type\"},{\"default\":false,\"kind\":null,\"name\":\"_destroyed\"}]},{\"extends\":null,\"module\":null,\"name\":\"TemplateActions1\",\"overrides\":[],\"properties\":[{\"default\":0,\"kind\":null,\"name\":\"open_modal\"},{\"default\":0,\"kind\":null,\"name\":\"close_modal\"}]},{\"extends\":null,\"module\":null,\"name\":\"MaterialTemplateActions1\",\"overrides\":[],\"properties\":[{\"default\":0,\"kind\":null,\"name\":\"open_modal\"},{\"default\":0,\"kind\":null,\"name\":\"close_modal\"}]}],\"roots\":{\"references\":[{\"attributes\":{},\"id\":\"1849\",\"type\":\"StringEditor\"},{\"attributes\":{},\"id\":\"1844\",\"type\":\"StringEditor\"},{\"attributes\":{\"format\":\"0,0.0[00000]\"},\"id\":\"1873\",\"type\":\"NumberFormatter\"},{\"attributes\":{\"editor\":{\"id\":\"1869\"},\"field\":\"PC_2\",\"formatter\":{\"id\":\"1868\"},\"title\":\"PC 2\"},\"id\":\"1870\",\"type\":\"TableColumn\"},{\"attributes\":{},\"id\":\"1843\",\"type\":\"StringFormatter\"},{\"attributes\":{\"margin\":[5,5,5,5],\"name\":\"HSpacer01738\",\"sizing_mode\":\"stretch_width\"},\"id\":\"1835\",\"type\":\"Spacer\"},{\"attributes\":{},\"id\":\"1848\",\"type\":\"StringFormatter\"},{\"attributes\":{},\"id\":\"1874\",\"type\":\"NumberEditor\"},{\"attributes\":{\"editor\":{\"id\":\"1849\"},\"field\":\"ProofType\",\"formatter\":{\"id\":\"1848\"},\"title\":\"ProofType\"},\"id\":\"1850\",\"type\":\"TableColumn\"},{\"attributes\":{\"format\":\"0,0.0[00000]\"},\"id\":\"1853\",\"type\":\"NumberFormatter\"},{\"attributes\":{},\"id\":\"1878\",\"type\":\"NumberFormatter\"},{\"attributes\":{\"editor\":{\"id\":\"1874\"},\"field\":\"PC_3\",\"formatter\":{\"id\":\"1873\"},\"title\":\"PC 3\"},\"id\":\"1875\",\"type\":\"TableColumn\"},{\"attributes\":{},\"id\":\"1854\",\"type\":\"NumberEditor\"},{\"attributes\":{},\"id\":\"1879\",\"type\":\"IntEditor\"},{\"attributes\":{\"editor\":{\"id\":\"1879\"},\"field\":\"class\",\"formatter\":{\"id\":\"1878\"},\"title\":\"class\"},\"id\":\"1880\",\"type\":\"TableColumn\"},{\"attributes\":{\"source\":{\"id\":\"1836\"}},\"id\":\"1885\",\"type\":\"CDSView\"},{\"attributes\":{},\"id\":\"1858\",\"type\":\"StringFormatter\"},{\"attributes\":{\"editor\":{\"id\":\"1854\"},\"field\":\"TotalCoinsMined\",\"formatter\":{\"id\":\"1853\"},\"title\":\"TotalCoinsMined\"},\"id\":\"1855\",\"type\":\"TableColumn\"},{\"attributes\":{},\"id\":\"1859\",\"type\":\"StringEditor\"},{\"attributes\":{\"editor\":{\"id\":\"1859\"},\"field\":\"TotalCoinSupply\",\"formatter\":{\"id\":\"1858\"},\"title\":\"TotalCoinSupply\"},\"id\":\"1860\",\"type\":\"TableColumn\"},{\"attributes\":{\"data\":{\"Algorithm\":[\"Scrypt\",\"Scrypt\",\"X13\",\"SHA-256\",\"Ethash\",\"Scrypt\",\"X11\",\"CryptoNight-V7\",\"Ethash\",\"Equihash\",\"SHA-512\",\"Multiple\",\"SHA-256\",\"SHA-256\",\"Scrypt\",\"X15\",\"X11\",\"Scrypt\",\"Scrypt\",\"Scrypt\",\"Multiple\",\"Scrypt\",\"SHA-256\",\"Scrypt\",\"Scrypt\",\"Scrypt\",\"Quark\",\"Groestl\",\"Scrypt\",\"Scrypt\",\"Scrypt\",\"Scrypt\",\"Scrypt\",\"X11\",\"Scrypt\",\"Groestl\",\"Multiple\",\"SHA-256\",\"Scrypt\",\"Scrypt\",\"Scrypt\",\"Scrypt\",\"PoS\",\"Scrypt\",\"Scrypt\",\"NeoScrypt\",\"Scrypt\",\"Scrypt\",\"Scrypt\",\"Scrypt\",\"X11\",\"Scrypt\",\"X11\",\"SHA-256\",\"Scrypt\",\"Scrypt\",\"Scrypt\",\"SHA3\",\"Scrypt\",\"HybridScryptHash256\",\"Scrypt\",\"Scrypt\",\"SHA-256\",\"Scrypt\",\"X13\",\"Scrypt\",\"SHA-256\",\"Scrypt\",\"X13\",\"NeoScrypt\",\"Scrypt\",\"Scrypt\",\"Scrypt\",\"Scrypt\",\"Scrypt\",\"Scrypt\",\"X11\",\"X11\",\"SHA-256\",\"Multiple\",\"SHA-256\",\"PHI1612\",\"X11\",\"SHA-256\",\"SHA-256\",\"SHA-256\",\"X11\",\"Scrypt\",\"Scrypt\",\"Scrypt\",\"Scrypt\",\"Lyra2REv2\",\"Scrypt\",\"X11\",\"Multiple\",\"SHA-256\",\"X13\",\"Scrypt\",\"CryptoNight\",\"CryptoNight\",\"Shabal256\",\"Counterparty\",\"Scrypt\",\"SHA-256\",\"Groestl\",\"Scrypt\",\"Scrypt\",\"Scrypt\",\"X13\",\"Scrypt\",\"Scrypt\",\"Scrypt\",\"Scrypt\",\"X13\",\"Scrypt\",\"Stanford Folding\",\"X11\",\"Multiple\",\"QuBit\",\"Scrypt\",\"Scrypt\",\"Scrypt\",\"M7 POW\",\"Scrypt\",\"SHA-256\",\"Scrypt\",\"X11\",\"SHA3\",\"X11\",\"Lyra2RE\",\"SHA-256\",\"QUAIT\",\"X11\",\"X11\",\"Scrypt\",\"Scrypt\",\"Scrypt\",\"Ethash\",\"X13\",\"Blake2b\",\"SHA-256\",\"X15\",\"X11\",\"SHA-256\",\"BLAKE256\",\"Scrypt\",\"1GB AES Pattern Search\",\"SHA-256\",\"X11\",\"Scrypt\",\"SHA-256\",\"SHA-256\",\"NIST5\",\"Scrypt\",\"Scrypt\",\"X11\",\"Dagger\",\"Scrypt\",\"X11GOST\",\"X11\",\"Scrypt\",\"SHA-256\",\"Scrypt\",\"PoS\",\"Scrypt\",\"ScryptOG\",\"X11\",\"X11\",\"SHA-256\",\"SHA-256\",\"NIST5\",\"X11\",\"Scrypt\",\"POS 3.0\",\"Scrypt\",\"Scrypt\",\"Scrypt\",\"X13\",\"X11\",\"X11\",\"Equihash\",\"X11\",\"Scrypt\",\"CryptoNight\",\"SHA-256\",\"SHA-256\",\"X11\",\"Scrypt\",\"Multiple\",\"Scrypt\",\"Scrypt\",\"Scrypt\",\"SHA-256\",\"Scrypt\",\"Scrypt\",\"SHA-256D\",\"PoS\",\"Scrypt\",\"X11\",\"Lyra2Z\",\"PoS\",\"X13\",\"X14\",\"PoS\",\"SHA-256D\",\"Ethash\",\"Equihash\",\"DPoS\",\"X11\",\"Scrypt\",\"X11\",\"X13\",\"X11\",\"PoS\",\"Scrypt\",\"Scrypt\",\"X11\",\"PoS\",\"X11\",\"SHA-256\",\"Scrypt\",\"X11\",\"Scrypt\",\"Scrypt\",\"X11\",\"CryptoNight\",\"Scrypt\",\"Scrypt\",\"Scrypt\",\"Scrypt\",\"Quark\",\"QuBit\",\"Scrypt\",\"CryptoNight\",\"Lyra2RE\",\"Scrypt\",\"SHA-256\",\"X11\",\"Scrypt\",\"X11\",\"Scrypt\",\"CryptoNight-V7\",\"Scrypt\",\"Scrypt\",\"Scrypt\",\"X13\",\"X11\",\"Equihash\",\"Scrypt\",\"Scrypt\",\"Lyra2RE\",\"Scrypt\",\"Dagger-Hashimoto\",\"X11\",\"Blake2S\",\"X11\",\"Scrypt\",\"PoS\",\"X11\",\"NIST5\",\"PoS\",\"X11\",\"Scrypt\",\"Scrypt\",\"Scrypt\",\"SHA-256\",\"X11\",\"Scrypt\",\"Scrypt\",\"SHA-256\",\"PoS\",\"Scrypt\",\"X15\",\"SHA-256\",\"Scrypt\",\"POS 3.0\",\"CryptoNight-V7\",\"536\",\"Argon2d\",\"Blake2b\",\"Cloverhash\",\"CryptoNight\",\"NIST5\",\"X11\",\"NIST5\",\"Skein\",\"Scrypt\",\"X13\",\"Scrypt\",\"X11\",\"X11\",\"Scrypt\",\"CryptoNight\",\"X13\",\"Time Travel\",\"Scrypt\",\"Keccak\",\"SkunkHash v2 Raptor\",\"X11\",\"Skein\",\"SHA-256\",\"X11\",\"Scrypt\",\"VeChainThor Authority\",\"Scrypt\",\"PoS\",\"Scrypt\",\"Scrypt\",\"Scrypt\",\"Scrypt\",\"Scrypt\",\"Scrypt\",\"Scrypt\",\"CryptoNight\",\"SHA-512\",\"Ouroboros\",\"X11\",\"Equihash\",\"NeoScrypt\",\"X11\",\"Scrypt\",\"NeoScrypt\",\"Lyra2REv2\",\"Equihash\",\"Scrypt\",\"SHA-256\",\"NIST5\",\"PHI1612\",\"Dagger\",\"Scrypt\",\"Quark\",\"Scrypt\",\"POS 2.0\",\"Scrypt\",\"SHA-256\",\"X11\",\"NeoScrypt\",\"Ethash\",\"NeoScrypt\",\"Quark\",\"X11\",\"DPoS\",\"NIST5\",\"X13\",\"Multiple\",\"Scrypt\",\"CryptoNight\",\"CryptoNight\",\"Ethash\",\"NIST5\",\"Scrypt\",\"Quark\",\"X11\",\"CryptoNight-V7\",\"Scrypt\",\"Scrypt\",\"Scrypt\",\"X11\",\"BLAKE256\",\"X11\",\"Scrypt\",\"Scrypt\",\"NeoScrypt\",\"NeoScrypt\",\"Quark\",\"NeoScrypt\",\"Scrypt\",\"Scrypt\",\"Scrypt\",\"X11\",\"Scrypt\",\"X11\",\"SHA-256\",\"C11\",\"POS 3.0\",\"Ethash\",\"Scrypt\",\"Scrypt\",\"CryptoNight\",\"SkunkHash\",\"Scrypt\",\"CryptoNight\",\"X11\",\"Scrypt\",\"SHA-256\",\"Dagger\",\"Lyra2REv2\",\"X13\",\"Proof-of-BibleHash\",\"SHA-256 + Hive\",\"Scrypt\",\"Scrypt\",\"Skein\",\"X11\",\"Skein\",\"X11\",\"C11\",\"Proof-of-Authority\",\"X11\",\"XEVAN\",\"Scrypt\",\"VBFT\",\"Ethash\",\"CryptoNight\",\"Scrypt\",\"SHA-256\",\"IMesh\",\"PHI1612\",\"Quark\",\"NIST5\",\"Scrypt\",\"Scrypt\",\"Equihash\",\"Scrypt\",\"Lyra2Z\",\"Green Protocol\",\"PoS\",\"Scrypt\",\"NeoScrypt\",\"Semux BFT consensus\",\"X11\",\"Quark\",\"PoS\",\"CryptoNight\",\"X16R\",\"Scrypt\",\"NIST5\",\"Lyra2RE\",\"XEVAN\",\"Tribus\",\"Scrypt\",\"Lyra2Z\",\"Scrypt\",\"Scrypt\",\"CryptoNight\",\"X11\",\"SHA-256D\",\"CryptoNight Heavy\",\"CryptoNight\",\"Scrypt\",\"Scrypt\",\"X11\",\"Scrypt\",\"Jump Consistent Hash\",\"SHA-256D\",\"CryptoNight\",\"Scrypt\",\"X15\",\"Scrypt\",\"Quark\",\"Scrypt\",\"SHA-512\",\"SHA-256\",\"DPoS\",\"X16R\",\"HMQ1725\",\"X11\",\"Scrypt\",\"X16R\",\"Quark\",\"Quark\",\"Scrypt\",\"Lyra2REv2\",\"Quark\",\"Scrypt\",\"Scrypt\",\"Scrypt\",\"CryptoNight-V7\",\"Cryptonight-GPU\",\"XEVAN\",\"CryptoNight Heavy\",\"CryptoNight\",\"X11\",\"X11\",\"X11\",\"Scrypt\",\"PoS\",\"SHA-256\",\"Keccak\",\"X11\",\"X11\",\"Tribus\",\"Scrypt\",\"NeoScrypt\",\"SHA-512\",\"X16R\",\"ECC 256K1\",\"Equihash\",\"XEVAN\",\"HMQ1725\",\"Lyra2Z\",\"SHA-512\",\"SHA-256\",\"Quark\",\"PHI1612\",\"XEVAN\",\"X11\",\"CryptoNight\",\"Quark\",\"Blake\",\"Blake\",\"Blake\",\"Blake\",\"Equihash\",\"Exosis\",\"Scrypt\",\"Scrypt\",\"Equihash\",\"Quark\",\"Equihash\",\"Quark\",\"Scrypt\",\"Lyra2REv2\",\"QuBit\",\"X11\",\"Scrypt\",\"XEVAN\",\"SHA-256D\",\"X11\",\"SHA-256\",\"X13\",\"SHA-256\",\"X11\",\"DPoS\",\"Ethash\",\"Scrypt\",\"Scrypt\",\"X11\",\"NeoScrypt\",\"Scrypt\",\"Blake\",\"Scrypt\",\"SHA-256\",\"Scrypt\",\"X11\",\"Scrypt\",\"Scrypt\",\"SHA-256\",\"X11\",\"SHA-256\",\"Scrypt\",\"Scrypt\",\"Scrypt\",\"Groestl\",\"X11\",\"Scrypt\",\"PoS\",\"Scrypt\",\"Scrypt\",\"X11\",\"SHA-256\",\"DPoS\",\"Scrypt\",\"Scrypt\",\"NeoScrypt\",\"Multiple\",\"X13\",\"Equihash+Scrypt\",\"Lyra2Z\",\"PHI2\",\"DPoS\",\"Ethash\",\"DPoS\",\"SHA-256\",\"Lyra2Z\",\"Leased POS\",\"PoS\",\"Scrypt\",\"TRC10\",\"Equihash\",\"PoS\",\"SHA-256\",\"Scrypt\",\"CryptoNight\",\"Equihash\",\"Scrypt\",\"Scrypt\"],\"CoinName\":[\"42 Coin\",\"404Coin\",\"EliteCoin\",\"Bitcoin\",\"Ethereum\",\"Litecoin\",\"Dash\",\"Monero\",\"Ethereum Classic\",\"ZCash\",\"Bitshares\",\"DigiByte\",\"BitcoinDark\",\"PayCoin\",\"ProsperCoin\",\"KoboCoin\",\"Spreadcoin\",\"Argentum\",\"Aurora Coin\",\"BlueCoin\",\"MyriadCoin\",\"MoonCoin\",\"ZetaCoin\",\"SexCoin\",\"Quatloo\",\"EnergyCoin\",\"QuarkCoin\",\"Riecoin\",\"Digitalcoin \",\"BitBar\",\"Catcoin\",\"CryptoBullion\",\"CannaCoin\",\"CryptCoin\",\"CasinoCoin\",\"Diamond\",\"Verge\",\"DevCoin\",\"EarthCoin\",\"E-Gulden\",\"Einsteinium\",\"Emerald\",\"Exclusive Coin\",\"FlutterCoin\",\"Franko\",\"FeatherCoin\",\"GrandCoin\",\"GlobalCoin\",\"GoldCoin\",\"HoboNickels\",\"HyperStake\",\"Infinite Coin\",\"IOCoin\",\"IXcoin\",\"KrugerCoin\",\"LuckyCoin\",\"Litebar \",\"MaxCoin\",\"MegaCoin\",\"MediterraneanCoin\",\"MintCoin\",\"MinCoin\",\"MazaCoin\",\"Nautilus Coin\",\"NavCoin\",\"NobleCoin\",\"Namecoin\",\"NyanCoin\",\"OpalCoin\",\"Orbitcoin\",\"PotCoin\",\"PhoenixCoin\",\"Reddcoin\",\"RonPaulCoin\",\"StableCoin\",\"SmartCoin\",\"SuperCoin\",\"SyncCoin\",\"SysCoin\",\"TeslaCoin\",\"TigerCoin\",\"TittieCoin\",\"TorCoin\",\"TerraCoin\",\"UnbreakableCoin\",\"Unobtanium\",\"UroCoin\",\"UnitaryStatus Dollar\",\"UltraCoin\",\"ViaCoin\",\"VeriCoin\",\"Vertcoin\",\"WorldCoin\",\"X11 Coin\",\"Crypti\",\"JouleCoin\",\"StealthCoin\",\"ZCC Coin\",\"ByteCoin\",\"DigitalNote \",\"BurstCoin\",\"StorjCoin\",\"MonaCoin\",\"Neutron\",\"FairCoin\",\"Gulden\",\"RubyCoin\",\"PesetaCoin\",\"Kore\",\"Wild Beast Coin\",\"Dnotes\",\"Flo\",\"8BIT Coin\",\"Sativa Coin\",\"ArtByte\",\"Folding Coin\",\"Ucoin\",\"Unitus\",\"CypherPunkCoin\",\"OmniCron\",\"Vtorrent\",\"GreenCoin\",\"Cryptonite\",\"MasterCoin\",\"SoonCoin\",\"1Credit\",\"IslaCoin\",\"Nexus\",\"MarsCoin \",\"Crypto\",\"Anarchists Prime\",\"Droidz\",\"BowsCoin\",\"Squall Coin\",\"Song Coin\",\"BitZeny\",\"Diggits\",\"Expanse\",\"Paycon\",\"Siacoin\",\"Emercoin\",\"EverGreenCoin\",\"MindCoin\",\"I0coin\",\"Decred\",\"Revolution VR\",\"HOdlcoin\",\"EDRCoin\",\"Hitcoin\",\"Gamecredits\",\"DubaiCoin\",\"CarpeDiemCoin\",\"PWR Coin\",\"BillaryCoin\",\"GPU Coin\",\"Adzcoin\",\"SoilCoin\",\"YoCoin\",\"SibCoin\",\"EuropeCoin\",\"ZeitCoin\",\"SwingCoin\",\"SafeExchangeCoin\",\"Nebuchadnezzar\",\"Francs\",\"Aiden\",\"BolivarCoin\",\"Ratecoin\",\"Revenu\",\"Clockcoin\",\"VIP Tokens\",\"BitSend\",\"Omni\",\"Let it Ride\",\"PutinCoin\",\"iBankCoin\",\"Frankywillcoin\",\"MudraCoin\",\"PizzaCoin\",\"Lutetium Coin\",\"Komodo\",\"GoldBlocks\",\"CarterCoin\",\"Karbo\",\"BitTokens\",\"ZayedCoin\",\"MustangCoin\",\"ZoneCoin\",\"Circuits of Value\",\"RootCoin\",\"DopeCoin\",\"BitCurrency\",\"DollarCoin\",\"Swiscoin\",\"Shilling\",\"BuzzCoin\",\"Opair\",\"PesoBit\",\"Halloween Coin\",\"ZCoin\",\"CoffeeCoin\",\"RoyalCoin\",\"GanjaCoin V2\",\"TeamUP\",\"LanaCoin\",\"Elementrem\",\"ZClassic\",\"ARK\",\"InsaneCoin\",\"KiloCoin\",\"ArtexCoin\",\"EmberCoin\",\"XenixCoin\",\"FreeCoin\",\"PLNCoin\",\"AquariusCoin\",\"Kurrent\",\"Creatio\",\"Eternity\",\"Eurocoin\",\"BitcoinFast\",\"Stakenet\",\"BitConnect Coin\",\"MoneyCoin\",\"Enigma\",\"Cannabis Industry Coin\",\"Russiacoin\",\"PandaCoin\",\"GameUnits\",\"GAKHcoin\",\"Allsafe\",\"LiteCreed\",\"OsmiumCoin\",\"Bikercoins\",\"HexxCoin\",\"Klingon Empire Darsek\",\"Internet of People\",\"KushCoin\",\"Printerium\",\"PacCoin\",\"Impeach\",\"Citadel\",\"Zilbercoin\",\"FirstCoin\",\"BeaverCoin\",\"FindCoin\",\"VaultCoin\",\"Zero\",\"OpenChat\",\"Canada eCoin\",\"Zoin\",\"RenosCoin\",\"DubaiCoin\",\"VirtacoinPlus\",\"TajCoin\",\"Impact\",\"EB3coin\",\"Atmos\",\"HappyCoin\",\"Coinonat\",\"MacronCoin\",\"Condensate\",\"Independent Money System\",\"ArgusCoin\",\"LomoCoin\",\"ProCurrency\",\"GoldReserve\",\"BenjiRolls\",\"GrowthCoin\",\"ILCoin\",\"Phreak\",\"Degas Coin\",\"HTML5 Coin\",\"Ultimate Secure Cash\",\"EquiTrader\",\"QTUM\",\"Quantum Resistant Ledger\",\"Espers\",\"Dynamic\",\"Nano\",\"ChanCoin\",\"Dinastycoin\",\"Denarius\",\"DigitalPrice\",\"Virta Unique Coin\",\"Bitcoin Planet\",\"Unify\",\"BritCoin\",\"SocialCoin\",\"ArcticCoin\",\"DAS\",\"Linda\",\"LeviarCoin\",\"DeepOnion\",\"Bitcore\",\"gCn Coin\",\"SmartCash\",\"Signatum\",\"Onix\",\"Cream\",\"Bitcoin Cash\",\"Monoeci\",\"Draftcoin\",\"Vechain\",\"Sojourn Coin\",\"Stakecoin\",\"NewYorkCoin\",\"FrazCoin\",\"Kronecoin\",\"AdCoin\",\"Linx\",\"CoinonatX\",\"Ethereum Dark\",\"Sumokoin\",\"Obsidian\",\"Cardano\",\"Regalcoin\",\"BitcoinZ\",\"TrezarCoin\",\"Elements\",\"TerraNovaCoin\",\"VIVO Coin\",\"Rupee\",\"Bitcoin Gold\",\"WomenCoin\",\"Theresa May Coin\",\"NamoCoin\",\"LUXCoin\",\"Pirl\",\"Xios\",\"Bitcloud 2.0\",\"eBoost\",\"KekCoin\",\"BlackholeCoin\",\"Infinity Economics\",\"Pura\",\"Innova\",\"Ellaism\",\"GoByte\",\"Alqo\",\"Magnet\",\"Lamden Tau\",\"Electra\",\"Bitcoin Diamond\",\"SHIELD\",\"Cash & Back Coin\",\"UltraNote\",\"BitCoal\",\"DaxxCoin\",\"Bulwark\",\"BoxyCoin\",\"Kalkulus\",\"AC3\",\"Lethean\",\"GermanCoin\",\"LiteCoin Ultra\",\"PopularCoin\",\"PhantomX\",\"Photon\",\"Sucre\",\"Accolade\",\"OmiseGO Classic\",\"SparksPay\",\"GoaCoin\",\"Digiwage\",\"GunCoin\",\"IrishCoin\",\"Trollcoin\",\"Litecoin Plus\",\"Monkey Project\",\"ECC\",\"Pioneer Coin\",\"UnitedBitcoin\",\"Interzone\",\"TokenPay\",\"1717 Masonic Commemorative Token\",\"Crypto Wisdom Coin\",\"My Big Coin\",\"TurtleCoin\",\"MUNcoin\",\"Unified Society USDEX\",\"Niobio Cash\",\"BitSoar Coin\",\"ShareChain\",\"Credence Coin\",\"Travelflex\",\"KREDS\",\"Tokyo Coin\",\"BiblePay\",\"LitecoinCash\",\"BitFlip\",\"LottoCoin\",\"BashCoin\",\"DigiMoney\",\"Lizus Payment\",\"Crypto Improvement Fund\",\"Stipend\",\"Poa Network\",\"Pushi\",\"Ellerium\",\"Velox\",\"Ontology\",\"Callisto Network\",\"BitTube\",\"Poseidon\",\"Manna\",\"Aidos Kuneen\",\"Seraph\",\"Cosmo\",\"Bitspace\",\"Briacoin\",\"Ignition\",\"Bitrolium\",\"MedicCoin\",\"Alpenschillling\",\"Bitcoin Green\",\"Deviant Coin\",\"Abjcoin\",\"Rapture\",\"Semux\",\"FuturoCoin\",\"Carebit\",\"Zealium\",\"Monero Classic\",\"Proton\",\"iDealCash\",\"Jumpcoin\",\"Infinex\",\"Bitcoin Incognito\",\"KEYCO\",\"HollyWoodCoin\",\"GINcoin\",\"Parlay\",\"Listerclassic Coin\",\"PlatinCoin\",\"BetKings\",\"Cognitio\",\"Loki\",\"Newton Coin\",\"Mercoin\",\"Swisscoin\",\"Reliance\",\"Xt3ch\",\"MassGrid\",\"TheVig\",\"PluraCoin\",\"EmaratCoin\",\"Dekado\",\"Lynx\",\"Poseidon Quark\",\"MYCE\",\"Arionum\",\"BitcoinWSpectrum\",\"Muse\",\"Motion\",\"PlusOneCoin\",\"Axe\",\"GambleCoin\",\"Trivechain\",\"Dystem\",\"Giant\",\"Peony Coin\",\"Absolute Coin\",\"Vitae\",\"HexCoin\",\"Deimos\",\"TPCash\",\"Webchain\",\"Ryo\",\"Urals Coin\",\"Qwertycoin\",\"Bitcoin Nova\",\"ARENON\",\"DACash\",\"EUNO\",\"MMOCoin\",\"Ketan\",\"Project Pai\",\"XDNA\",\"PAXEX\",\"Azart\",\"Averopay\",\"ThunderStake\",\"SimpleBank\",\"Kcash\",\"Xchange\",\"Acute Angle Cloud\",\"CrypticCoin\",\"Bettex coin\",\"Brazio\",\"Actinium\",\"TWIST\",\"Bitcoin SV\",\"DACH Coin\",\"Argoneum\",\"BitMoney\",\"Junson Ming Chan Coin\",\"FREDEnergy\",\"HerbCoin\",\"BlakeBitcoin\",\"Universal Molecule\",\"Lithium\",\"Electron\",\"PirateCash\",\"Exosis\",\"Block-Logic\",\"Oduwa\",\"Beam\",\"Galilel\",\"Bithereum\",\"Crypto Sports\",\"Credit\",\"Scribe Network\",\"SLICE\",\"Dash Platinum\",\"Nasdacoin\",\"Beetle Coin\",\"Titan Coin\",\"Award\",\"BLAST\",\"Bitcoin Rhodium\",\"GlobalToken\",\"Insane Coin\",\"ALAX\",\"Media Protocol Token\",\"LiteDoge\",\"SolarCoin\",\"TruckCoin\",\"UFO Coin\",\"OrangeCoin\",\"BlakeCoin\",\"BitstarCoin\",\"NeosCoin\",\"HyperCoin\",\"PinkCoin\",\"Crypto Escudo\",\"AudioCoin\",\"IncaKoin\",\"Piggy Coin\",\"Crown Coin\",\"Genstake\",\"SmileyCoin\",\"XiaoMiCoin\",\"Groestlcoin\",\"CapriCoin\",\" ClubCoin\",\"Radium\",\"Bata\",\"Pakcoin\",\"Creditbit \",\"OKCash\",\"Lisk\",\"HiCoin\",\"WhiteCoin\",\"FriendshipCoin\",\"JoinCoin\",\"Triangles Coin\",\"Vollar\",\"TecraCoin\",\"Gexan\",\"EOS\",\"Reality Clash\",\"Oxycoin\",\"TigerCash\",\"LAPO\",\"Waves\",\"Particl\",\"ShardCoin\",\"BitTorrent\",\"ChainZilla\",\"Nxt\",\"ZEPHYR\",\"Gapcoin\",\"Beldex\",\"Horizen\",\"BitcoinPlus\",\"DivotyCoin\"],\"PC_1\":{\"__ndarray__\":\"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\",\"dtype\":\"float64\",\"order\":\"little\",\"shape\":[577]},\"PC_2\":{\"__ndarray__\":\"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\",\"dtype\":\"float64\",\"order\":\"little\",\"shape\":[577]},\"PC_3\":{\"__ndarray__\":\"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\",\"dtype\":\"float64\",\"order\":\"little\",\"shape\":[577]},\"ProofType\":[\"PoW/PoS\",\"PoW/PoS\",\"PoW/PoS\",\"PoW\",\"PoW\",\"PoW\",\"PoW/PoS\",\"PoW\",\"PoW\",\"PoW\",\"PoS\",\"PoW\",\"PoW/PoS\",\"PoS\",\"PoW\",\"PoW/PoS\",\"PoW\",\"PoW\",\"PoW/PoS\",\"PoW/PoS\",\"PoW\",\"PoW\",\"PoW\",\"PoW\",\"PoW\",\"PoW/PoS\",\"PoW\",\"PoW\",\"PoW\",\"PoW/PoS\",\"PoW\",\"PoW/PoS\",\"PoW\",\"PoW\",\"PoC\",\"PoW/PoS\",\"PoW\",\"PoW\",\"PoW\",\"PoW\",\"PoW\",\"PoW\",\"PoS\",\"PoS/PoW/PoT\",\"PoW\",\"PoW\",\"PoW\",\"PoW\",\"PoW\",\"PoW/PoS\",\"PoS\",\"PoW\",\"PoW/PoS\",\"PoW\",\"PoW\",\"PoW\",\"PoW\",\"PoW/PoS\",\"PoW\",\"PoW\",\"PoS\",\"PoW\",\"PoW/PoS\",\"PoS\",\"PoW/PoS\",\"PoW\",\"PoW\",\"PoW\",\"PoW/PoS\",\"PoW/PoS\",\"PoW/PoS\",\"PoW/PoS\",\"PoW/PoS\",\"PoW\",\"PoW\",\"PoW\",\"PoS\",\"PoW/PoS\",\"PoW\",\"PoS\",\"PoW\",\"PoS\",\"PoW/PoS\",\"PoW\",\"PoW\",\"PoW\",\"PoW\",\"PoW/PoS\",\"PoW/PoS\",\"PoW\",\"PoST\",\"PoW\",\"PoW\",\"PoW/PoS\",\"PoS\",\"PoW\",\"PoW/PoS\",\"PoW/PoS\",\"PoW\",\"PoW\",\"PoC\",\"PoS\",\"PoW\",\"PoW/PoS\",\"PoW/PoS\",\"PoW\",\"PoS\",\"PoW\",\"PoW/PoS\",\"PoW\",\"PoS\",\"PoW\",\"PoW/PoS\",\"PoW/PoS\",\"PoW\",\"PoW\",\"PoS\",\"PoW\",\"PoW\",\"PoW\",\"PoW/PoS\",\"PoW\",\"PoW\",\"PoW\",\"PoW\",\"PoW\",\"PoW/PoS\",\"PoW/nPoS\",\"PoW\",\"PoW\",\"PoW\",\"PoW/PoS\",\"PoW\",\"PoS/PoW\",\"PoW\",\"PoW\",\"PoS\",\"PoW\",\"PoW/PoS\",\"PoW\",\"PoW/PoS\",\"PoW/PoS\",\"PoW\",\"PoW\",\"PoW/PoS\",\"PoW\",\"PoW\",\"PoW/PoS\",\"PoW/PoS\",\"PoW\",\"PoW/PoS\",\"PoW\",\"PoW/PoS\",\"PoW/PoS\",\"PoS\",\"PoW\",\"PoW\",\"PoW\",\"PoW\",\"PoW/PoS\",\"PoS\",\"PoW/PoS\",\"PoC\",\"PoS\",\"PoW\",\"PoW\",\"PoW\",\"PoW/PoS\",\"PoW/PoS\",\"PoW/PoS\",\"PoW/PoS\",\"PoW/PoS\",\"PoW\",\"PoS\",\"PoW/PoS\",\"PoW/PoS\",\"PoW/PoS\",\"PoS\",\"PoW\",\"PoS\",\"dPoW/PoW\",\"PoW/PoS\",\"PoW/PoS\",\"PoW\",\"PoW/PoS\",\"PoW\",\"PoW/PoS\",\"PoW/PoS\",\"PoW\",\"PoW/PoS\",\"PoW\",\"PoS\",\"PoW\",\"PoW/PoW\",\"PoW\",\"PoW/PoS\",\"PoS\",\"PoW/PoS\",\"PoW/PoS\",\"PoW\",\"PoS\",\"PoS\",\"PoW/PoS\",\"PoS\",\"PoW/PoS\",\"PoW\",\"PoW\",\"DPoS\",\"PoW/PoS\",\"PoW\",\"PoW\",\"PoW/PoS\",\"PoW/PoS\",\"PoS\",\"PoW/PoS\",\"PoW/PoS\",\"PoW\",\"PoS\",\"PoW/PoS\",\"PoW/PoS\",\"PoW/PoS\",\"TPoS\",\"PoW/PoS\",\"PoW/PoS\",\"PoW/PoS\",\"PoW\",\"PoW/PoS\",\"PoS\",\"PoW/PoS\",\"PoW/PoS\",\"PoS\",\"PoW/PoS\",\"PoW\",\"PoW\",\"PoW\",\"PoW/PoS\",\"PoW/PoS\",\"PoW/PoS\",\"PoW/PoS\",\"PoW\",\"PoW/PoS\",\"PoW\",\"PoS\",\"PoW/PoS \",\"PoW\",\"PoS\",\"PoW\",\"PoW\",\"PoW/PoS\",\"PoW\",\"PoW\",\"PoS\",\"PoW\",\"PoW/PoS\",\"PoW/PoS\",\"PoW/PoS\",\"PoW\",\"PoS\",\"PoW/PoS\",\"PoW\",\"PoS\",\"PoW/PoS\",\"PoW/PoS\",\"PoW/PoS\",\"PoW/PoS\",\"PoS\",\"PoW/PoS\",\"PoW\",\"PoS\",\"PoW\",\"PoS\",\"PoW/PoS\",\"PoW/PoS\",\"PoS\",\"PoW\",\"PoS\",\"PoW\",\"PoW/PoS\",\"PoW\",\"PoW\",\"PoW\",\"PoW\",\"PoW/PoS\",\"PoW\",\"PoW/PoS\",\"PoW/PoS\",\"PoW\",\"PoW/PoS\",\"PoW\",\"PoW\",\"PoW\",\"PoW/PoS\",\"PoW\",\"PoW/PoS\",\"PoW\",\"PoW\",\"PoW\",\"PoS\",\"PoW\",\"PoW/PoS\",\"PoW\",\"PoW/PoS\",\"PoS\",\"Proof of Authority\",\"PoW\",\"PoS\",\"PoW\",\"PoW\",\"PoW\",\"PoW\",\"PoW\",\"PoW/PoS\",\"PoW/PoS\",\"PoW\",\"PoS\",\"PoS\",\"PoW/PoS\",\"PoW\",\"PoW/PoS\",\"PoW\",\"PoW/PoS\",\"PoW\",\"PoS\",\"PoW\",\"PoW/PoS\",\"PoW/PoS\",\"PoW/PoS\",\"PoW/PoS\",\"PoW\",\"PoW/PoS\",\"PoW/PoS\",\"PoW\",\"PoS\",\"PoW/PoS\",\"PoS\",\"PoW\",\"PoW\",\"PoW\",\"PoW\",\"PoW/PoS\",\"PoW/PoS\",\"DPoS\",\"PoW/PoS\",\"PoW/PoS\",\"PoW\",\"PoW/PoS\",\"PoW\",\"PoW\",\"PoW\",\"PoS\",\"PoW\",\"PoS\",\"PoW\",\"PoW\",\"PoW/PoS\",\"PoW/PoS\",\"PoW\",\"PoW/PoS\",\"PoW\",\"PoW\",\"PoW/PoS\",\"PoW/PoS\",\"PoW\",\"PoW\",\"PoS\",\"PoW\",\"PoW\",\"PoW/PoS\",\"PoW/PoS\",\"PoS\",\"PoS\",\"PoW\",\"PoW\",\"PoW\",\"PoS\",\"PoS\",\"PoW\",\"PoW and PoS\",\"PoW\",\"PoW\",\"PoW/PoS\",\"PoW\",\"PoS\",\"PoW\",\"PoW/PoS\",\"PoW\",\"PoW\",\"PoS\",\"POBh\",\"PoW + Hive\",\"PoW\",\"PoW\",\"PoW/PoS\",\"PoW/PoS\",\"PoW/PoS\",\"PoW\",\"PoW/PoS\",\"PoA\",\"PoW/PoS\",\"PoW/PoS\",\"PoS\",\"PoS\",\"PoW\",\"PoW\",\"PoW\",\"PoW\",\"PoW\",\"PoW/PoS\",\"PoW\",\"PoW/PoS\",\"PoW/PoS\",\"PoW/PoS\",\"PoW\",\"PoS\",\"PoW\",\"PoS\",\"PoS\",\"PoW/PoS\",\"PoW\",\"DPoS\",\"PoW\",\"PoW/PoS\",\"PoS\",\"PoW\",\"PoS\",\"PoW/PoS\",\"PoW\",\"PoW\",\"PoS/PoW\",\"PoW\",\"PoS\",\"PoW\",\"PoS\",\"PoW/PoS\",\"PoW\",\"PoS\",\"PoW/PoS\",\"PoW\",\"PoW\",\"PoW/PoS\",\"PoW/PoS\",\"PoS\",\"PoS\",\"PoW\",\"PoW/PoS\",\"PoW\",\"PoW/PoS\",\"PoS\",\"HPoW\",\"PoS\",\"PoW/PoS\",\"PoW\",\"PoS\",\"PoS\",\"PoW\",\"PoW\",\"PoW\",\"PoS\",\"PoW/PoS\",\"PoS\",\"PoW/PoS\",\"PoS\",\"PoW/PoS\",\"PoS\",\"PoW\",\"PoW\",\"PoW/PoS\",\"PoW\",\"PoW\",\"PoW\",\"PoW\",\"PoW\",\"PoS\",\"PoW\",\"PoW/PoS\",\"PoS\",\"PoS\",\"PoW\",\"PoW/PoS\",\"PoS\",\"PoW\",\"PoW/PoS\",\"PoW/PoS\",\"PoW/PoS\",\"Zero-Knowledge Proof\",\"PoW\",\"DPOS\",\"PoW\",\"PoS\",\"PoW\",\"PoW\",\"PoS\",\"PoW\",\"PoS\",\"PoW\",\"Pos\",\"PoS\",\"PoW\",\"PoW/PoS\",\"PoW\",\"PoW\",\"PoW\",\"PoW\",\"PoS\",\"PoW\",\"PoW\",\"PoW/PoS\",\"PoW\",\"PoW/PoS\",\"PoW\",\"PoS\",\"PoW/PoS\",\"PoW\",\"PoW\",\"PoS\",\"PoW/PoS\",\"PoW/PoS\",\"PoW/PoS\",\"PoW/PoS\",\"PoW\",\"PoW\",\"PoW\",\"PoW/PoS\",\"DPoS\",\"PoW\",\"PoW/PoS\",\"PoW\",\"PoW/PoS\",\"PoW\",\"PoW/PoS\",\"PoW\",\"PoW/PoS\",\"PoS\",\"PoW/PoS\",\"PoW/PoS\",\"PoW\",\"PoW/PoS\",\"PoW/PoS\",\"PoW/PoS\",\"PoW\",\"PoW/PoS\",\"PoW\",\"PoW/PoS\",\"PoW\",\"PoW/PoS\",\"PoW/PoS\",\"PoS\",\"PoW\",\"PoW\",\"Proof of Trust\",\"PoW/PoS\",\"DPoS\",\"PoS\",\"PoW/PoS\",\"PoW/PoS\",\"PoW\",\"PoW/PoS\",\"PoW\",\"PoW\",\"PoW/PoS\",\"DPoS\",\"PoW\",\"DPoS\",\"PoS\",\"PoW/PoS\",\"LPoS\",\"PoS\",\"PoS\",\"DPoS\",\"DPoW\",\"PoS/LPoS\",\"DPoS\",\"PoW/PoS\",\"PoW\",\"PoW\",\"PoS\",\"PoW/PoS\"],\"TotalCoinSupply\":[\"42\",\"532000000\",\"314159265359\",\"21000000\",\"0\",\"84000000\",\"22000000\",\"0\",\"210000000\",\"21000000\",\"3600570502\",\"21000000000\",\"22000000\",\"12500000\",\"21000000\",\"350000000\",\"20000000\",\"64000000\",\"16768584\",\"0\",\"2000000000\",\"384000000000\",\"169795588\",\"250000000\",\"100000000\",\"0\",\"247000000\",\"84000000\",\"48166000\",\"500000\",\"21000000 \",\"1000000\",\"13140000\",\"18000000\",\"40000000000\",\"4380000\",\"16555000000\",\"21000000000\",\"13500000000\",\"21000000 \",\"299792458\",\"32000000\",\"0\",\"0\",\"11235813\",\"336000000\",\"1420609614\",\"70000000\",\"72245700\",\"120000000\",\"0\",\"90600000000\",\"22000000\",\"21000000\",\"265420800\",\"20000000\",\"1350000\",\"100000000\",\"42000000\",\"200000000\",\"0\",\"10000000\",\"2419200000\",\"16180000\",\"0\",\"15000000000\",\"21000000\",\"337000000\",\"0\",\"3770000\",\"420000000\",\"98000000\",\"0\",\"21000000\",\"250000000\",\"51200000\",\"0\",\"1000\",\"888000000\",\"100000000\",\"47011968\",\"2300000000\",\"10000000\",\"42000000\",\"80000000\",\"250000\",\"0\",\"1600000000\",\"100000000\",\"23000000\",\"0\",\"84000000\",\"265420800\",\"5500000\",\"0\",\"45000000\",\"0\",\"1000000000\",\"184467440735\",\"10000000000\",\"2158812800\",\"500000000\",\"105120000\",\"68000000\",\"0\",\"1680000000\",\"0\",\"166386000\",\"12000000\",\"2628000\",\"500000000\",\"160000000\",\"0\",\"10000000\",\"1000000000\",\"1000000000\",\"20000000\",\"0\",\"0\",\"3371337\",\"20000000\",\"10000000000\",\"1840000000\",\"619478\",\"21000000\",\"92000000000\",\"0\",\"78000000\",\"33000000\",\"65789100\",\"53760000\",\"5060000\",\"21000000\",\"0\",\"210240000\",\"250000000\",\"100000000\",\"16906397\",\"50000000\",\"0\",\"1000000000\",\"26298000\",\"16000000\",\"21000000\",\"21000000\",\"210000000\",\"81962100\",\"22000000\",\"26550000000\",\"84000000\",\"10500000\",\"21626280000 \",\"0\",\"42000000\",\"221052632\",\"84000000\",\"30000000\",\"168351300\",\"24000000\",\"384000000\",\" 99000000000\",\"40000000\",\"2147483647\",\"20000000\",\"20000000\",\"84000000\",\"25000000\",\"75000000\",\"222725000\",\"525000000\",\"90000000\",\"139000000\",\"616448\",\"33500000\",\"2000000000\",\"44333333\",\"100000000\",\"200000000\",\"25000000\",\"657000000\",\"200000000\",\"50000000\",\"90000000\",\"10000000\",\"21000000\",\"9736000\",\"3000000\",\"21000000\",\"1200000000\",\"0\",\"200000000\",\"0\",\"10638298\",\"3100000000\",\"30000000\",\"20000000000\",\"74000000\",\"0\",\"1500000000\",\"21400000\",\"39999898\",\"2500124\",\"100000000\",\"301000000\",\"7506000000\",\"26205539\",\"21000000\",\"125000000\",\"30000000\",\"10000000000\",\"500000000\",\"850000000\",\"3853326.77707314\",\"50000000\",\"38540000 \",\"42000000\",\"228000000\",\"20000000\",\"60000000\",\"20000000\",\"33000000\",\"76500000\",\"28000000\",\"650659833\",\"5000000\",\"21000000\",\"144000000\",\"32514916898\",\"13000000\",\"3315789\",\"15000000\",\"78835200\",\"2714286\",\"25000000\",\"9999999\",\"500000000\",\"21000000\",\"9354000\",\"20000000\",\"100000000000\",\"21933333\",\"185000000\",\"55000000\",\"110000000\",\"3360000\",\"14524851.4827\",\"1000000000\",\"17000000\",\"1000000000\",\"100000000 \",\"21000000\",\"34426423\",\"2232901\",\"100000000\",\"36900000\",\"110000000\",\"4000000000\",\"110290030\",\"100000000\",\"48252000\",\"400000000\",\"500000000\",\"21212121\",\"28600000\",\"1000000000\",\"75000000000\",\"40000000\",\"35520400\",\"2000000000\",\"2500000000\",\"30000000\",\"105000000\",\"90000000000\",\"200084200\",\"72000000\",\"100000000\",\"105000000\",\"50000000000\",\"0\",\"340282367\",\"30000000\",\"2000000000\",\"10000000\",\"100000000\",\"120000000\",\"100000000\",\"19276800\",\"30000000\",\" 75000000\",\"60000000\",\"18900000\",\"50000000000\",\"54000000\",\"18898187.6216583\",\"21000000\",\"200000000000\",\"5000000000\",\"137500000\",\"1100000000\",\"100000000\",\"21000000\",\"9507271\",\"17405891.19707116\",\"86712634466\",\"10500000000\",\"61599965\",\"0\",\"20000000\",\"84000000\",\"100000000\",\"100000000\",\"48252000\",\"4200000\",\"88888888\",\"91388946\",\"45000000000\",\"27000000\",\"21000000000\",\"400000000\",\"1800000000\",\"15733333\",\"27000000\",\"24000000\",\"21000000\",\"25000000000\",\"100000000\",\"1200000000\",\"60000000\",\"156306732.71\",\"21000000\",\"200000000\",\"100000000\",\"21000000\",\"14788275.991\",\"9000000000\",\"350000000\",\"45000000\",\"280000000\",\"31800000\",\"57879300\",\"144000000\",\"500000000\",\"30000000000\",\"210000000\",\"660000000\",\"210000000\",\"85000000000\",\"12500000\",\"10000000000\",\"27716121\",\"100000000\",\"20000000\",\"550000000\",\"999481516\",\"50000000000\",\"150000000\",\"4999999999\",\"50000000\",\" 90000000000\",\"19800000\",\"50000000\",\"70000000\",\"21000000\",\"32000000\",\"120000000\",\"500000000\",\"64000000\",\"900000000\",\"4000000\",\"21000000\",\"25000000000\",\"23000000\",\"20166000\",\"23000000\",\"25000000\",\"1618033\",\"24000000\",\"30000000\",\"1000000000000\",\"16600000\",\"232000000\",\"336000000\",\"3980000000\",\"10000000000\",\"25000000\",\"100000000\",\"1100000000\",\"800000000\",\"5200000000\",\"840000000\",\"40000000\",\"18406979840\",\"72000000\",\"25000000\",\"69000000\",\"500000000\",\"19340594\",\"252460800\",\"25000000\",\"60000000\",\"124000000\",\"1000000000\",\"6500000000\",\"1000000000\",\"21000000\",\"10044655075.56243680\",\"25000000\",\"32000000\",\"11892000\",\"50000000\",\"3000000\",\"5000000\",\"70000000\",\"500000000\",\"300000000\",\"21000000\",\"88000000\",\"30000000\",\"21000000\",\"100000000\",\"100000000\",\"200000000\",\"80000000\",\"18400000\",\"45000000\",\"5121951220\",\"21000000\",\"26280000\",\"21000000\",\"18000000\",\"26000000\",\"10500000\",\"30000000\",\"110000000\",\"600000518\",\"8148139\",\"7500000\",\"150000000\",\"184000000000\",\"100000000\",\"10200000000\",\"62000000\",\"44000000\",\"168000000\",\"100000000\",\"1000000000\",\"84000000\",\"90000000\",\"92000000000\",\"650000000 \",\"250000000\",\"545399000\",\"100262205\",\"18081806 \",\"22075700\",\"21000000\",\"21000000\",\"15600000\",\"82546564\",\"21000000\",\"5151000\",\"16880000000\",\"52500000\",\"100000000\",\"22105263\",\"1000000000\",\"1000000000\",\"1750000000\",\"88188888\",\"210000000\",\"184470000000\",\"1000000000\",\"55000000\",\"50000000\",\"50000000\",\"260000000\",\"210000000\",\"2100000000\",\"366000000\",\"100000000\",\"25000000\",\"36500000\",\"18000000000\",\"21000000\",\"1000000000\",\"100000000\",\"1000000000\",\"7600000000\",\"50000000\",\"207000000\",\"84000000\",\"200000000\",\"21000000\",\"38000000\",\"64000000\",\"70000000000\",\"0\",\"8080000000\",\"54000000\",\"21000000\",\"105120001.44\",\"25228800\",\"7000000000\",\"105000000\",\"21000000\",\"120000000\",\"21000000\",\"262800000\",\"19035999\",\"30886000\",\"13370000\",\"74800000000\",\"32700000\",\"100000000\",\"19700000\",\"84000000\",\"500000000\",\"5000000000\",\"420000000\",\"64000000\",\"2100000\",\"168000000\",\"30000000\",\"1000000000\",\"10000000000\",\"35000000000\",\"98100000000\",\"0\",\"4000000000\",\"200000000\",\"7000000000\",\"54256119\",\"21000000\",\"0\",\"500000000\",\"1000000000\",\"10500000000\",\"190000000\",\"1000000000\",\"42000000\",\"15000000\",\"50000000000\",\"400000000\",\"105000000\",\"208000000\",\"160000000\",\"9000000\",\"5000000\",\"182000000\",\"16504333\",\"105000000\",\"159918400\",\"10008835635\",\"300000000\",\"60168145\",\"2800000\",\"120000\",\"2100000000\",\"210000000\",\"21000000\",\"0\",\"24487944\",\"0\",\"1000000000\",\"100000000000\",\"100000000\",\"8634140\",\"900000000\",\"990000000000\",\"11000000\",\"1000000000\",\"2000000000\",\"250000000\",\"1400222610\",\"21000000\",\"1000000\",\"100000000\"],\"TotalCoinsMined\":{\"__ndarray__\":\"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\",\"dtype\":\"float64\",\"order\":\"little\",\"shape\":[577]},\"class\":{\"__ndarray__\":\"AAAAAAAAAAAAAAAAAQAAAAEAAAABAAAAAAAAAAEAAAABAAAAAQAAAAAAAAABAAAAAAAAAAAAAAABAAAAAAAAAAEAAAABAAAAAAAAAAAAAAABAAAAAQAAAAEAAAABAAAAAQAAAAAAAAABAAAAAQAAAAEAAAAAAAAAAQAAAAAAAAABAAAAAQAAAAAAAAAAAAAAAQAAAAEAAAABAAAAAQAAAAEAAAABAAAAAAAAAAAAAAABAAAAAQAAAAEAAAABAAAAAQAAAAAAAAAAAAAAAQAAAAAAAAABAAAAAQAAAAEAAAABAAAAAAAAAAEAAAABAAAAAAAAAAEAAAAAAAAAAAAAAAAAAAABAAAAAQAAAAEAAAAAAAAAAAAAAAAAAAAAAAAAAAAAAAEAAAABAAAAAQAAAAAAAAAAAAAAAQAAAAAAAAABAAAAAAAAAAAAAAABAAAAAQAAAAEAAAABAAAAAAAAAAAAAAABAAAAAAAAAAEAAAABAAAAAAAAAAAAAAABAAAAAAAAAAAAAAABAAAAAQAAAAAAAAAAAAAAAQAAAAAAAAAAAAAAAQAAAAAAAAABAAAAAAAAAAEAAAAAAAAAAQAAAAAAAAAAAAAAAQAAAAEAAAAAAAAAAQAAAAEAAAABAAAAAAAAAAEAAAABAAAAAQAAAAEAAAABAAAAAAAAAAAAAAABAAAAAQAAAAEAAAAAAAAAAQAAAAAAAAABAAAAAQAAAAAAAAABAAAAAAAAAAEAAAAAAAAAAAAAAAEAAAABAAAAAAAAAAEAAAABAAAAAAAAAAAAAAABAAAAAAAAAAEAAAAAAAAAAAAAAAAAAAABAAAAAQAAAAEAAAABAAAAAAAAAAAAAAAAAAAAAAAAAAAAAAABAAAAAQAAAAEAAAAAAAAAAAAAAAAAAAAAAAAAAAAAAAEAAAAAAAAAAAAAAAAAAAAAAAAAAAAAAAEAAAAAAAAAAQAAAAAAAAAAAAAAAQAAAAAAAAABAAAAAAAAAAAAAAABAAAAAAAAAAEAAAAAAAAAAQAAAAAAAAABAAAAAAAAAAAAAAAAAAAAAAAAAAEAAAAAAAAAAAAAAAAAAAAAAAAAAAAAAAEAAAABAAAAAAAAAAAAAAABAAAAAQAAAAAAAAAAAAAAAAAAAAAAAAAAAAAAAQAAAAAAAAAAAAAAAAAAAAAAAAAAAAAAAAAAAAAAAAAAAAAAAQAAAAAAAAAAAAAAAAAAAAAAAAAAAAAAAAAAAAEAAAABAAAAAQAAAAAAAAAAAAAAAAAAAAAAAAABAAAAAAAAAAEAAAAAAAAAAAAAAAEAAAAAAAAAAQAAAAEAAAAAAAAAAQAAAAEAAAAAAAAAAQAAAAAAAAAAAAAAAAAAAAEAAAAAAAAAAAAAAAEAAAAAAAAAAAAAAAAAAAAAAAAAAAAAAAAAAAAAAAAAAQAAAAAAAAABAAAAAAAAAAAAAAAAAAAAAAAAAAEAAAAAAAAAAQAAAAAAAAABAAAAAQAAAAEAAAABAAAAAAAAAAEAAAAAAAAAAAAAAAEAAAAAAAAAAQAAAAEAAAABAAAAAAAAAAEAAAAAAAAAAQAAAAEAAAABAAAAAAAAAAEAAAAAAAAAAQAAAAAAAAAAAAAAAAAAAAEAAAAAAAAAAQAAAAEAAAABAAAAAQAAAAEAAAAAAAAAAAAAAAEAAAAAAAAAAAAAAAAAAAABAAAAAAAAAAEAAAAAAAAAAQAAAAAAAAABAAAAAAAAAAAAAAAAAAAAAAAAAAEAAAAAAAAAAAAAAAEAAAAAAAAAAAAAAAAAAAABAAAAAQAAAAEAAAABAAAAAAAAAAAAAAAAAAAAAAAAAAAAAAABAAAAAAAAAAEAAAABAAAAAQAAAAAAAAABAAAAAAAAAAEAAAABAAAAAAAAAAAAAAABAAAAAAAAAAEAAAABAAAAAAAAAAAAAAABAAAAAQAAAAAAAAABAAAAAQAAAAAAAAAAAAAAAAAAAAAAAAABAAAAAQAAAAEAAAAAAAAAAQAAAAEAAAAAAAAAAQAAAAEAAAAAAAAAAQAAAAAAAAABAAAAAAAAAAEAAAABAAAAAAAAAAMAAAADAAAAAQAAAAEAAAAAAAAAAAAAAAAAAAABAAAAAAAAAAMAAAAAAAAAAAAAAAAAAAAAAAAAAQAAAAEAAAABAAAAAQAAAAEAAAAAAAAAAQAAAAAAAAAAAAAAAAAAAAEAAAAAAAAAAQAAAAAAAAAAAAAAAAAAAAEAAAAAAAAAAQAAAAAAAAAAAAAAAQAAAAAAAAAAAAAAAQAAAAEAAAAAAAAAAQAAAAAAAAABAAAAAAAAAAAAAAABAAAAAAAAAAAAAAABAAAAAQAAAAAAAAAAAAAAAAAAAAAAAAABAAAAAAAAAAEAAAAAAAAAAAAAAAAAAAAAAAAAAAAAAAEAAAAAAAAAAAAAAAEAAAABAAAAAQAAAAAAAAAAAAAAAAAAAAAAAAAAAAAAAAAAAAAAAAABAAAAAQAAAAAAAAABAAAAAQAAAAEAAAABAAAAAQAAAAAAAAABAAAAAAAAAAAAAAAAAAAAAQAAAAAAAAAAAAAAAQAAAAAAAAAAAAAAAAAAAAAAAAABAAAAAwAAAAEAAAAAAAAAAQAAAAEAAAAAAAAAAQAAAAAAAAABAAAAAAAAAAAAAAABAAAAAAAAAAEAAAABAAAAAQAAAAEAAAABAAAAAQAAAAEAAAAAAAAAAQAAAAAAAAABAAAAAAAAAAAAAAABAAAAAQAAAAAAAAAAAAAAAAAAAAAAAAAAAAAAAQAAAAEAAAABAAAAAAAAAAAAAAABAAAAAAAAAAEAAAAAAAAAAQAAAAAAAAABAAAAAAAAAAAAAAAAAAAAAAAAAAEAAAAAAAAAAAAAAAAAAAABAAAAAAAAAAEAAAAAAAAAAQAAAAAAAAAAAAAAAAAAAAEAAAABAAAAAAAAAAAAAAAAAAAAAAAAAAAAAAAAAAAAAQAAAAAAAAABAAAAAQAAAAAAAAAAAAAAAQAAAAAAAAAAAAAAAAAAAAMAAAAAAAAAAAAAAAIAAAABAAAAAAAAAAAAAAAAAAAAAQAAAAEAAAAAAAAAAAAAAA==\",\"dtype\":\"int32\",\"order\":\"little\",\"shape\":[577]}},\"selected\":{\"id\":\"1837\"},\"selection_policy\":{\"id\":\"1886\"}},\"id\":\"1836\",\"type\":\"ColumnDataSource\"},{\"attributes\":{},\"id\":\"1838\",\"type\":\"StringFormatter\"},{\"attributes\":{\"margin\":[5,5,5,5],\"name\":\"HSpacer01739\",\"sizing_mode\":\"stretch_width\"},\"id\":\"1888\",\"type\":\"Spacer\"},{\"attributes\":{},\"id\":\"1839\",\"type\":\"StringEditor\"},{\"attributes\":{\"columns\":[{\"id\":\"1840\"},{\"id\":\"1845\"},{\"id\":\"1850\"},{\"id\":\"1855\"},{\"id\":\"1860\"},{\"id\":\"1865\"},{\"id\":\"1870\"},{\"id\":\"1875\"},{\"id\":\"1880\"}],\"height\":300,\"reorderable\":false,\"source\":{\"id\":\"1836\"},\"view\":{\"id\":\"1885\"},\"width\":700},\"id\":\"1883\",\"type\":\"DataTable\"},{\"attributes\":{\"format\":\"0,0.0[00000]\"},\"id\":\"1868\",\"type\":\"NumberFormatter\"},{\"attributes\":{},\"id\":\"1886\",\"type\":\"UnionRenderers\"},{\"attributes\":{\"format\":\"0,0.0[00000]\"},\"id\":\"1863\",\"type\":\"NumberFormatter\"},{\"attributes\":{},\"id\":\"1837\",\"type\":\"Selection\"},{\"attributes\":{},\"id\":\"1864\",\"type\":\"NumberEditor\"},{\"attributes\":{\"editor\":{\"id\":\"1839\"},\"field\":\"CoinName\",\"formatter\":{\"id\":\"1838\"},\"title\":\"CoinName\"},\"id\":\"1840\",\"type\":\"TableColumn\"},{\"attributes\":{\"children\":[{\"id\":\"1835\"},{\"id\":\"1883\"},{\"id\":\"1888\"}],\"margin\":[0,0,0,0],\"name\":\"Row01734\",\"tags\":[\"embedded\"]},\"id\":\"1834\",\"type\":\"Row\"},{\"attributes\":{\"editor\":{\"id\":\"1864\"},\"field\":\"PC_1\",\"formatter\":{\"id\":\"1863\"},\"title\":\"PC 1\"},\"id\":\"1865\",\"type\":\"TableColumn\"},{\"attributes\":{},\"id\":\"1869\",\"type\":\"NumberEditor\"},{\"attributes\":{\"editor\":{\"id\":\"1844\"},\"field\":\"Algorithm\",\"formatter\":{\"id\":\"1843\"},\"title\":\"Algorithm\"},\"id\":\"1845\",\"type\":\"TableColumn\"}],\"root_ids\":[\"1834\"]},\"title\":\"Bokeh Application\",\"version\":\"2.4.3\"}};\n",
       "    var render_items = [{\"docid\":\"2bc18535-0088-4a03-8929-fff49ed8acdc\",\"root_ids\":[\"1834\"],\"roots\":{\"1834\":\"d4f90081-7c60-46e6-a41a-e856d92111b6\"}}];\n",
       "    root.Bokeh.embed.embed_items_notebook(docs_json, render_items);\n",
       "  }\n",
       "  if (root.Bokeh !== undefined && root.Bokeh.Panel !== undefined) {\n",
       "    embed_document(root);\n",
       "  } else {\n",
       "    var attempts = 0;\n",
       "    var timer = setInterval(function(root) {\n",
       "      if (root.Bokeh !== undefined && root.Bokeh.Panel !== undefined) {\n",
       "        clearInterval(timer);\n",
       "        embed_document(root);\n",
       "      } else if (document.readyState == \"complete\") {\n",
       "        attempts++;\n",
       "        if (attempts > 200) {\n",
       "          clearInterval(timer);\n",
       "          console.log(\"Bokeh: ERROR: Unable to run BokehJS code because BokehJS library is missing\");\n",
       "        }\n",
       "      }\n",
       "    }, 25, root)\n",
       "  }\n",
       "})(window);</script>"
      ],
      "text/plain": [
       ":Table   [CoinName,Algorithm,ProofType,TotalCoinsMined,TotalCoinSupply,PC 1,PC 2,PC 3,class]"
      ]
     },
     "execution_count": 77,
     "metadata": {
      "application/vnd.holoviews_exec.v0+json": {
       "id": "1834"
      }
     },
     "output_type": "execute_result"
    }
   ],
   "source": [
    "# Create a table with tradable cryptocurrencies.\n",
    "clustered_df.hvplot.table(sortable=True, selectable=True,color='red')"
   ]
  },
  {
   "cell_type": "code",
   "execution_count": 83,
   "metadata": {},
   "outputs": [
    {
     "name": "stdout",
     "output_type": "stream",
     "text": [
      "There are 577 tradable cryptocurrencies\n"
     ]
    }
   ],
   "source": [
    "# Print the total number of tradable cryptocurrencies.\n",
    "print(f\"There are {len(clustered_df)} tradable cryptocurrencies\")"
   ]
  },
  {
   "cell_type": "code",
   "execution_count": 106,
   "metadata": {},
   "outputs": [
    {
     "data": {
      "text/plain": [
       "array([[4.20000000e-11, 0.00000000e+00],\n",
       "       [5.32000000e-04, 1.06585544e-03],\n",
       "       [3.14159265e-01, 2.95755135e-02],\n",
       "       ...,\n",
       "       [2.10000000e-05, 7.37028150e-06],\n",
       "       [1.00000000e-06, 1.29582282e-07],\n",
       "       [1.00000000e-04, 2.17085015e-05]])"
      ]
     },
     "execution_count": 106,
     "metadata": {},
     "output_type": "execute_result"
    }
   ],
   "source": [
    "# Scaling data to create the scatter plot with tradable cryptocurrencies.\n",
    "scale = MinMaxScaler()\n",
    "clustered_scaled = scale.fit_transform(clustered_df[['TotalCoinSupply','TotalCoinsMined']])\n",
    "clustered_scaled"
   ]
  },
  {
   "cell_type": "code",
   "execution_count": 107,
   "metadata": {},
   "outputs": [
    {
     "data": {
      "text/html": [
       "<div>\n",
       "<style scoped>\n",
       "    .dataframe tbody tr th:only-of-type {\n",
       "        vertical-align: middle;\n",
       "    }\n",
       "\n",
       "    .dataframe tbody tr th {\n",
       "        vertical-align: top;\n",
       "    }\n",
       "\n",
       "    .dataframe thead th {\n",
       "        text-align: right;\n",
       "    }\n",
       "</style>\n",
       "<table border=\"1\" class=\"dataframe\">\n",
       "  <thead>\n",
       "    <tr style=\"text-align: right;\">\n",
       "      <th></th>\n",
       "      <th>TotalCoinSupply</th>\n",
       "      <th>TotalCoinsMined</th>\n",
       "      <th>CoinName</th>\n",
       "      <th>class</th>\n",
       "    </tr>\n",
       "  </thead>\n",
       "  <tbody>\n",
       "    <tr>\n",
       "      <th>42</th>\n",
       "      <td>42</td>\n",
       "      <td>4.199995e+01</td>\n",
       "      <td>42 Coin</td>\n",
       "      <td>0</td>\n",
       "    </tr>\n",
       "    <tr>\n",
       "      <th>404</th>\n",
       "      <td>532000000</td>\n",
       "      <td>1.055185e+09</td>\n",
       "      <td>404Coin</td>\n",
       "      <td>0</td>\n",
       "    </tr>\n",
       "    <tr>\n",
       "      <th>1337</th>\n",
       "      <td>314159265359</td>\n",
       "      <td>2.927942e+10</td>\n",
       "      <td>EliteCoin</td>\n",
       "      <td>0</td>\n",
       "    </tr>\n",
       "    <tr>\n",
       "      <th>BTC</th>\n",
       "      <td>21000000</td>\n",
       "      <td>1.792718e+07</td>\n",
       "      <td>Bitcoin</td>\n",
       "      <td>1</td>\n",
       "    </tr>\n",
       "    <tr>\n",
       "      <th>ETH</th>\n",
       "      <td>0</td>\n",
       "      <td>1.076842e+08</td>\n",
       "      <td>Ethereum</td>\n",
       "      <td>1</td>\n",
       "    </tr>\n",
       "    <tr>\n",
       "      <th>LTC</th>\n",
       "      <td>84000000</td>\n",
       "      <td>6.303924e+07</td>\n",
       "      <td>Litecoin</td>\n",
       "      <td>1</td>\n",
       "    </tr>\n",
       "    <tr>\n",
       "      <th>DASH</th>\n",
       "      <td>22000000</td>\n",
       "      <td>9.031294e+06</td>\n",
       "      <td>Dash</td>\n",
       "      <td>0</td>\n",
       "    </tr>\n",
       "    <tr>\n",
       "      <th>XMR</th>\n",
       "      <td>0</td>\n",
       "      <td>1.720114e+07</td>\n",
       "      <td>Monero</td>\n",
       "      <td>1</td>\n",
       "    </tr>\n",
       "    <tr>\n",
       "      <th>ETC</th>\n",
       "      <td>210000000</td>\n",
       "      <td>1.133597e+08</td>\n",
       "      <td>Ethereum Classic</td>\n",
       "      <td>1</td>\n",
       "    </tr>\n",
       "    <tr>\n",
       "      <th>ZEC</th>\n",
       "      <td>21000000</td>\n",
       "      <td>7.383056e+06</td>\n",
       "      <td>ZCash</td>\n",
       "      <td>1</td>\n",
       "    </tr>\n",
       "  </tbody>\n",
       "</table>\n",
       "</div>"
      ],
      "text/plain": [
       "     TotalCoinSupply  TotalCoinsMined          CoinName  class\n",
       "42                42     4.199995e+01           42 Coin      0\n",
       "404        532000000     1.055185e+09           404Coin      0\n",
       "1337    314159265359     2.927942e+10         EliteCoin      0\n",
       "BTC         21000000     1.792718e+07           Bitcoin      1\n",
       "ETH                0     1.076842e+08          Ethereum      1\n",
       "LTC         84000000     6.303924e+07          Litecoin      1\n",
       "DASH        22000000     9.031294e+06              Dash      0\n",
       "XMR                0     1.720114e+07            Monero      1\n",
       "ETC        210000000     1.133597e+08  Ethereum Classic      1\n",
       "ZEC         21000000     7.383056e+06             ZCash      1"
      ]
     },
     "execution_count": 107,
     "metadata": {},
     "output_type": "execute_result"
    }
   ],
   "source": [
    "# Create a new DataFrame that has the scaled data with the clustered_df DataFrame index.\n",
    "# YOUR CODE HERE\n",
    "new_df = pd.DataFrame(\n",
    "data=clustered_df, columns=['TotalCoinSupply','TotalCoinsMined'], index=clustered_df.index)\n",
    "# Add the \"CoinName\" column from the clustered_df DataFrame to the new DataFrame.\n",
    "new_df['CoinName'] = clustered_df['CoinName']\n",
    "# Add the \"Class\" column from the clustered_df DataFrame to the new DataFrame. \n",
    "new_df['class'] = clustered_df['class']\n",
    "new_df.head(10)\n"
   ]
  },
  {
   "cell_type": "code",
   "execution_count": null,
   "metadata": {},
   "outputs": [],
   "source": [
    "# Create a hvplot.scatter plot using x=\"TotalCoinsMined\" and y=\"TotalCoinSupply\".\n",
    "# YOUR CODE HERE\n"
   ]
  },
  {
   "cell_type": "code",
   "execution_count": null,
   "metadata": {},
   "outputs": [],
   "source": []
  }
 ],
 "metadata": {
  "file_extension": ".py",
  "kernelspec": {
   "display_name": "Python 3 (ipykernel)",
   "language": "python",
   "name": "python3"
  },
  "language_info": {
   "codemirror_mode": {
    "name": "ipython",
    "version": 3
   },
   "file_extension": ".py",
   "mimetype": "text/x-python",
   "name": "python",
   "nbconvert_exporter": "python",
   "pygments_lexer": "ipython3",
   "version": "3.7.13"
  },
  "latex_envs": {
   "LaTeX_envs_menu_present": true,
   "autoclose": false,
   "autocomplete": true,
   "bibliofile": "biblio.bib",
   "cite_by": "apalike",
   "current_citInitial": 1,
   "eqLabelWithNumbers": true,
   "eqNumInitial": 1,
   "hotkeys": {
    "equation": "Ctrl-E",
    "itemize": "Ctrl-I"
   },
   "labels_anchors": false,
   "latex_user_defs": false,
   "report_style_numbering": false,
   "user_envs_cfg": false
  },
  "mimetype": "text/x-python",
  "name": "python",
  "npconvert_exporter": "python",
  "pygments_lexer": "ipython3",
  "version": 3
 },
 "nbformat": 4,
 "nbformat_minor": 2
}
